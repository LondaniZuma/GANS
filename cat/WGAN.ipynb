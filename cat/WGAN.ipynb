{
 "cells": [
  {
   "cell_type": "code",
   "execution_count": 26,
   "id": "493883d9-dcde-410e-aeba-f1b47a5a83f4",
   "metadata": {},
   "outputs": [],
   "source": [
    "import argparse\n",
    "parser = argparse.ArgumentParser()\n",
    "parser.add_argument('--image_size', type=int, default=64)\n",
    "parser.add_argument('--batch_size', type=int, default=64) # DCGAN paper original value used 128\n",
    "parser.add_argument('--n_colors', type=int, default=3)\n",
    "parser.add_argument('--z_size', type=int, default=100) # DCGAN paper original value\n",
    "parser.add_argument('--G_h_size', type=int, default=64, help='Number of hidden nodes in the Generator. Too small leads to bad results, too big blows up the GPU RAM.') # DCGAN paper original value\n",
    "parser.add_argument('--D_h_size', type=int, default=64, help='Number of hidden nodes in the Discriminator. Too small leads to bad results, too big blows up the GPU RAM.') # DCGAN paper original value\n",
    "parser.add_argument('--lr_D', type=float, default=.00005, help='Discriminator learning rate') # 1/4 of DCGAN paper original value\n",
    "parser.add_argument('--lr_G', type=float, default=.00005, help='Generator learning rate') # DCGAN paper original value\n",
    "parser.add_argument('--n_epoch', type=int, default=500000)\n",
    "parser.add_argument('--beta1', type=float, default=0.5, help='Adam betas[0], DCGAN paper recommends .50 instead of the usual .90')\n",
    "parser.add_argument('--SELU', type=bool, default=False, help='Using scaled exponential linear units (SELU) which are self-normalizing instead of ReLU with BatchNorm. This improves stability.')\n",
    "parser.add_argument('--seed', type=int)\n",
    "parser.add_argument('--input_folder', default='./cats_bigger_than_64x64/', help='input folder')\n",
    "parser.add_argument('--output_folder', default='WGAN_output', help='output folder')\n",
    "parser.add_argument('--G_load', default='', help='Full path to Generator model to load (ex: /home/output_folder/run-5/models/G_epoch_11.pth)')\n",
    "parser.add_argument('--D_load', default='', help='Full path to Discriminator model to load (ex: /home/output_folder/run-5/models/D_epoch_11.pth)')\n",
    "parser.add_argument('--cuda', type=bool, default=True, help='enables cuda')\n",
    "parser.add_argument('--n_gpu', type=int, default=1, help='number of GPUs to use')\n",
    "parser.add_argument('--n_workers', type=int, default=2, help='Number of subprocess to use to load the data. Use at least 2 or the number of cpu cores - 1.')\n",
    "parser.add_argument('--weight_decay', type=float, default=0, help='L2 regularization weight. Greatly helps convergence but leads to artifacts in images, not recommended.')\n",
    "parser.add_argument('--gen_extra_images', type=int, default=0, help='Every epoch, generate additional images with \"batch_size\" random fake cats.')\n",
    "parser.add_argument('--n_critic', type=int, default=5, help='Number of training with D before training G') # WGAN original value\n",
    "parser.add_argument('--clip', type=float, default=.01, help='Clipping value') # WGAN original value\n",
    "# param, unknown = parser.parse_known_args()\n",
    "args, unknown = parser.parse_known_args()\n",
    "\n"
   ]
  },
  {
   "cell_type": "code",
   "execution_count": 27,
   "id": "de5f71ba-3654-4238-b5ba-cc5f0d95fc18",
   "metadata": {},
   "outputs": [
    {
     "data": {
      "text/html": [
       "Finishing last run (ID:1risr4dh) before initializing another..."
      ],
      "text/plain": [
       "<IPython.core.display.HTML object>"
      ]
     },
     "metadata": {},
     "output_type": "display_data"
    },
    {
     "data": {
      "text/html": [
       "Waiting for W&B process to finish... <strong style=\"color:green\">(success).</strong>"
      ],
      "text/plain": [
       "<IPython.core.display.HTML object>"
      ]
     },
     "metadata": {},
     "output_type": "display_data"
    },
    {
     "data": {
      "application/vnd.jupyter.widget-view+json": {
       "model_id": "",
       "version_major": 2,
       "version_minor": 0
      },
      "text/plain": [
       "VBox(children=(Label(value='1502.484 MB of 1502.484 MB uploaded (0.000 MB deduped)\\r'), FloatProgress(value=1.…"
      ]
     },
     "metadata": {},
     "output_type": "display_data"
    },
    {
     "data": {
      "text/html": [
       "<style>\n",
       "    table.wandb td:nth-child(1) { padding: 0 10px; text-align: left ; width: auto;} td:nth-child(2) {text-align: left ; width: 100%}\n",
       "    .wandb-row { display: flex; flex-direction: row; flex-wrap: wrap; justify-content: flex-start; width: 100% }\n",
       "    .wandb-col { display: flex; flex-direction: column; flex-basis: 100%; flex: 1; padding: 10px; }\n",
       "    </style>\n",
       "<div class=\"wandb-row\"><div class=\"wandb-col\"><h3>Run history:</h3><br/><table class=\"wandb\"><tr><td>Random</td><td>▁</td></tr><tr><td>train/errD</td><td>▄▂▅▄▆▆▆▅▁▅█▆▇▆▄▇▆▅▆▃▆▆▇▅▇▃▄▅▆▃▄▇▆█▇▆▅▆█▆</td></tr><tr><td>train/errG</td><td>▅▇▅▇▅▅▅▄█▆▁▅▂▄▆▄▅▅▅▇▅▄▄▆▄▇▇▅▅█▆▅▆▃▄▅▅▇▂▄</td></tr></table><br/></div><div class=\"wandb-col\"><h3>Run summary:</h3><br/><table class=\"wandb\"><tr><td>Random</td><td>1996</td></tr><tr><td>train/errD</td><td>-0.00328</td></tr><tr><td>train/errG</td><td>0.8192</td></tr></table><br/></div></div>"
      ],
      "text/plain": [
       "<IPython.core.display.HTML object>"
      ]
     },
     "metadata": {},
     "output_type": "display_data"
    },
    {
     "data": {
      "text/html": [
       "Synced <strong style=\"color:#cdcd00\">swept-lion-2</strong>: <a href=\"https://wandb.ai/londaniteam/cat-generation-WGAN/runs/1risr4dh\" target=\"_blank\">https://wandb.ai/londaniteam/cat-generation-WGAN/runs/1risr4dh</a><br/>Synced 6 W&B file(s), 1 media file(s), 124 artifact file(s) and 0 other file(s)"
      ],
      "text/plain": [
       "<IPython.core.display.HTML object>"
      ]
     },
     "metadata": {},
     "output_type": "display_data"
    },
    {
     "data": {
      "text/html": [
       "Find logs at: <code>./wandb/run-20220619_093942-1risr4dh/logs</code>"
      ],
      "text/plain": [
       "<IPython.core.display.HTML object>"
      ]
     },
     "metadata": {},
     "output_type": "display_data"
    },
    {
     "data": {
      "text/html": [
       "Successfully finished last run (ID:1risr4dh). Initializing new run:<br/>"
      ],
      "text/plain": [
       "<IPython.core.display.HTML object>"
      ]
     },
     "metadata": {},
     "output_type": "display_data"
    },
    {
     "data": {
      "text/html": [
       "Tracking run with wandb version 0.12.18"
      ],
      "text/plain": [
       "<IPython.core.display.HTML object>"
      ]
     },
     "metadata": {},
     "output_type": "display_data"
    },
    {
     "data": {
      "text/html": [
       "Run data is saved locally in <code>/home/jovyan/GANS/cat/wandb/run-20220619_212325-1201bvnc</code>"
      ],
      "text/plain": [
       "<IPython.core.display.HTML object>"
      ]
     },
     "metadata": {},
     "output_type": "display_data"
    },
    {
     "data": {
      "text/html": [
       "Syncing run <strong><a href=\"https://wandb.ai/londaniteam/cat-generation-WGAN/runs/1201bvnc\" target=\"_blank\">eternal-cosmos-2</a></strong> to <a href=\"https://wandb.ai/londaniteam/cat-generation-WGAN\" target=\"_blank\">Weights & Biases</a> (<a href=\"https://wandb.me/run\" target=\"_blank\">docs</a>)<br/>"
      ],
      "text/plain": [
       "<IPython.core.display.HTML object>"
      ]
     },
     "metadata": {},
     "output_type": "display_data"
    },
    {
     "name": "stdout",
     "output_type": "stream",
     "text": [
      "{'architecture': 'WGAN', 'image_size': 64, 'batch_size': 64, 'n_colors': 3, 'z_size': 100, 'G_h_size': 64, 'D_h_size': 64, 'lr_D': 5e-05, 'lr_G': 5e-05, 'n_epoch': 500000, 'beta1': 0.5, 'SELU': False, 'seed': None, 'input_folder': './cats_bigger_than_64x64/', 'output_folder': 'WGAN_output', 'G_load': '', 'D_load': '', 'cuda': True, 'n_gpu': 1, 'n_workers': 2, 'weight_decay': 0, 'gen_extra_images': 0, 'n_critic': 5, 'clip': 0.01}\n"
     ]
    }
   ],
   "source": [
    "wb_run = wandb.init(project=\"cat-generation-WGAN\",config={\"architecture\": \"WGAN\"})\n",
    "wandb.config.update(args) # adds all of the arguments as config variables\n",
    "param = wandb.config\n",
    "\n",
    "print(param)"
   ]
  },
  {
   "cell_type": "code",
   "execution_count": 14,
   "id": "5c020599-df83-4f93-9e85-c039f21c297f",
   "metadata": {},
   "outputs": [],
   "source": [
    "# !pip install wandb -qqq\n",
    "# import wandb"
   ]
  },
  {
   "cell_type": "code",
   "execution_count": 20,
   "id": "ca72f3b7-0b0e-47c4-96e2-a6b5de2200de",
   "metadata": {},
   "outputs": [],
   "source": [
    "# wandb.login()"
   ]
  },
  {
   "cell_type": "code",
   "execution_count": 28,
   "id": "bf7d423f-2d28-453b-80d7-f1f6f468c66f",
   "metadata": {},
   "outputs": [
    {
     "name": "stdout",
     "output_type": "stream",
     "text": [
      "Random Seed: 9335\n"
     ]
    }
   ],
   "source": [
    "## Imports\n",
    "\n",
    "import time\n",
    "start = time.time()\n",
    "import os\n",
    "run=0\n",
    "base_dir = f\"{param.output_folder}/run-{run}/\"\n",
    "while os.path.exists(base_dir):\n",
    "    run+=1\n",
    "    base_dir = f\"{param.output_folder}/run-{run}\"\n",
    "os.makedirs(base_dir)\n",
    "# logs_dir = f\"{base_dir}/logs\"\n",
    "# os.makedirs(logs_dir)\n",
    "# os.makedirs(f\"{base_dir}/images\")\n",
    "os.makedirs(f\"{base_dir}/models\")\n",
    "# if param.gen_extra_images>0:\n",
    "#     os.makedirs(f\"{base_dir}/images/extra/\")\n",
    "    \n",
    "# log_output = open(f\"{logs_dir}/log.txt\",'w')\n",
    "# print(param)\n",
    "# print(param,file=log_output)\n",
    "\n",
    "import torch\n",
    "import torch.autograd as autograd\n",
    "from torch.autograd import Variable\n",
    "\n",
    "# from tensorboard_logger import configure,log_value\n",
    "# configure(logs_dir,flush_secs=5)\n",
    "\n",
    "import torchvision\n",
    "import torchvision.datasets as dset\n",
    "import torchvision.transforms as transf\n",
    "import torchvision.models as models\n",
    "import torchvision.utils as vutils\n",
    "from torch.utils.data import Dataset\n",
    "from natsort import natsorted\n",
    "# from PIL import Image\n",
    "import PIL\n",
    "import imageio as iio\n",
    "\n",
    "device = torch.device(\"cuda\" if torch.cuda.is_available() else \"cpu\")\n",
    "\n",
    "if param.cuda:\n",
    "    import torch.backends.cudnn as cudnn\n",
    "    cudnn.benchmark = True\n",
    "    \n",
    "from IPython.display import Image\n",
    "to_img = transf.ToPILImage()\n",
    "\n",
    "import math\n",
    "\n",
    "import random\n",
    "param.seed = param.seed or random.randint(1,10000)\n",
    "print(f\"Random Seed: {param.seed}\")\n",
    "wandb.log({\"Random\": param.seed})\n",
    "# print(f\"Random Seed: {param.seed}\")\n",
    "# print(f\"Random Seed: {param.seed}\",file=log_output)\n",
    "random.seed(param.seed)\n",
    "torch.manual_seed(param.seed)\n",
    "\n",
    "if param.cuda:\n",
    "    torch.cuda.manual_seed_all(param.seed)\n",
    "    \n",
    "## Transforming images\n",
    "trans = transf.Compose([\n",
    "    transf.Resize((param.image_size,param.image_size)),\n",
    "    # This makes it into [0,1]\n",
    "    transf.ToTensor(),\n",
    "    # This makes it into [-1,1] so tanh will work properply\n",
    "    transf.Normalize(mean = [0.5, 0.5, 0.5], std = [0.5, 0.5, 0.5])\n",
    "])\n",
    "\n",
    "class CustomDataSet(Dataset):\n",
    "    def __init__(self, main_dir, transform):\n",
    "        self.main_dir = main_dir\n",
    "        self.transform = transform\n",
    "        all_imgs = os.listdir(main_dir)\n",
    "        self.total_imgs = natsorted(all_imgs)\n",
    "\n",
    "    def __len__(self):\n",
    "        return len(self.total_imgs)\n",
    "\n",
    "    def __getitem__(self, idx):\n",
    "        img_loc = os.path.join(self.main_dir, self.total_imgs[idx])\n",
    "        image = PIL.Image.open(img_loc).convert(\"RGB\")\n",
    "        # image = iio.imread(img_loc)\n",
    "        tensor_image = self.transform(image)\n",
    "        return tensor_image\n",
    "    \n",
    "my_dataset = CustomDataSet(param.input_folder, transform=trans)\n",
    "dataset = torch.utils.data.DataLoader(my_dataset , batch_size=param.batch_size, shuffle=True, \n",
    "                               num_workers=param.n_workers)"
   ]
  },
  {
   "cell_type": "code",
   "execution_count": 29,
   "id": "6bbc3148-4b8c-435b-94fd-f4bd5734cb44",
   "metadata": {},
   "outputs": [
    {
     "data": {
      "text/plain": [
       "146"
      ]
     },
     "execution_count": 29,
     "metadata": {},
     "output_type": "execute_result"
    }
   ],
   "source": [
    "len(dataset)"
   ]
  },
  {
   "cell_type": "code",
   "execution_count": 30,
   "id": "7236074b-8ecf-42ba-875a-94a928a53a1e",
   "metadata": {},
   "outputs": [],
   "source": [
    "# !pip install natsort"
   ]
  },
  {
   "cell_type": "code",
   "execution_count": 31,
   "id": "8d790844-3917-4481-8e8a-09ed7b103890",
   "metadata": {},
   "outputs": [],
   "source": [
    "# !pip install tensorboard_logger\n",
    "# !pip install natsort"
   ]
  },
  {
   "cell_type": "code",
   "execution_count": 32,
   "id": "5f1f3556-7a06-4182-b2e9-95a7b660ac30",
   "metadata": {},
   "outputs": [
    {
     "name": "stdout",
     "output_type": "stream",
     "text": [
      "DCGAN_G(\n",
      "  (main): Sequential(\n",
      "    (Start-ConvTranspose2d): ConvTranspose2d(100, 512, kernel_size=(4, 4), stride=(1, 1), bias=False)\n",
      "    (Start-BatchNorm2d): BatchNorm2d(512, eps=1e-05, momentum=0.1, affine=True, track_running_stats=True)\n",
      "    (Start-ReLU): ReLU()\n",
      "    (Middle-ConvTranspose2d [1]): ConvTranspose2d(512, 256, kernel_size=(4, 4), stride=(2, 2), padding=(1, 1), bias=False)\n",
      "    (Middle-BatchNorm2d [1]): BatchNorm2d(256, eps=1e-05, momentum=0.1, affine=True, track_running_stats=True)\n",
      "    (Middle-ReLU [1]): ReLU(inplace=True)\n",
      "    (Middle-ConvTranspose2d [2]): ConvTranspose2d(256, 128, kernel_size=(4, 4), stride=(2, 2), padding=(1, 1), bias=False)\n",
      "    (Middle-BatchNorm2d [2]): BatchNorm2d(128, eps=1e-05, momentum=0.1, affine=True, track_running_stats=True)\n",
      "    (Middle-ReLU [2]): ReLU(inplace=True)\n",
      "    (Middle-ConvTranspose2d [3]): ConvTranspose2d(128, 64, kernel_size=(4, 4), stride=(2, 2), padding=(1, 1), bias=False)\n",
      "    (Middle-BatchNorm2d [3]): BatchNorm2d(64, eps=1e-05, momentum=0.1, affine=True, track_running_stats=True)\n",
      "    (Middle-ReLU [3]): ReLU(inplace=True)\n",
      "    (End-ConvTransposed2d): ConvTranspose2d(64, 3, kernel_size=(4, 4), stride=(2, 2), padding=(1, 1), bias=False)\n",
      "    (End-Tanh): Tanh()\n",
      "  )\n",
      ")\n",
      "DCGAN_D(\n",
      "  (main): Sequential(\n",
      "    (Start-conv2d): Conv2d(3, 64, kernel_size=(4, 4), stride=(2, 2), padding=(1, 1), bias=False)\n",
      "    (Start-LeakyReLU): LeakyReLU(negative_slope=0.2, inplace=True)\n",
      "    (Middle-Conv2d [0]): Conv2d(64, 128, kernel_size=(4, 4), stride=(2, 2), padding=(1, 1), bias=False)\n",
      "    (Middle-BatchNorm2d [0]): BatchNorm2d(128, eps=1e-05, momentum=0.1, affine=True, track_running_stats=True)\n",
      "    (Middle-LeakyReLU [0]): LeakyReLU(negative_slope=0.2, inplace=True)\n",
      "    (Middle-Conv2d [1]): Conv2d(128, 256, kernel_size=(4, 4), stride=(2, 2), padding=(1, 1), bias=False)\n",
      "    (Middle-BatchNorm2d [1]): BatchNorm2d(256, eps=1e-05, momentum=0.1, affine=True, track_running_stats=True)\n",
      "    (Middle-LeakyReLU [1]): LeakyReLU(negative_slope=0.2, inplace=True)\n",
      "    (Middle-Conv2d [2]): Conv2d(256, 512, kernel_size=(4, 4), stride=(2, 2), padding=(1, 1), bias=False)\n",
      "    (Middle-BatchNorm2d [2]): BatchNorm2d(512, eps=1e-05, momentum=0.1, affine=True, track_running_stats=True)\n",
      "    (Middle-LeakyReLU [2]): LeakyReLU(negative_slope=0.2, inplace=True)\n",
      "    (End-Conv2d): Conv2d(512, 1, kernel_size=(4, 4), stride=(1, 1), bias=False)\n",
      "  )\n",
      ")\n"
     ]
    }
   ],
   "source": [
    "## Models\n",
    "# The number of layers is implicitly determined by the image size\n",
    "# image_size = (4,8,16,32,64,128,256, 512, 1024) leads to n_layers = (1,2,3,4,5,6,7,8,9)\n",
    "\n",
    "# The more layers the bigger the neural get so it's best to decrease D_h_size and D_h_size when the image input is bigger\n",
    "\n",
    "# DCGAN generator\n",
    "class DCGAN_G(torch.nn.Module):\n",
    "    def __init__(self):\n",
    "        super(DCGAN_G,self).__init__()\n",
    "        main = torch.nn.Sequential()\n",
    "        \n",
    "        # We need to know how many layers we will use at the beginning\n",
    "        mult = param.image_size // 8\n",
    "        \n",
    "        \n",
    "        ### Start block\n",
    "        # Z_size random numbers\n",
    "        main.add_module('Start-ConvTranspose2d',torch.nn.ConvTranspose2d(param.z_size,param.G_h_size*mult,kernel_size=4,stride=1,padding=0,bias=False))\n",
    "        if param.SELU:\n",
    "            main.add_module('Start-SELU',torch.nn.SELU(inplace=True))\n",
    "        else:\n",
    "            main.add_module('Start-BatchNorm2d',torch.nn.BatchNorm2d(param.G_h_size*mult))\n",
    "            main.add_module('Start-ReLU',torch.nn.ReLU())\n",
    "        # Size = (G_h_size * mult)x 4 x4\n",
    "        \n",
    "        ### Middle block (Done until we reach  ? x image_size/2 x image_size/2)\n",
    "        i=1\n",
    "        while mult>1:\n",
    "            main.add_module('Middle-ConvTranspose2d [%d]'%i, torch.nn.ConvTranspose2d(param.G_h_size*mult,param.G_h_size*(mult//2),kernel_size=4,stride=2,padding=1,bias=False))\n",
    "            if param.SELU:\n",
    "                main.add_module('Middle-SELU [%d]'%i,torch.nn.SELU(inplace=True))\n",
    "            else:\n",
    "                main.add_module('Middle-BatchNorm2d [%d]'%i,torch.nn.BatchNorm2d(param.G_h_size*(mult//2)))\n",
    "                # main.add_module('Middle_ReLU [$d]'%i,torch.nn.SELU(inplace=True))\n",
    "                main.add_module('Middle-ReLU [%d]' % i, torch.nn.ReLU(inplace=True))\n",
    "            # Size = (G_h_size * (mult/(2*i)))x8x8\n",
    "            mult = mult // 2\n",
    "            i+=1\n",
    "        \n",
    "        ### End block\n",
    "        # Size = G_h_size/2 x image_size/2\n",
    "        main.add_module('End-ConvTransposed2d', torch.nn.ConvTranspose2d(param.G_h_size,param.n_colors,kernel_size=4,stride=2,padding=1,bias=False))\n",
    "        main.add_module('End-Tanh',torch.nn.Tanh())\n",
    "        # Size = n_colors x image_size x image_size\n",
    "        self.main = main\n",
    "    \n",
    "    def forward(self,input):\n",
    "        if isinstance(input.data,torch.cuda.FloatTensor) and param.n_gpu>1:\n",
    "            output = torch.nn.parallel.data_parallel(self.main,input,range(param.n_gpu))\n",
    "        else:\n",
    "            output = self.main(input)\n",
    "        return output\n",
    "# DCGAN discriminator ( using somewhat the reverse of the generator)\n",
    "class DCGAN_D(torch.nn.Module):\n",
    "    def __init__(self):\n",
    "        super(DCGAN_D,self).__init__()\n",
    "        main = torch.nn.Sequential()\n",
    "        \n",
    "        ### start block\n",
    "        # size = n_colors x image_size x image_size\n",
    "        main.add_module('Start-conv2d',torch.nn.Conv2d(param.n_colors,param.D_h_size,kernel_size=4,stride=2,padding=1,bias=False))\n",
    "        if param.SELU:\n",
    "            main.add_module('Start-SELU',torch.nn.SELU(inplace=True))\n",
    "        else:\n",
    "            main.add_module('Start-LeakyReLU',torch.nn.LeakyReLU(0.2,inplace=True))\n",
    "        image_size_new = param.image_size // 2\n",
    "        # Size = D_h_size x image_size/2 x image_size/2\n",
    "        \n",
    "        ### Middle block (Done until we reach ? x 4 x4)\n",
    "        mult = 1\n",
    "        i=0\n",
    "        while image_size_new>4:\n",
    "            main.add_module('Middle-Conv2d [%d]'%i,torch.nn.Conv2d(param.D_h_size*mult,param.D_h_size*(2*mult),kernel_size=4,stride=2,padding=1,bias=False))\n",
    "            if param.SELU:\n",
    "                main.add_module('Middle-SELU [%d]'%i,torch.nn.SELU(inplace=True))\n",
    "            else:\n",
    "                main.add_module('Middle-BatchNorm2d [%d]'%i,torch.nn.BatchNorm2d(param.D_h_size*(2*mult)))\n",
    "                main.add_module('Middle-LeakyReLU [%d]'%i,torch.nn.LeakyReLU(0.2,inplace=True))\n",
    "            # Size = (D_h_size*(2*i)) x image_size/(2*i) x image_size/(2*i)\n",
    "            image_size_new = image_size_new // 2\n",
    "            mult *=2\n",
    "            i +=1\n",
    "            \n",
    "        ## End Block\n",
    "        # size = (D_h_size*mult) x 4 x4\n",
    "        main.add_module('End-Conv2d',torch.nn.Conv2d(param.D_h_size*mult,1,kernel_size=4,stride=1,padding=0,bias=False))\n",
    "        # main.add_module('Sigmoid',torch.nn.Sigmoid())\n",
    "        # Note: No more sigmoid in WGAN, we take the mean now\n",
    "        # size = 1 x1 x1 (Is a real cat or not)\n",
    "        self.main = main\n",
    "    def forward(self,input):\n",
    "        if isinstance(input.data,torch.cuda.FloatTensor) and param.n_gpu>1:\n",
    "            output = torch.nn.parallel.data_parallel(self.main,input,range(param.n_gpu))\n",
    "        else:\n",
    "            output = self.main(input)\n",
    "        # Convert from 1 x 1 x 1 to 1 so that we can compare to given label (cat or not?)\n",
    "        output = output.mean(0)\n",
    "        return output.view(1)\n",
    "        \n",
    "## weights init function, DCGAN use 0.02 std\n",
    "def weights_init(m):\n",
    "    classname = m.__class__.__name__\n",
    "    if classname.find('Conv') != -1:\n",
    "        m.weight.data.normal_(0.0,0.02)\n",
    "    elif classname.find('BatchNorm') != -1:\n",
    "        # estimate variance, must be around 1\n",
    "        m.weight.data.normal_(1.0,0.02)\n",
    "        # estimate mean, must be around 0\n",
    "        m.bias.data.fill_(0)\n",
    "        \n",
    "# Init\n",
    "G = DCGAN_G()\n",
    "D = DCGAN_D()\n",
    "\n",
    "G.apply(weights_init)\n",
    "D.apply(weights_init)\n",
    "\n",
    "# Load existing models\n",
    "if param.G_load !='':\n",
    "    G.load_state_dict(torch.load(param.G_load))\n",
    "if param.D_load !='':\n",
    "    D.load_state_dict(torch.load(param.D_load))\n",
    "    \n",
    "print(G)\n",
    "# print(G,file=log_output)\n",
    "print(D)\n",
    "# print(D,file=log_output)\n",
    "\n",
    "# criterion\n",
    "# criterion = torch.nn.BCELoss()\n",
    "\n",
    "z_test = torch.FloatTensor(param.batch_size,param.z_size,1,1).normal_(0,1)\n",
    "one = torch.FloatTensor([1])\n",
    "one_neg = one * -1\n",
    "\n",
    "# Everthing cuda\n",
    "\n",
    "G = G.to(device)\n",
    "D = D.to(device)\n",
    "# criterion = criterion.to(device)\n",
    "z_test = z_test.to(device)\n",
    "one = one.to(device)\n",
    "one_neg = one_neg.to(device)\n",
    "\n",
    "# Based on DCGAN paper, they found using betas[0]=0.50 better.\n",
    "# betas[0] represent is the weight given to the previous mean of the gradient\n",
    "# betas[1] is the weight given to the previous variance of the gradient\n",
    "# Optimizer\n",
    "optimizerD = torch.optim.RMSprop(D.parameters(), lr=param.lr_D)\n",
    "optimizerG = torch.optim.RMSprop(G.parameters(), lr=param.lr_G)"
   ]
  },
  {
   "cell_type": "code",
   "execution_count": null,
   "id": "27b86ea7-2b38-428c-ba9b-1e9144d5f598",
   "metadata": {
    "tags": []
   },
   "outputs": [
    {
     "name": "stderr",
     "output_type": "stream",
     "text": [
      "\u001b[34m\u001b[1mwandb\u001b[0m: Adding directory to artifact (./WGAN_output/run-0/models)... "
     ]
    },
    {
     "name": "stdout",
     "output_type": "stream",
     "text": [
      "[500] W_distance: -0.0029 Loss_G: 0.8227 time:1228.6741\n"
     ]
    },
    {
     "name": "stderr",
     "output_type": "stream",
     "text": [
      "Done. 0.2s\n",
      "\u001b[34m\u001b[1mwandb\u001b[0m: Adding directory to artifact (./WGAN_output/run-0/models)... "
     ]
    },
    {
     "name": "stdout",
     "output_type": "stream",
     "text": [
      "[1000] W_distance: -0.0054 Loss_G: 0.8225 time:1993.0160\n"
     ]
    },
    {
     "name": "stderr",
     "output_type": "stream",
     "text": [
      "Done. 0.2s\n",
      "\u001b[34m\u001b[1mwandb\u001b[0m: Adding directory to artifact (./WGAN_output/run-0/models)... "
     ]
    },
    {
     "name": "stdout",
     "output_type": "stream",
     "text": [
      "[1500] W_distance: -0.0076 Loss_G: 0.8238 time:2750.2047\n"
     ]
    },
    {
     "name": "stderr",
     "output_type": "stream",
     "text": [
      "Done. 0.2s\n",
      "\u001b[34m\u001b[1mwandb\u001b[0m: Adding directory to artifact (./WGAN_output/run-0/models)... "
     ]
    },
    {
     "name": "stdout",
     "output_type": "stream",
     "text": [
      "[2000] W_distance: -0.0065 Loss_G: 0.8240 time:3510.6935\n"
     ]
    },
    {
     "name": "stderr",
     "output_type": "stream",
     "text": [
      "Done. 0.2s\n",
      "\u001b[34m\u001b[1mwandb\u001b[0m: Adding directory to artifact (./WGAN_output/run-0/models)... "
     ]
    },
    {
     "name": "stdout",
     "output_type": "stream",
     "text": [
      "[2500] W_distance: -0.0033 Loss_G: 0.8221 time:4270.0579\n"
     ]
    },
    {
     "name": "stderr",
     "output_type": "stream",
     "text": [
      "Done. 0.2s\n",
      "\u001b[34m\u001b[1mwandb\u001b[0m: Adding directory to artifact (./WGAN_output/run-0/models)... "
     ]
    },
    {
     "name": "stdout",
     "output_type": "stream",
     "text": [
      "[3000] W_distance: -0.0058 Loss_G: 0.8238 time:5028.1000\n"
     ]
    },
    {
     "name": "stderr",
     "output_type": "stream",
     "text": [
      "Done. 0.2s\n",
      "\u001b[34m\u001b[1mwandb\u001b[0m: Adding directory to artifact (./WGAN_output/run-0/models)... "
     ]
    },
    {
     "name": "stdout",
     "output_type": "stream",
     "text": [
      "[3500] W_distance: -0.0052 Loss_G: 0.8236 time:5786.7806\n"
     ]
    },
    {
     "name": "stderr",
     "output_type": "stream",
     "text": [
      "Done. 0.3s\n",
      "\u001b[34m\u001b[1mwandb\u001b[0m: Adding directory to artifact (./WGAN_output/run-0/models)... "
     ]
    },
    {
     "name": "stdout",
     "output_type": "stream",
     "text": [
      "[4000] W_distance: -0.0032 Loss_G: 0.8220 time:6545.2426\n"
     ]
    },
    {
     "name": "stderr",
     "output_type": "stream",
     "text": [
      "Done. 0.3s\n",
      "\u001b[34m\u001b[1mwandb\u001b[0m: Adding directory to artifact (./WGAN_output/run-0/models)... "
     ]
    },
    {
     "name": "stdout",
     "output_type": "stream",
     "text": [
      "[4500] W_distance: -0.0031 Loss_G: 0.8227 time:7305.0382\n"
     ]
    },
    {
     "name": "stderr",
     "output_type": "stream",
     "text": [
      "Done. 0.2s\n",
      "\u001b[34m\u001b[1mwandb\u001b[0m: Adding directory to artifact (./WGAN_output/run-0/models)... "
     ]
    },
    {
     "name": "stdout",
     "output_type": "stream",
     "text": [
      "[5000] W_distance: -0.0035 Loss_G: 0.8219 time:8062.8216\n"
     ]
    },
    {
     "name": "stderr",
     "output_type": "stream",
     "text": [
      "Done. 0.3s\n",
      "\u001b[34m\u001b[1mwandb\u001b[0m: Adding directory to artifact (./WGAN_output/run-0/models)... "
     ]
    },
    {
     "name": "stdout",
     "output_type": "stream",
     "text": [
      "[5500] W_distance: -0.0067 Loss_G: 0.8233 time:8822.9822\n"
     ]
    },
    {
     "name": "stderr",
     "output_type": "stream",
     "text": [
      "Done. 0.3s\n",
      "\u001b[34m\u001b[1mwandb\u001b[0m: Adding directory to artifact (./WGAN_output/run-0/models)... "
     ]
    },
    {
     "name": "stdout",
     "output_type": "stream",
     "text": [
      "[6000] W_distance: -0.0054 Loss_G: 0.8232 time:9583.5385\n"
     ]
    },
    {
     "name": "stderr",
     "output_type": "stream",
     "text": [
      "Done. 0.3s\n",
      "\u001b[34m\u001b[1mwandb\u001b[0m: Adding directory to artifact (./WGAN_output/run-0/models)... "
     ]
    },
    {
     "name": "stdout",
     "output_type": "stream",
     "text": [
      "[6500] W_distance: -0.0020 Loss_G: 0.8223 time:10341.3267\n"
     ]
    },
    {
     "name": "stderr",
     "output_type": "stream",
     "text": [
      "Done. 0.3s\n",
      "\u001b[34m\u001b[1mwandb\u001b[0m: Adding directory to artifact (./WGAN_output/run-0/models)... "
     ]
    },
    {
     "name": "stdout",
     "output_type": "stream",
     "text": [
      "[7000] W_distance: -0.0078 Loss_G: 0.8238 time:11099.8036\n"
     ]
    },
    {
     "name": "stderr",
     "output_type": "stream",
     "text": [
      "Done. 0.5s\n",
      "\u001b[34m\u001b[1mwandb\u001b[0m: Adding directory to artifact (./WGAN_output/run-0/models)... "
     ]
    },
    {
     "name": "stdout",
     "output_type": "stream",
     "text": [
      "[7500] W_distance: -0.0011 Loss_G: 0.8212 time:11859.2369\n"
     ]
    },
    {
     "name": "stderr",
     "output_type": "stream",
     "text": [
      "Done. 0.7s\n",
      "\u001b[34m\u001b[1mwandb\u001b[0m: Adding directory to artifact (./WGAN_output/run-0/models)... "
     ]
    },
    {
     "name": "stdout",
     "output_type": "stream",
     "text": [
      "[8000] W_distance: -0.0040 Loss_G: 0.8226 time:12621.3492\n"
     ]
    },
    {
     "name": "stderr",
     "output_type": "stream",
     "text": [
      "Done. 0.4s\n",
      "\u001b[34m\u001b[1mwandb\u001b[0m: Adding directory to artifact (./WGAN_output/run-0/models)... "
     ]
    },
    {
     "name": "stdout",
     "output_type": "stream",
     "text": [
      "[8500] W_distance: -0.0112 Loss_G: 0.8250 time:13380.7649\n"
     ]
    },
    {
     "name": "stderr",
     "output_type": "stream",
     "text": [
      "Done. 0.5s\n",
      "\u001b[34m\u001b[1mwandb\u001b[0m: Adding directory to artifact (./WGAN_output/run-0/models)... "
     ]
    },
    {
     "name": "stdout",
     "output_type": "stream",
     "text": [
      "[9000] W_distance: -0.0081 Loss_G: 0.8238 time:14139.6766\n"
     ]
    },
    {
     "name": "stderr",
     "output_type": "stream",
     "text": [
      "Done. 0.5s\n",
      "\u001b[34m\u001b[1mwandb\u001b[0m: Adding directory to artifact (./WGAN_output/run-0/models)... "
     ]
    },
    {
     "name": "stdout",
     "output_type": "stream",
     "text": [
      "[9500] W_distance: -0.0040 Loss_G: 0.8229 time:14896.9661\n"
     ]
    },
    {
     "name": "stderr",
     "output_type": "stream",
     "text": [
      "Done. 0.5s\n",
      "\u001b[34m\u001b[1mwandb\u001b[0m: Adding directory to artifact (./WGAN_output/run-0/models)... "
     ]
    },
    {
     "name": "stdout",
     "output_type": "stream",
     "text": [
      "[10000] W_distance: -0.0040 Loss_G: 0.8224 time:15656.9367\n"
     ]
    },
    {
     "name": "stderr",
     "output_type": "stream",
     "text": [
      "Done. 0.5s\n",
      "\u001b[34m\u001b[1mwandb\u001b[0m: Adding directory to artifact (./WGAN_output/run-0/models)... "
     ]
    },
    {
     "name": "stdout",
     "output_type": "stream",
     "text": [
      "[11000] W_distance: -0.0039 Loss_G: 0.8229 time:17178.2581\n"
     ]
    },
    {
     "name": "stderr",
     "output_type": "stream",
     "text": [
      "Done. 0.5s\n",
      "\u001b[34m\u001b[1mwandb\u001b[0m: Adding directory to artifact (./WGAN_output/run-0/models)... "
     ]
    },
    {
     "name": "stdout",
     "output_type": "stream",
     "text": [
      "[11500] W_distance: -0.0027 Loss_G: 0.8228 time:17935.5947\n"
     ]
    },
    {
     "name": "stderr",
     "output_type": "stream",
     "text": [
      "Done. 0.5s\n",
      "\u001b[34m\u001b[1mwandb\u001b[0m: Adding directory to artifact (./WGAN_output/run-0/models)... "
     ]
    },
    {
     "name": "stdout",
     "output_type": "stream",
     "text": [
      "[12000] W_distance: -0.0069 Loss_G: 0.8241 time:18694.8451\n"
     ]
    },
    {
     "name": "stderr",
     "output_type": "stream",
     "text": [
      "Done. 0.5s\n",
      "\u001b[34m\u001b[1mwandb\u001b[0m: Adding directory to artifact (./WGAN_output/run-0/models)... "
     ]
    },
    {
     "name": "stdout",
     "output_type": "stream",
     "text": [
      "[12500] W_distance: -0.0079 Loss_G: 0.8238 time:19454.0785\n"
     ]
    },
    {
     "name": "stderr",
     "output_type": "stream",
     "text": [
      "Done. 0.5s\n",
      "\u001b[34m\u001b[1mwandb\u001b[0m: Adding directory to artifact (./WGAN_output/run-0/models)... "
     ]
    },
    {
     "name": "stdout",
     "output_type": "stream",
     "text": [
      "[13000] W_distance: -0.0019 Loss_G: 0.8219 time:20211.9951\n"
     ]
    },
    {
     "name": "stderr",
     "output_type": "stream",
     "text": [
      "Done. 0.6s\n",
      "\u001b[34m\u001b[1mwandb\u001b[0m: Adding directory to artifact (./WGAN_output/run-0/models)... "
     ]
    },
    {
     "name": "stdout",
     "output_type": "stream",
     "text": [
      "[13500] W_distance: -0.0015 Loss_G: 0.8215 time:20973.1333\n"
     ]
    },
    {
     "name": "stderr",
     "output_type": "stream",
     "text": [
      "Done. 0.6s\n",
      "\u001b[34m\u001b[1mwandb\u001b[0m: Adding directory to artifact (./WGAN_output/run-0/models)... "
     ]
    },
    {
     "name": "stdout",
     "output_type": "stream",
     "text": [
      "[14000] W_distance: -0.0022 Loss_G: 0.8218 time:21732.0398\n"
     ]
    },
    {
     "name": "stderr",
     "output_type": "stream",
     "text": [
      "Done. 0.6s\n",
      "\u001b[34m\u001b[1mwandb\u001b[0m: Adding directory to artifact (./WGAN_output/run-0/models)... "
     ]
    },
    {
     "name": "stdout",
     "output_type": "stream",
     "text": [
      "[14500] W_distance: -0.0039 Loss_G: 0.8220 time:22492.9124\n"
     ]
    },
    {
     "name": "stderr",
     "output_type": "stream",
     "text": [
      "Done. 0.6s\n",
      "\u001b[34m\u001b[1mwandb\u001b[0m: Adding directory to artifact (./WGAN_output/run-0/models)... "
     ]
    },
    {
     "name": "stdout",
     "output_type": "stream",
     "text": [
      "[15000] W_distance: -0.0032 Loss_G: 0.8221 time:23253.2633\n"
     ]
    },
    {
     "name": "stderr",
     "output_type": "stream",
     "text": [
      "Done. 0.6s\n",
      "\u001b[34m\u001b[1mwandb\u001b[0m: Adding directory to artifact (./WGAN_output/run-0/models)... "
     ]
    },
    {
     "name": "stdout",
     "output_type": "stream",
     "text": [
      "[15500] W_distance: -0.0048 Loss_G: 0.8242 time:24013.7533\n"
     ]
    },
    {
     "name": "stderr",
     "output_type": "stream",
     "text": [
      "Done. 0.8s\n",
      "\u001b[34m\u001b[1mwandb\u001b[0m: Adding directory to artifact (./WGAN_output/run-0/models)... "
     ]
    },
    {
     "name": "stdout",
     "output_type": "stream",
     "text": [
      "[16000] W_distance: -0.0059 Loss_G: 0.8240 time:24774.9852\n"
     ]
    },
    {
     "name": "stderr",
     "output_type": "stream",
     "text": [
      "Done. 0.7s\n",
      "\u001b[34m\u001b[1mwandb\u001b[0m: Adding directory to artifact (./WGAN_output/run-0/models)... "
     ]
    },
    {
     "name": "stdout",
     "output_type": "stream",
     "text": [
      "[16500] W_distance: -0.0044 Loss_G: 0.8234 time:25535.0625\n"
     ]
    },
    {
     "name": "stderr",
     "output_type": "stream",
     "text": [
      "Done. 0.7s\n",
      "\u001b[34m\u001b[1mwandb\u001b[0m: Adding directory to artifact (./WGAN_output/run-0/models)... "
     ]
    },
    {
     "name": "stdout",
     "output_type": "stream",
     "text": [
      "[17000] W_distance: -0.0024 Loss_G: 0.8230 time:26295.2982\n"
     ]
    },
    {
     "name": "stderr",
     "output_type": "stream",
     "text": [
      "Done. 0.7s\n",
      "\u001b[34m\u001b[1mwandb\u001b[0m: Adding directory to artifact (./WGAN_output/run-0/models)... "
     ]
    },
    {
     "name": "stdout",
     "output_type": "stream",
     "text": [
      "[17500] W_distance: -0.0028 Loss_G: 0.8217 time:27055.3288\n"
     ]
    },
    {
     "name": "stderr",
     "output_type": "stream",
     "text": [
      "Done. 0.8s\n",
      "\u001b[34m\u001b[1mwandb\u001b[0m: Adding directory to artifact (./WGAN_output/run-0/models)... "
     ]
    },
    {
     "name": "stdout",
     "output_type": "stream",
     "text": [
      "[18000] W_distance: -0.0056 Loss_G: 0.8231 time:27812.3600\n"
     ]
    },
    {
     "name": "stderr",
     "output_type": "stream",
     "text": [
      "Done. 0.7s\n",
      "\u001b[34m\u001b[1mwandb\u001b[0m: Adding directory to artifact (./WGAN_output/run-0/models)... "
     ]
    },
    {
     "name": "stdout",
     "output_type": "stream",
     "text": [
      "[18500] W_distance: -0.0030 Loss_G: 0.8225 time:28570.9649\n"
     ]
    },
    {
     "name": "stderr",
     "output_type": "stream",
     "text": [
      "Done. 0.7s\n",
      "\u001b[34m\u001b[1mwandb\u001b[0m: Adding directory to artifact (./WGAN_output/run-0/models)... "
     ]
    },
    {
     "name": "stdout",
     "output_type": "stream",
     "text": [
      "[19000] W_distance: -0.0021 Loss_G: 0.8224 time:29330.4366\n"
     ]
    },
    {
     "name": "stderr",
     "output_type": "stream",
     "text": [
      "Done. 0.8s\n",
      "\u001b[34m\u001b[1mwandb\u001b[0m: Adding directory to artifact (./WGAN_output/run-0/models)... "
     ]
    },
    {
     "name": "stdout",
     "output_type": "stream",
     "text": [
      "[19500] W_distance: -0.0018 Loss_G: 0.8220 time:30089.6626\n"
     ]
    },
    {
     "name": "stderr",
     "output_type": "stream",
     "text": [
      "Done. 0.8s\n",
      "\u001b[34m\u001b[1mwandb\u001b[0m: Adding directory to artifact (./WGAN_output/run-0/models)... "
     ]
    },
    {
     "name": "stdout",
     "output_type": "stream",
     "text": [
      "[20000] W_distance: -0.0074 Loss_G: 0.8252 time:30847.8030\n"
     ]
    },
    {
     "name": "stderr",
     "output_type": "stream",
     "text": [
      "Done. 0.8s\n",
      "\u001b[34m\u001b[1mwandb\u001b[0m: Adding directory to artifact (./WGAN_output/run-0/models)... "
     ]
    },
    {
     "name": "stdout",
     "output_type": "stream",
     "text": [
      "[20500] W_distance: -0.0040 Loss_G: 0.8227 time:31609.1890\n"
     ]
    },
    {
     "name": "stderr",
     "output_type": "stream",
     "text": [
      "Done. 0.8s\n",
      "\u001b[34m\u001b[1mwandb\u001b[0m: Adding directory to artifact (./WGAN_output/run-0/models)... "
     ]
    },
    {
     "name": "stdout",
     "output_type": "stream",
     "text": [
      "[21000] W_distance: -0.0055 Loss_G: 0.8234 time:32369.6243\n"
     ]
    },
    {
     "name": "stderr",
     "output_type": "stream",
     "text": [
      "Done. 0.8s\n",
      "\u001b[34m\u001b[1mwandb\u001b[0m: Adding directory to artifact (./WGAN_output/run-0/models)... "
     ]
    },
    {
     "name": "stdout",
     "output_type": "stream",
     "text": [
      "[21500] W_distance: -0.0081 Loss_G: 0.8248 time:33129.8792\n"
     ]
    },
    {
     "name": "stderr",
     "output_type": "stream",
     "text": [
      "Done. 0.9s\n",
      "\u001b[34m\u001b[1mwandb\u001b[0m: Adding directory to artifact (./WGAN_output/run-0/models)... "
     ]
    },
    {
     "name": "stdout",
     "output_type": "stream",
     "text": [
      "[22000] W_distance: -0.0079 Loss_G: 0.8239 time:33887.6664\n"
     ]
    },
    {
     "name": "stderr",
     "output_type": "stream",
     "text": [
      "Done. 0.8s\n",
      "\u001b[34m\u001b[1mwandb\u001b[0m: Adding directory to artifact (./WGAN_output/run-0/models)... "
     ]
    },
    {
     "name": "stdout",
     "output_type": "stream",
     "text": [
      "[22500] W_distance: -0.0063 Loss_G: 0.8237 time:34648.8883\n"
     ]
    },
    {
     "name": "stderr",
     "output_type": "stream",
     "text": [
      "Done. 0.9s\n",
      "\u001b[34m\u001b[1mwandb\u001b[0m: Adding directory to artifact (./WGAN_output/run-0/models)... "
     ]
    },
    {
     "name": "stdout",
     "output_type": "stream",
     "text": [
      "[23000] W_distance: -0.0068 Loss_G: 0.8232 time:35408.4335\n"
     ]
    },
    {
     "name": "stderr",
     "output_type": "stream",
     "text": [
      "Done. 0.9s\n",
      "\u001b[34m\u001b[1mwandb\u001b[0m: Adding directory to artifact (./WGAN_output/run-0/models)... "
     ]
    },
    {
     "name": "stdout",
     "output_type": "stream",
     "text": [
      "[23500] W_distance: -0.0046 Loss_G: 0.8235 time:36168.8996\n"
     ]
    },
    {
     "name": "stderr",
     "output_type": "stream",
     "text": [
      "Done. 0.9s\n",
      "\u001b[34m\u001b[1mwandb\u001b[0m: Adding directory to artifact (./WGAN_output/run-0/models)... "
     ]
    },
    {
     "name": "stdout",
     "output_type": "stream",
     "text": [
      "[24000] W_distance: -0.0034 Loss_G: 0.8224 time:36929.0764\n"
     ]
    },
    {
     "name": "stderr",
     "output_type": "stream",
     "text": [
      "Done. 0.9s\n",
      "\u001b[34m\u001b[1mwandb\u001b[0m: Adding directory to artifact (./WGAN_output/run-0/models)... "
     ]
    },
    {
     "name": "stdout",
     "output_type": "stream",
     "text": [
      "[24500] W_distance: -0.0019 Loss_G: 0.8220 time:37687.6933\n"
     ]
    },
    {
     "name": "stderr",
     "output_type": "stream",
     "text": [
      "Done. 1.0s\n",
      "\u001b[34m\u001b[1mwandb\u001b[0m: Adding directory to artifact (./WGAN_output/run-0/models)... "
     ]
    },
    {
     "name": "stdout",
     "output_type": "stream",
     "text": [
      "[25000] W_distance: -0.0090 Loss_G: 0.8244 time:38448.9262\n"
     ]
    },
    {
     "name": "stderr",
     "output_type": "stream",
     "text": [
      "Done. 1.0s\n",
      "\u001b[34m\u001b[1mwandb\u001b[0m: Adding directory to artifact (./WGAN_output/run-0/models)... "
     ]
    },
    {
     "name": "stdout",
     "output_type": "stream",
     "text": [
      "[25500] W_distance: -0.0068 Loss_G: 0.8233 time:39214.0514\n"
     ]
    },
    {
     "name": "stderr",
     "output_type": "stream",
     "text": [
      "Done. 1.0s\n",
      "\u001b[34m\u001b[1mwandb\u001b[0m: Adding directory to artifact (./WGAN_output/run-0/models)... "
     ]
    },
    {
     "name": "stdout",
     "output_type": "stream",
     "text": [
      "[26000] W_distance: -0.0082 Loss_G: 0.8236 time:39978.3890\n"
     ]
    },
    {
     "name": "stderr",
     "output_type": "stream",
     "text": [
      "Done. 0.9s\n",
      "\u001b[34m\u001b[1mwandb\u001b[0m: Adding directory to artifact (./WGAN_output/run-0/models)... "
     ]
    },
    {
     "name": "stdout",
     "output_type": "stream",
     "text": [
      "[26500] W_distance: -0.0050 Loss_G: 0.8243 time:40740.9829\n"
     ]
    },
    {
     "name": "stderr",
     "output_type": "stream",
     "text": [
      "Done. 1.0s\n",
      "\u001b[34m\u001b[1mwandb\u001b[0m: Adding directory to artifact (./WGAN_output/run-0/models)... "
     ]
    },
    {
     "name": "stdout",
     "output_type": "stream",
     "text": [
      "[27000] W_distance: -0.0039 Loss_G: 0.8230 time:41505.9550\n"
     ]
    },
    {
     "name": "stderr",
     "output_type": "stream",
     "text": [
      "Done. 1.0s\n",
      "\u001b[34m\u001b[1mwandb\u001b[0m: Adding directory to artifact (./WGAN_output/run-0/models)... "
     ]
    },
    {
     "name": "stdout",
     "output_type": "stream",
     "text": [
      "[27500] W_distance: -0.0017 Loss_G: 0.8223 time:42271.7621\n"
     ]
    },
    {
     "name": "stderr",
     "output_type": "stream",
     "text": [
      "Done. 1.1s\n",
      "\u001b[34m\u001b[1mwandb\u001b[0m: Adding directory to artifact (./WGAN_output/run-0/models)... "
     ]
    },
    {
     "name": "stdout",
     "output_type": "stream",
     "text": [
      "[28000] W_distance: -0.0077 Loss_G: 0.8240 time:43036.1963\n"
     ]
    },
    {
     "name": "stderr",
     "output_type": "stream",
     "text": [
      "Done. 1.1s\n",
      "\u001b[34m\u001b[1mwandb\u001b[0m: Adding directory to artifact (./WGAN_output/run-0/models)... "
     ]
    },
    {
     "name": "stdout",
     "output_type": "stream",
     "text": [
      "[28500] W_distance: -0.0033 Loss_G: 0.8221 time:43799.4152\n"
     ]
    },
    {
     "name": "stderr",
     "output_type": "stream",
     "text": [
      "Done. 1.2s\n",
      "\u001b[34m\u001b[1mwandb\u001b[0m: Adding directory to artifact (./WGAN_output/run-0/models)... "
     ]
    },
    {
     "name": "stdout",
     "output_type": "stream",
     "text": [
      "[29000] W_distance: -0.0072 Loss_G: 0.8240 time:44564.0256\n"
     ]
    },
    {
     "name": "stderr",
     "output_type": "stream",
     "text": [
      "Done. 1.0s\n",
      "\u001b[34m\u001b[1mwandb\u001b[0m: Adding directory to artifact (./WGAN_output/run-0/models)... "
     ]
    },
    {
     "name": "stdout",
     "output_type": "stream",
     "text": [
      "[29500] W_distance: -0.0017 Loss_G: 0.8219 time:45327.0627\n"
     ]
    },
    {
     "name": "stderr",
     "output_type": "stream",
     "text": [
      "Done. 1.1s\n",
      "\u001b[34m\u001b[1mwandb\u001b[0m: Adding directory to artifact (./WGAN_output/run-0/models)... "
     ]
    },
    {
     "name": "stdout",
     "output_type": "stream",
     "text": [
      "[30000] W_distance: -0.0080 Loss_G: 0.8244 time:46091.0408\n"
     ]
    },
    {
     "name": "stderr",
     "output_type": "stream",
     "text": [
      "Done. 1.1s\n",
      "\u001b[34m\u001b[1mwandb\u001b[0m: Adding directory to artifact (./WGAN_output/run-0/models)... "
     ]
    },
    {
     "name": "stdout",
     "output_type": "stream",
     "text": [
      "[30500] W_distance: -0.0044 Loss_G: 0.8243 time:46852.7272\n"
     ]
    },
    {
     "name": "stderr",
     "output_type": "stream",
     "text": [
      "Done. 1.7s\n",
      "\u001b[34m\u001b[1mwandb\u001b[0m: Adding directory to artifact (./WGAN_output/run-0/models)... "
     ]
    },
    {
     "name": "stdout",
     "output_type": "stream",
     "text": [
      "[31000] W_distance: -0.0055 Loss_G: 0.8225 time:47619.9459\n"
     ]
    },
    {
     "name": "stderr",
     "output_type": "stream",
     "text": [
      "Done. 1.4s\n",
      "\u001b[34m\u001b[1mwandb\u001b[0m: Adding directory to artifact (./WGAN_output/run-0/models)... "
     ]
    },
    {
     "name": "stdout",
     "output_type": "stream",
     "text": [
      "[31500] W_distance: -0.0056 Loss_G: 0.8232 time:48385.0479\n"
     ]
    },
    {
     "name": "stderr",
     "output_type": "stream",
     "text": [
      "Done. 1.3s\n",
      "\u001b[34m\u001b[1mwandb\u001b[0m: Adding directory to artifact (./WGAN_output/run-0/models)... "
     ]
    },
    {
     "name": "stdout",
     "output_type": "stream",
     "text": [
      "[32000] W_distance: -0.0035 Loss_G: 0.8223 time:49150.1890\n"
     ]
    },
    {
     "name": "stderr",
     "output_type": "stream",
     "text": [
      "Done. 1.2s\n",
      "\u001b[34m\u001b[1mwandb\u001b[0m: Adding directory to artifact (./WGAN_output/run-0/models)... "
     ]
    },
    {
     "name": "stdout",
     "output_type": "stream",
     "text": [
      "[32500] W_distance: -0.0027 Loss_G: 0.8226 time:49914.6355\n"
     ]
    },
    {
     "name": "stderr",
     "output_type": "stream",
     "text": [
      "Done. 1.3s\n",
      "\u001b[34m\u001b[1mwandb\u001b[0m: Adding directory to artifact (./WGAN_output/run-0/models)... "
     ]
    },
    {
     "name": "stdout",
     "output_type": "stream",
     "text": [
      "[33000] W_distance: -0.0041 Loss_G: 0.8226 time:50676.5729\n"
     ]
    },
    {
     "name": "stderr",
     "output_type": "stream",
     "text": [
      "Done. 1.2s\n",
      "\u001b[34m\u001b[1mwandb\u001b[0m: Adding directory to artifact (./WGAN_output/run-0/models)... "
     ]
    },
    {
     "name": "stdout",
     "output_type": "stream",
     "text": [
      "[33500] W_distance: -0.0026 Loss_G: 0.8224 time:51440.5618\n"
     ]
    },
    {
     "name": "stderr",
     "output_type": "stream",
     "text": [
      "Done. 1.3s\n",
      "\u001b[34m\u001b[1mwandb\u001b[0m: Adding directory to artifact (./WGAN_output/run-0/models)... "
     ]
    },
    {
     "name": "stdout",
     "output_type": "stream",
     "text": [
      "[34000] W_distance: -0.0018 Loss_G: 0.8222 time:52206.6929\n"
     ]
    },
    {
     "name": "stderr",
     "output_type": "stream",
     "text": [
      "Done. 1.2s\n",
      "\u001b[34m\u001b[1mwandb\u001b[0m: Adding directory to artifact (./WGAN_output/run-0/models)... "
     ]
    },
    {
     "name": "stdout",
     "output_type": "stream",
     "text": [
      "[34500] W_distance: -0.0057 Loss_G: 0.8238 time:52971.8870\n"
     ]
    },
    {
     "name": "stderr",
     "output_type": "stream",
     "text": [
      "Done. 1.3s\n",
      "\u001b[34m\u001b[1mwandb\u001b[0m: Adding directory to artifact (./WGAN_output/run-0/models)... "
     ]
    },
    {
     "name": "stdout",
     "output_type": "stream",
     "text": [
      "[35000] W_distance: -0.0036 Loss_G: 0.8224 time:53733.9817\n"
     ]
    },
    {
     "name": "stderr",
     "output_type": "stream",
     "text": [
      "Done. 1.3s\n",
      "\u001b[34m\u001b[1mwandb\u001b[0m: Adding directory to artifact (./WGAN_output/run-0/models)... "
     ]
    },
    {
     "name": "stdout",
     "output_type": "stream",
     "text": [
      "[35500] W_distance: -0.0069 Loss_G: 0.8230 time:54498.4395\n"
     ]
    },
    {
     "name": "stderr",
     "output_type": "stream",
     "text": [
      "Done. 1.4s\n",
      "\u001b[34m\u001b[1mwandb\u001b[0m: Adding directory to artifact (./WGAN_output/run-0/models)... "
     ]
    },
    {
     "name": "stdout",
     "output_type": "stream",
     "text": [
      "[36000] W_distance: -0.0037 Loss_G: 0.8227 time:55261.5011\n"
     ]
    },
    {
     "name": "stderr",
     "output_type": "stream",
     "text": [
      "Done. 1.5s\n",
      "\u001b[34m\u001b[1mwandb\u001b[0m: Adding directory to artifact (./WGAN_output/run-0/models)... "
     ]
    },
    {
     "name": "stdout",
     "output_type": "stream",
     "text": [
      "[36500] W_distance: -0.0056 Loss_G: 0.8231 time:56027.1893\n"
     ]
    },
    {
     "name": "stderr",
     "output_type": "stream",
     "text": [
      "Done. 1.3s\n",
      "\u001b[34m\u001b[1mwandb\u001b[0m: Adding directory to artifact (./WGAN_output/run-0/models)... "
     ]
    },
    {
     "name": "stdout",
     "output_type": "stream",
     "text": [
      "[37000] W_distance: -0.0042 Loss_G: 0.8226 time:56793.6681\n"
     ]
    },
    {
     "name": "stderr",
     "output_type": "stream",
     "text": [
      "Done. 1.5s\n",
      "\u001b[34m\u001b[1mwandb\u001b[0m: Adding directory to artifact (./WGAN_output/run-0/models)... "
     ]
    },
    {
     "name": "stdout",
     "output_type": "stream",
     "text": [
      "[37500] W_distance: -0.0020 Loss_G: 0.8214 time:57558.8766\n"
     ]
    },
    {
     "name": "stderr",
     "output_type": "stream",
     "text": [
      "Done. 1.4s\n",
      "\u001b[34m\u001b[1mwandb\u001b[0m: Adding directory to artifact (./WGAN_output/run-0/models)... "
     ]
    },
    {
     "name": "stdout",
     "output_type": "stream",
     "text": [
      "[38000] W_distance: -0.0038 Loss_G: 0.8224 time:58323.1272\n"
     ]
    },
    {
     "name": "stderr",
     "output_type": "stream",
     "text": [
      "Done. 1.4s\n",
      "\u001b[34m\u001b[1mwandb\u001b[0m: Adding directory to artifact (./WGAN_output/run-0/models)... "
     ]
    },
    {
     "name": "stdout",
     "output_type": "stream",
     "text": [
      "[38500] W_distance: -0.0072 Loss_G: 0.8243 time:59088.3778\n"
     ]
    },
    {
     "name": "stderr",
     "output_type": "stream",
     "text": [
      "Done. 1.5s\n",
      "\u001b[34m\u001b[1mwandb\u001b[0m: Adding directory to artifact (./WGAN_output/run-0/models)... "
     ]
    },
    {
     "name": "stdout",
     "output_type": "stream",
     "text": [
      "[39000] W_distance: -0.0016 Loss_G: 0.8216 time:59851.6937\n"
     ]
    },
    {
     "name": "stderr",
     "output_type": "stream",
     "text": [
      "Done. 1.6s\n",
      "\u001b[34m\u001b[1mwandb\u001b[0m: Adding directory to artifact (./WGAN_output/run-0/models)... "
     ]
    },
    {
     "name": "stdout",
     "output_type": "stream",
     "text": [
      "[39500] W_distance: -0.0043 Loss_G: 0.8235 time:60616.6411\n"
     ]
    },
    {
     "name": "stderr",
     "output_type": "stream",
     "text": [
      "Done. 1.5s\n",
      "\u001b[34m\u001b[1mwandb\u001b[0m: Adding directory to artifact (./WGAN_output/run-0/models)... "
     ]
    },
    {
     "name": "stdout",
     "output_type": "stream",
     "text": [
      "[40000] W_distance: -0.0051 Loss_G: 0.8228 time:61382.4208\n"
     ]
    },
    {
     "name": "stderr",
     "output_type": "stream",
     "text": [
      "Done. 1.6s\n",
      "\u001b[34m\u001b[1mwandb\u001b[0m: Adding directory to artifact (./WGAN_output/run-0/models)... "
     ]
    },
    {
     "name": "stdout",
     "output_type": "stream",
     "text": [
      "[40500] W_distance: -0.0045 Loss_G: 0.8222 time:62147.0824\n"
     ]
    },
    {
     "name": "stderr",
     "output_type": "stream",
     "text": [
      "Done. 1.6s\n"
     ]
    },
    {
     "name": "stdout",
     "output_type": "stream",
     "text": [
      "[41000] W_distance: -0.0032 Loss_G: 0.8226 time:62910.5904\n"
     ]
    },
    {
     "name": "stderr",
     "output_type": "stream",
     "text": [
      "\u001b[34m\u001b[1mwandb\u001b[0m: Adding directory to artifact (./WGAN_output/run-0/models)... Done. 2.4s\n",
      "\u001b[34m\u001b[1mwandb\u001b[0m: Adding directory to artifact (./WGAN_output/run-0/models)... "
     ]
    },
    {
     "name": "stdout",
     "output_type": "stream",
     "text": [
      "[41500] W_distance: -0.0090 Loss_G: 0.8249 time:63677.8421\n"
     ]
    },
    {
     "name": "stderr",
     "output_type": "stream",
     "text": [
      "Done. 1.7s\n",
      "\u001b[34m\u001b[1mwandb\u001b[0m: Adding directory to artifact (./WGAN_output/run-0/models)... "
     ]
    },
    {
     "name": "stdout",
     "output_type": "stream",
     "text": [
      "[42000] W_distance: -0.0035 Loss_G: 0.8228 time:64443.1475\n"
     ]
    },
    {
     "name": "stderr",
     "output_type": "stream",
     "text": [
      "Done. 1.7s\n"
     ]
    },
    {
     "name": "stdout",
     "output_type": "stream",
     "text": [
      "[42500] W_distance: -0.0019 Loss_G: 0.8213 time:65208.6917\n"
     ]
    },
    {
     "name": "stderr",
     "output_type": "stream",
     "text": [
      "\u001b[34m\u001b[1mwandb\u001b[0m: Adding directory to artifact (./WGAN_output/run-0/models)... Done. 1.7s\n",
      "\u001b[34m\u001b[1mwandb\u001b[0m: Adding directory to artifact (./WGAN_output/run-0/models)... "
     ]
    },
    {
     "name": "stdout",
     "output_type": "stream",
     "text": [
      "[43000] W_distance: -0.0010 Loss_G: 0.8216 time:65976.2602\n"
     ]
    },
    {
     "name": "stderr",
     "output_type": "stream",
     "text": [
      "Done. 1.7s\n",
      "\u001b[34m\u001b[1mwandb\u001b[0m: Adding directory to artifact (./WGAN_output/run-0/models)... "
     ]
    },
    {
     "name": "stdout",
     "output_type": "stream",
     "text": [
      "[43500] W_distance: -0.0017 Loss_G: 0.8215 time:66739.5553\n"
     ]
    },
    {
     "name": "stderr",
     "output_type": "stream",
     "text": [
      "Done. 1.7s\n",
      "\u001b[34m\u001b[1mwandb\u001b[0m: Adding directory to artifact (./WGAN_output/run-0/models)... "
     ]
    },
    {
     "name": "stdout",
     "output_type": "stream",
     "text": [
      "[44000] W_distance: -0.0043 Loss_G: 0.8231 time:67504.8134\n"
     ]
    },
    {
     "name": "stderr",
     "output_type": "stream",
     "text": [
      "Done. 1.8s\n",
      "\u001b[34m\u001b[1mwandb\u001b[0m: Adding directory to artifact (./WGAN_output/run-0/models)... "
     ]
    },
    {
     "name": "stdout",
     "output_type": "stream",
     "text": [
      "[44500] W_distance: -0.0143 Loss_G: 0.8241 time:68268.4250\n"
     ]
    },
    {
     "name": "stderr",
     "output_type": "stream",
     "text": [
      "Done. 1.7s\n",
      "\u001b[34m\u001b[1mwandb\u001b[0m: Adding directory to artifact (./WGAN_output/run-0/models)... "
     ]
    },
    {
     "name": "stdout",
     "output_type": "stream",
     "text": [
      "[45000] W_distance: -0.0025 Loss_G: 0.8222 time:69033.3262\n"
     ]
    },
    {
     "name": "stderr",
     "output_type": "stream",
     "text": [
      "Done. 1.8s\n",
      "\u001b[34m\u001b[1mwandb\u001b[0m: Adding directory to artifact (./WGAN_output/run-0/models)... "
     ]
    },
    {
     "name": "stdout",
     "output_type": "stream",
     "text": [
      "[45500] W_distance: -0.0074 Loss_G: 0.8238 time:69793.3704\n"
     ]
    },
    {
     "name": "stderr",
     "output_type": "stream",
     "text": [
      "Done. 1.8s\n",
      "\u001b[34m\u001b[1mwandb\u001b[0m: Adding directory to artifact (./WGAN_output/run-0/models)... "
     ]
    },
    {
     "name": "stdout",
     "output_type": "stream",
     "text": [
      "[46000] W_distance: -0.0012 Loss_G: 0.8208 time:70559.8019\n"
     ]
    },
    {
     "name": "stderr",
     "output_type": "stream",
     "text": [
      "Done. 1.9s\n",
      "\u001b[34m\u001b[1mwandb\u001b[0m: Adding directory to artifact (./WGAN_output/run-0/models)... "
     ]
    },
    {
     "name": "stdout",
     "output_type": "stream",
     "text": [
      "[46500] W_distance: -0.0022 Loss_G: 0.8221 time:71327.1529\n"
     ]
    },
    {
     "name": "stderr",
     "output_type": "stream",
     "text": [
      "Done. 1.8s\n",
      "\u001b[34m\u001b[1mwandb\u001b[0m: Adding directory to artifact (./WGAN_output/run-0/models)... "
     ]
    },
    {
     "name": "stdout",
     "output_type": "stream",
     "text": [
      "[47000] W_distance: -0.0029 Loss_G: 0.8223 time:72091.1369\n"
     ]
    },
    {
     "name": "stderr",
     "output_type": "stream",
     "text": [
      "Done. 1.9s\n",
      "\u001b[34m\u001b[1mwandb\u001b[0m: Adding directory to artifact (./WGAN_output/run-0/models)... "
     ]
    },
    {
     "name": "stdout",
     "output_type": "stream",
     "text": [
      "[47500] W_distance: -0.0033 Loss_G: 0.8239 time:72852.3742\n"
     ]
    },
    {
     "name": "stderr",
     "output_type": "stream",
     "text": [
      "Done. 1.9s\n",
      "\u001b[34m\u001b[1mwandb\u001b[0m: Adding directory to artifact (./WGAN_output/run-0/models)... "
     ]
    },
    {
     "name": "stdout",
     "output_type": "stream",
     "text": [
      "[48000] W_distance: -0.0108 Loss_G: 0.8253 time:73617.7033\n"
     ]
    },
    {
     "name": "stderr",
     "output_type": "stream",
     "text": [
      "Done. 2.1s\n",
      "\u001b[34m\u001b[1mwandb\u001b[0m: Adding directory to artifact (./WGAN_output/run-0/models)... "
     ]
    },
    {
     "name": "stdout",
     "output_type": "stream",
     "text": [
      "[48500] W_distance: -0.0044 Loss_G: 0.8237 time:74381.5030\n"
     ]
    },
    {
     "name": "stderr",
     "output_type": "stream",
     "text": [
      "Done. 1.8s\n"
     ]
    },
    {
     "name": "stdout",
     "output_type": "stream",
     "text": [
      "[49000] W_distance: -0.0032 Loss_G: 0.8223 time:75148.2281\n"
     ]
    },
    {
     "name": "stderr",
     "output_type": "stream",
     "text": [
      "\u001b[34m\u001b[1mwandb\u001b[0m: Adding directory to artifact (./WGAN_output/run-0/models)... Done. 2.0s\n"
     ]
    },
    {
     "name": "stdout",
     "output_type": "stream",
     "text": [
      "[49500] W_distance: -0.0041 Loss_G: 0.8237 time:75909.8184\n"
     ]
    },
    {
     "name": "stderr",
     "output_type": "stream",
     "text": [
      "\u001b[34m\u001b[1mwandb\u001b[0m: Adding directory to artifact (./WGAN_output/run-0/models)... Done. 1.9s\n"
     ]
    },
    {
     "name": "stdout",
     "output_type": "stream",
     "text": [
      "[50000] W_distance: -0.0028 Loss_G: 0.8225 time:76675.5053\n"
     ]
    },
    {
     "name": "stderr",
     "output_type": "stream",
     "text": [
      "\u001b[34m\u001b[1mwandb\u001b[0m: Adding directory to artifact (./WGAN_output/run-0/models)... Done. 2.6s\n",
      "\u001b[34m\u001b[1mwandb\u001b[0m: Adding directory to artifact (./WGAN_output/run-0/models)... "
     ]
    },
    {
     "name": "stdout",
     "output_type": "stream",
     "text": [
      "[50500] W_distance: -0.0012 Loss_G: 0.8205 time:77442.8906\n"
     ]
    },
    {
     "name": "stderr",
     "output_type": "stream",
     "text": [
      "Done. 2.1s\n",
      "\u001b[34m\u001b[1mwandb\u001b[0m: Adding directory to artifact (./WGAN_output/run-0/models)... "
     ]
    },
    {
     "name": "stdout",
     "output_type": "stream",
     "text": [
      "[51000] W_distance: -0.0031 Loss_G: 0.8232 time:78208.4024\n"
     ]
    },
    {
     "name": "stderr",
     "output_type": "stream",
     "text": [
      "Done. 2.0s\n",
      "\u001b[34m\u001b[1mwandb\u001b[0m: Adding directory to artifact (./WGAN_output/run-0/models)... "
     ]
    },
    {
     "name": "stdout",
     "output_type": "stream",
     "text": [
      "[51500] W_distance: -0.0021 Loss_G: 0.8224 time:78974.2788\n"
     ]
    },
    {
     "name": "stderr",
     "output_type": "stream",
     "text": [
      "Done. 2.2s\n",
      "\u001b[34m\u001b[1mwandb\u001b[0m: Adding directory to artifact (./WGAN_output/run-0/models)... "
     ]
    },
    {
     "name": "stdout",
     "output_type": "stream",
     "text": [
      "[52000] W_distance: -0.0007 Loss_G: 0.8212 time:79733.8356\n"
     ]
    },
    {
     "name": "stderr",
     "output_type": "stream",
     "text": [
      "Done. 4.2s\n",
      "\u001b[34m\u001b[1mwandb\u001b[0m: Adding directory to artifact (./WGAN_output/run-0/models)... "
     ]
    },
    {
     "name": "stdout",
     "output_type": "stream",
     "text": [
      "[52500] W_distance: -0.0007 Loss_G: 0.8210 time:80502.0807\n"
     ]
    },
    {
     "name": "stderr",
     "output_type": "stream",
     "text": [
      "Done. 2.6s\n",
      "\u001b[34m\u001b[1mwandb\u001b[0m: Adding directory to artifact (./WGAN_output/run-0/models)... "
     ]
    },
    {
     "name": "stdout",
     "output_type": "stream",
     "text": [
      "[53000] W_distance: -0.0059 Loss_G: 0.8245 time:81267.9180\n"
     ]
    },
    {
     "name": "stderr",
     "output_type": "stream",
     "text": [
      "Done. 2.0s\n",
      "\u001b[34m\u001b[1mwandb\u001b[0m: Adding directory to artifact (./WGAN_output/run-0/models)... "
     ]
    },
    {
     "name": "stdout",
     "output_type": "stream",
     "text": [
      "[53500] W_distance: -0.0023 Loss_G: 0.8218 time:82034.7553\n"
     ]
    },
    {
     "name": "stderr",
     "output_type": "stream",
     "text": [
      "Done. 2.1s\n",
      "\u001b[34m\u001b[1mwandb\u001b[0m: Adding directory to artifact (./WGAN_output/run-0/models)... "
     ]
    },
    {
     "name": "stdout",
     "output_type": "stream",
     "text": [
      "[54000] W_distance: -0.0069 Loss_G: 0.8234 time:82790.2402\n"
     ]
    },
    {
     "name": "stderr",
     "output_type": "stream",
     "text": [
      "Done. 4.2s\n"
     ]
    },
    {
     "name": "stdout",
     "output_type": "stream",
     "text": [
      "[54500] W_distance: -0.0025 Loss_G: 0.8220 time:83559.2720\n"
     ]
    },
    {
     "name": "stderr",
     "output_type": "stream",
     "text": [
      "\u001b[34m\u001b[1mwandb\u001b[0m: Adding directory to artifact (./WGAN_output/run-0/models)... Done. 2.8s\n",
      "\u001b[34m\u001b[1mwandb\u001b[0m: Adding directory to artifact (./WGAN_output/run-0/models)... "
     ]
    },
    {
     "name": "stdout",
     "output_type": "stream",
     "text": [
      "[55000] W_distance: -0.0033 Loss_G: 0.8230 time:84325.9103\n"
     ]
    },
    {
     "name": "stderr",
     "output_type": "stream",
     "text": [
      "Done. 2.3s\n",
      "\u001b[34m\u001b[1mwandb\u001b[0m: Adding directory to artifact (./WGAN_output/run-0/models)... "
     ]
    },
    {
     "name": "stdout",
     "output_type": "stream",
     "text": [
      "[55500] W_distance: -0.0067 Loss_G: 0.8243 time:85093.4237\n"
     ]
    },
    {
     "name": "stderr",
     "output_type": "stream",
     "text": [
      "Done. 2.2s\n",
      "\u001b[34m\u001b[1mwandb\u001b[0m: Adding directory to artifact (./WGAN_output/run-0/models)... "
     ]
    },
    {
     "name": "stdout",
     "output_type": "stream",
     "text": [
      "[56000] W_distance: -0.0041 Loss_G: 0.8234 time:85847.3983\n"
     ]
    },
    {
     "name": "stderr",
     "output_type": "stream",
     "text": [
      "Done. 7.9s\n",
      "\u001b[34m\u001b[1mwandb\u001b[0m: Adding directory to artifact (./WGAN_output/run-0/models)... "
     ]
    },
    {
     "name": "stdout",
     "output_type": "stream",
     "text": [
      "[56500] W_distance: -0.0034 Loss_G: 0.8231 time:86619.5104\n"
     ]
    },
    {
     "name": "stderr",
     "output_type": "stream",
     "text": [
      "Done. 2.7s\n",
      "\u001b[34m\u001b[1mwandb\u001b[0m: Adding directory to artifact (./WGAN_output/run-0/models)... "
     ]
    },
    {
     "name": "stdout",
     "output_type": "stream",
     "text": [
      "[57000] W_distance: -0.0023 Loss_G: 0.8226 time:87386.7887\n"
     ]
    },
    {
     "name": "stderr",
     "output_type": "stream",
     "text": [
      "Done. 2.3s\n",
      "\u001b[34m\u001b[1mwandb\u001b[0m: Adding directory to artifact (./WGAN_output/run-0/models)... "
     ]
    },
    {
     "name": "stdout",
     "output_type": "stream",
     "text": [
      "[57500] W_distance: -0.0042 Loss_G: 0.8233 time:88152.5909\n"
     ]
    },
    {
     "name": "stderr",
     "output_type": "stream",
     "text": [
      "Done. 2.2s\n"
     ]
    },
    {
     "name": "stdout",
     "output_type": "stream",
     "text": [
      "[58000] W_distance: -0.0016 Loss_G: 0.8214 time:88901.9741\n"
     ]
    },
    {
     "name": "stderr",
     "output_type": "stream",
     "text": [
      "\u001b[34m\u001b[1mwandb\u001b[0m: Adding directory to artifact (./WGAN_output/run-0/models)... Done. 7.1s\n"
     ]
    },
    {
     "name": "stdout",
     "output_type": "stream",
     "text": [
      "[58500] W_distance: -0.0080 Loss_G: 0.8239 time:89671.2276\n"
     ]
    },
    {
     "name": "stderr",
     "output_type": "stream",
     "text": [
      "\u001b[34m\u001b[1mwandb\u001b[0m: Adding directory to artifact (./WGAN_output/run-0/models)... Done. 2.5s\n",
      "\u001b[34m\u001b[1mwandb\u001b[0m: Adding directory to artifact (./WGAN_output/run-0/models)... "
     ]
    },
    {
     "name": "stdout",
     "output_type": "stream",
     "text": [
      "[59000] W_distance: -0.0033 Loss_G: 0.8212 time:90431.8860\n"
     ]
    },
    {
     "name": "stderr",
     "output_type": "stream",
     "text": [
      "Done. 2.2s\n",
      "\u001b[34m\u001b[1mwandb\u001b[0m: Adding directory to artifact (./WGAN_output/run-0/models)... "
     ]
    },
    {
     "name": "stdout",
     "output_type": "stream",
     "text": [
      "[59500] W_distance: -0.0027 Loss_G: 0.8235 time:91192.2940\n"
     ]
    },
    {
     "name": "stderr",
     "output_type": "stream",
     "text": [
      "Done. 2.3s\n",
      "\u001b[34m\u001b[1mwandb\u001b[0m: Adding directory to artifact (./WGAN_output/run-0/models)... "
     ]
    },
    {
     "name": "stdout",
     "output_type": "stream",
     "text": [
      "[60000] W_distance: -0.0029 Loss_G: 0.8219 time:91953.7512\n"
     ]
    },
    {
     "name": "stderr",
     "output_type": "stream",
     "text": [
      "Done. 2.4s\n",
      "\u001b[34m\u001b[1mwandb\u001b[0m: Adding directory to artifact (./WGAN_output/run-0/models)... "
     ]
    },
    {
     "name": "stdout",
     "output_type": "stream",
     "text": [
      "[60500] W_distance: -0.0028 Loss_G: 0.8222 time:92713.8305\n"
     ]
    },
    {
     "name": "stderr",
     "output_type": "stream",
     "text": [
      "Done. 10.5s\n",
      "\u001b[34m\u001b[1mwandb\u001b[0m: Adding directory to artifact (./WGAN_output/run-0/models)... "
     ]
    },
    {
     "name": "stdout",
     "output_type": "stream",
     "text": [
      "[61000] W_distance: -0.0030 Loss_G: 0.8222 time:93484.9057\n"
     ]
    },
    {
     "name": "stderr",
     "output_type": "stream",
     "text": [
      "Done. 3.2s\n",
      "\u001b[34m\u001b[1mwandb\u001b[0m: Adding directory to artifact (./WGAN_output/run-0/models)... "
     ]
    },
    {
     "name": "stdout",
     "output_type": "stream",
     "text": [
      "[61500] W_distance: -0.0030 Loss_G: 0.8216 time:94249.3734\n"
     ]
    },
    {
     "name": "stderr",
     "output_type": "stream",
     "text": [
      "Done. 2.4s\n",
      "\u001b[34m\u001b[1mwandb\u001b[0m: Adding directory to artifact (./WGAN_output/run-0/models)... "
     ]
    },
    {
     "name": "stdout",
     "output_type": "stream",
     "text": [
      "[62000] W_distance: -0.0049 Loss_G: 0.8237 time:95013.1581\n"
     ]
    },
    {
     "name": "stderr",
     "output_type": "stream",
     "text": [
      "Done. 2.3s\n",
      "\u001b[34m\u001b[1mwandb\u001b[0m: Adding directory to artifact (./WGAN_output/run-0/models)... "
     ]
    },
    {
     "name": "stdout",
     "output_type": "stream",
     "text": [
      "[62500] W_distance: -0.0049 Loss_G: 0.8242 time:95760.7809\n"
     ]
    },
    {
     "name": "stderr",
     "output_type": "stream",
     "text": [
      "Done. 7.6s\n",
      "\u001b[34m\u001b[1mwandb\u001b[0m: Adding directory to artifact (./WGAN_output/run-0/models)... "
     ]
    },
    {
     "name": "stdout",
     "output_type": "stream",
     "text": [
      "[63000] W_distance: -0.0016 Loss_G: 0.8226 time:96527.3127\n"
     ]
    },
    {
     "name": "stderr",
     "output_type": "stream",
     "text": [
      "Done. 2.6s\n",
      "\u001b[34m\u001b[1mwandb\u001b[0m: Adding directory to artifact (./WGAN_output/run-0/models)... "
     ]
    },
    {
     "name": "stdout",
     "output_type": "stream",
     "text": [
      "[63500] W_distance: -0.0067 Loss_G: 0.8230 time:97288.8094\n"
     ]
    },
    {
     "name": "stderr",
     "output_type": "stream",
     "text": [
      "Done. 2.3s\n",
      "\u001b[34m\u001b[1mwandb\u001b[0m: Adding directory to artifact (./WGAN_output/run-0/models)... "
     ]
    },
    {
     "name": "stdout",
     "output_type": "stream",
     "text": [
      "[64000] W_distance: -0.0040 Loss_G: 0.8226 time:98051.4413\n"
     ]
    },
    {
     "name": "stderr",
     "output_type": "stream",
     "text": [
      "Done. 2.5s\n"
     ]
    },
    {
     "name": "stdout",
     "output_type": "stream",
     "text": [
      "[64500] W_distance: -0.0050 Loss_G: 0.8229 time:98794.8611\n"
     ]
    },
    {
     "name": "stderr",
     "output_type": "stream",
     "text": [
      "\u001b[34m\u001b[1mwandb\u001b[0m: Adding directory to artifact (./WGAN_output/run-0/models)... Done. 8.3s\n",
      "\u001b[34m\u001b[1mwandb\u001b[0m: Adding directory to artifact (./WGAN_output/run-0/models)... "
     ]
    },
    {
     "name": "stdout",
     "output_type": "stream",
     "text": [
      "[65000] W_distance: -0.0053 Loss_G: 0.8238 time:99563.6717\n"
     ]
    },
    {
     "name": "stderr",
     "output_type": "stream",
     "text": [
      "Done. 3.0s\n",
      "\u001b[34m\u001b[1mwandb\u001b[0m: Adding directory to artifact (./WGAN_output/run-0/models)... "
     ]
    },
    {
     "name": "stdout",
     "output_type": "stream",
     "text": [
      "[65500] W_distance: -0.0019 Loss_G: 0.8213 time:100327.1761\n"
     ]
    },
    {
     "name": "stderr",
     "output_type": "stream",
     "text": [
      "Done. 2.5s\n",
      "\u001b[34m\u001b[1mwandb\u001b[0m: Adding directory to artifact (./WGAN_output/run-0/models)... "
     ]
    },
    {
     "name": "stdout",
     "output_type": "stream",
     "text": [
      "[66000] W_distance: -0.0067 Loss_G: 0.8247 time:101091.6114\n"
     ]
    },
    {
     "name": "stderr",
     "output_type": "stream",
     "text": [
      "Done. 2.6s\n",
      "\u001b[34m\u001b[1mwandb\u001b[0m: Adding directory to artifact (./WGAN_output/run-0/models)... "
     ]
    },
    {
     "name": "stdout",
     "output_type": "stream",
     "text": [
      "[66500] W_distance: -0.0065 Loss_G: 0.8244 time:101852.7321\n"
     ]
    },
    {
     "name": "stderr",
     "output_type": "stream",
     "text": [
      "Done. 2.6s\n",
      "\u001b[34m\u001b[1mwandb\u001b[0m: Adding directory to artifact (./WGAN_output/run-0/models)... "
     ]
    },
    {
     "name": "stdout",
     "output_type": "stream",
     "text": [
      "[67000] W_distance: -0.0007 Loss_G: 0.8219 time:102610.4405\n"
     ]
    },
    {
     "name": "stderr",
     "output_type": "stream",
     "text": [
      "Done. 9.7s\n",
      "\u001b[34m\u001b[1mwandb\u001b[0m: Adding directory to artifact (./WGAN_output/run-0/models)... "
     ]
    },
    {
     "name": "stdout",
     "output_type": "stream",
     "text": [
      "[67500] W_distance: -0.0059 Loss_G: 0.8241 time:103382.3583\n"
     ]
    },
    {
     "name": "stderr",
     "output_type": "stream",
     "text": [
      "Done. 3.3s\n",
      "\u001b[34m\u001b[1mwandb\u001b[0m: Adding directory to artifact (./WGAN_output/run-0/models)... "
     ]
    },
    {
     "name": "stdout",
     "output_type": "stream",
     "text": [
      "[68000] W_distance: -0.0066 Loss_G: 0.8234 time:104146.8121\n"
     ]
    },
    {
     "name": "stderr",
     "output_type": "stream",
     "text": [
      "Done. 2.6s\n",
      "\u001b[34m\u001b[1mwandb\u001b[0m: Adding directory to artifact (./WGAN_output/run-0/models)... "
     ]
    },
    {
     "name": "stdout",
     "output_type": "stream",
     "text": [
      "[68500] W_distance: -0.0043 Loss_G: 0.8232 time:104911.7808\n"
     ]
    },
    {
     "name": "stderr",
     "output_type": "stream",
     "text": [
      "Done. 2.5s\n",
      "\u001b[34m\u001b[1mwandb\u001b[0m: Adding directory to artifact (./WGAN_output/run-0/models)... "
     ]
    },
    {
     "name": "stdout",
     "output_type": "stream",
     "text": [
      "[69000] W_distance: -0.0035 Loss_G: 0.8219 time:105657.5612\n"
     ]
    },
    {
     "name": "stderr",
     "output_type": "stream",
     "text": [
      "Done. 14.6s\n",
      "\u001b[34m\u001b[1mwandb\u001b[0m: Adding directory to artifact (./WGAN_output/run-0/models)... "
     ]
    },
    {
     "name": "stdout",
     "output_type": "stream",
     "text": [
      "[69500] W_distance: -0.0026 Loss_G: 0.8218 time:106434.6593\n"
     ]
    },
    {
     "name": "stderr",
     "output_type": "stream",
     "text": [
      "Done. 3.9s\n",
      "\u001b[34m\u001b[1mwandb\u001b[0m: Adding directory to artifact (./WGAN_output/run-0/models)... "
     ]
    },
    {
     "name": "stdout",
     "output_type": "stream",
     "text": [
      "[70000] W_distance: -0.0025 Loss_G: 0.8220 time:107199.8674\n"
     ]
    },
    {
     "name": "stderr",
     "output_type": "stream",
     "text": [
      "Done. 8.7s\n"
     ]
    },
    {
     "name": "stdout",
     "output_type": "stream",
     "text": [
      "[70500] W_distance: -0.0084 Loss_G: 0.8251 time:107968.5906\n"
     ]
    },
    {
     "name": "stderr",
     "output_type": "stream",
     "text": [
      "\u001b[34m\u001b[1mwandb\u001b[0m: Adding directory to artifact (./WGAN_output/run-0/models)... Done. 2.8s\n",
      "\u001b[34m\u001b[1mwandb\u001b[0m: Adding directory to artifact (./WGAN_output/run-0/models)... "
     ]
    },
    {
     "name": "stdout",
     "output_type": "stream",
     "text": [
      "[71000] W_distance: -0.0012 Loss_G: 0.8217 time:108707.4579\n"
     ]
    },
    {
     "name": "stderr",
     "output_type": "stream",
     "text": [
      "Done. 11.2s\n",
      "\u001b[34m\u001b[1mwandb\u001b[0m: Adding directory to artifact (./WGAN_output/run-0/models)... "
     ]
    },
    {
     "name": "stdout",
     "output_type": "stream",
     "text": [
      "[71500] W_distance: -0.0050 Loss_G: 0.8236 time:109480.1215\n"
     ]
    },
    {
     "name": "stderr",
     "output_type": "stream",
     "text": [
      "Done. 4.3s\n"
     ]
    },
    {
     "name": "stdout",
     "output_type": "stream",
     "text": [
      "[72000] W_distance: -0.0048 Loss_G: 0.8225 time:110245.4780\n"
     ]
    },
    {
     "name": "stderr",
     "output_type": "stream",
     "text": [
      "\u001b[34m\u001b[1mwandb\u001b[0m: Adding directory to artifact (./WGAN_output/run-0/models)... Done. 9.3s\n",
      "\u001b[34m\u001b[1mwandb\u001b[0m: Adding directory to artifact (./WGAN_output/run-0/models)... "
     ]
    },
    {
     "name": "stdout",
     "output_type": "stream",
     "text": [
      "[72500] W_distance: -0.0074 Loss_G: 0.8245 time:111016.4042\n"
     ]
    },
    {
     "name": "stderr",
     "output_type": "stream",
     "text": [
      "Done. 2.9s\n"
     ]
    },
    {
     "name": "stdout",
     "output_type": "stream",
     "text": [
      "[73000] W_distance: -0.0088 Loss_G: 0.8240 time:111766.2264\n"
     ]
    },
    {
     "name": "stderr",
     "output_type": "stream",
     "text": [
      "\u001b[34m\u001b[1mwandb\u001b[0m: Adding directory to artifact (./WGAN_output/run-0/models)... Done. 13.0s\n",
      "\u001b[34m\u001b[1mwandb\u001b[0m: Adding directory to artifact (./WGAN_output/run-0/models)... "
     ]
    },
    {
     "name": "stdout",
     "output_type": "stream",
     "text": [
      "[73500] W_distance: -0.0051 Loss_G: 0.8235 time:112542.8866\n"
     ]
    },
    {
     "name": "stderr",
     "output_type": "stream",
     "text": [
      "Done. 5.9s\n"
     ]
    },
    {
     "name": "stdout",
     "output_type": "stream",
     "text": [
      "[74000] W_distance: -0.0015 Loss_G: 0.8217 time:113312.3655\n"
     ]
    },
    {
     "name": "stderr",
     "output_type": "stream",
     "text": [
      "\u001b[34m\u001b[1mwandb\u001b[0m: Adding directory to artifact (./WGAN_output/run-0/models)... Done. 7.9s\n",
      "\u001b[34m\u001b[1mwandb\u001b[0m: Adding directory to artifact (./WGAN_output/run-0/models)... "
     ]
    },
    {
     "name": "stdout",
     "output_type": "stream",
     "text": [
      "[74500] W_distance: -0.0080 Loss_G: 0.8240 time:114080.5536\n"
     ]
    },
    {
     "name": "stderr",
     "output_type": "stream",
     "text": [
      "Done. 3.1s\n",
      "\u001b[34m\u001b[1mwandb\u001b[0m: Adding directory to artifact (./WGAN_output/run-0/models)... "
     ]
    },
    {
     "name": "stdout",
     "output_type": "stream",
     "text": [
      "[75000] W_distance: -0.0067 Loss_G: 0.8238 time:114847.1613\n"
     ]
    },
    {
     "name": "stderr",
     "output_type": "stream",
     "text": [
      "Done. 2.9s\n"
     ]
    },
    {
     "name": "stdout",
     "output_type": "stream",
     "text": [
      "[75500] W_distance: -0.0033 Loss_G: 0.8220 time:115601.5835\n"
     ]
    },
    {
     "name": "stderr",
     "output_type": "stream",
     "text": [
      "\u001b[34m\u001b[1mwandb\u001b[0m: Adding directory to artifact (./WGAN_output/run-0/models)... Done. 12.5s\n",
      "\u001b[34m\u001b[1mwandb\u001b[0m: Adding directory to artifact (./WGAN_output/run-0/models)... "
     ]
    },
    {
     "name": "stdout",
     "output_type": "stream",
     "text": [
      "[76000] W_distance: -0.0015 Loss_G: 0.8206 time:116374.9376\n"
     ]
    },
    {
     "name": "stderr",
     "output_type": "stream",
     "text": [
      "Done. 13.1s\n"
     ]
    },
    {
     "name": "stdout",
     "output_type": "stream",
     "text": [
      "[76500] W_distance: -0.0023 Loss_G: 0.8223 time:117150.2217\n"
     ]
    },
    {
     "name": "stderr",
     "output_type": "stream",
     "text": [
      "\u001b[34m\u001b[1mwandb\u001b[0m: Adding directory to artifact (./WGAN_output/run-0/models)... Done. 4.7s\n",
      "\u001b[34m\u001b[1mwandb\u001b[0m: Adding directory to artifact (./WGAN_output/run-0/models)... "
     ]
    },
    {
     "name": "stdout",
     "output_type": "stream",
     "text": [
      "[77000] W_distance: -0.0044 Loss_G: 0.8231 time:117917.1546\n"
     ]
    },
    {
     "name": "stderr",
     "output_type": "stream",
     "text": [
      "Done. 3.1s\n"
     ]
    },
    {
     "name": "stdout",
     "output_type": "stream",
     "text": [
      "[77500] W_distance: -0.0053 Loss_G: 0.8239 time:118670.1499\n"
     ]
    },
    {
     "name": "stderr",
     "output_type": "stream",
     "text": [
      "\u001b[34m\u001b[1mwandb\u001b[0m: Adding directory to artifact (./WGAN_output/run-0/models)... Done. 14.2s\n",
      "\u001b[34m\u001b[1mwandb\u001b[0m: Adding directory to artifact (./WGAN_output/run-0/models)... "
     ]
    },
    {
     "name": "stdout",
     "output_type": "stream",
     "text": [
      "[78000] W_distance: -0.0108 Loss_G: 0.8239 time:119444.6634\n"
     ]
    },
    {
     "name": "stderr",
     "output_type": "stream",
     "text": [
      "Done. 21.3s\n",
      "\u001b[34m\u001b[1mwandb\u001b[0m: Adding directory to artifact (./WGAN_output/run-0/models)... "
     ]
    },
    {
     "name": "stdout",
     "output_type": "stream",
     "text": [
      "[78500] W_distance: -0.0071 Loss_G: 0.8244 time:120226.6496\n"
     ]
    },
    {
     "name": "stderr",
     "output_type": "stream",
     "text": [
      "Done. 9.4s\n",
      "\u001b[34m\u001b[1mwandb\u001b[0m: Adding directory to artifact (./WGAN_output/run-0/models)... "
     ]
    },
    {
     "name": "stdout",
     "output_type": "stream",
     "text": [
      "[79500] W_distance: -0.0011 Loss_G: 0.8212 time:121716.0929\n"
     ]
    },
    {
     "name": "stderr",
     "output_type": "stream",
     "text": [
      "Done. 12.5s\n",
      "\u001b[34m\u001b[1mwandb\u001b[0m: Adding directory to artifact (./WGAN_output/run-0/models)... "
     ]
    },
    {
     "name": "stdout",
     "output_type": "stream",
     "text": [
      "[80000] W_distance: -0.0070 Loss_G: 0.8248 time:122493.2867\n"
     ]
    },
    {
     "name": "stderr",
     "output_type": "stream",
     "text": [
      "Done. 1.7s\n",
      "\u001b[34m\u001b[1mwandb\u001b[0m: Adding directory to artifact (./WGAN_output/run-0/models)... "
     ]
    },
    {
     "name": "stdout",
     "output_type": "stream",
     "text": [
      "[80500] W_distance: -0.0046 Loss_G: 0.8242 time:123259.3537\n"
     ]
    },
    {
     "name": "stderr",
     "output_type": "stream",
     "text": [
      "Done. 0.3s\n",
      "\u001b[34m\u001b[1mwandb\u001b[0m: Adding directory to artifact (./WGAN_output/run-0/models)... "
     ]
    },
    {
     "name": "stdout",
     "output_type": "stream",
     "text": [
      "[81000] W_distance: -0.0027 Loss_G: 0.8232 time:124021.2299\n"
     ]
    },
    {
     "name": "stderr",
     "output_type": "stream",
     "text": [
      "Done. 0.3s\n",
      "\u001b[34m\u001b[1mwandb\u001b[0m: Adding directory to artifact (./WGAN_output/run-0/models)... "
     ]
    },
    {
     "name": "stdout",
     "output_type": "stream",
     "text": [
      "[81500] W_distance: -0.0082 Loss_G: 0.8243 time:124779.3132\n"
     ]
    },
    {
     "name": "stderr",
     "output_type": "stream",
     "text": [
      "Done. 0.3s\n",
      "\u001b[34m\u001b[1mwandb\u001b[0m: Adding directory to artifact (./WGAN_output/run-0/models)... "
     ]
    },
    {
     "name": "stdout",
     "output_type": "stream",
     "text": [
      "[82000] W_distance: -0.0032 Loss_G: 0.8223 time:125544.3668\n"
     ]
    },
    {
     "name": "stderr",
     "output_type": "stream",
     "text": [
      "Done. 0.4s\n",
      "\u001b[34m\u001b[1mwandb\u001b[0m: Adding directory to artifact (./WGAN_output/run-0/models)... "
     ]
    },
    {
     "name": "stdout",
     "output_type": "stream",
     "text": [
      "[82500] W_distance: -0.0019 Loss_G: 0.8218 time:126309.3380\n"
     ]
    },
    {
     "name": "stderr",
     "output_type": "stream",
     "text": [
      "Done. 0.5s\n",
      "\u001b[34m\u001b[1mwandb\u001b[0m: Adding directory to artifact (./WGAN_output/run-0/models)... "
     ]
    },
    {
     "name": "stdout",
     "output_type": "stream",
     "text": [
      "[83000] W_distance: -0.0043 Loss_G: 0.8222 time:127075.9037\n"
     ]
    },
    {
     "name": "stderr",
     "output_type": "stream",
     "text": [
      "Done. 0.5s\n",
      "\u001b[34m\u001b[1mwandb\u001b[0m: Adding directory to artifact (./WGAN_output/run-0/models)... "
     ]
    },
    {
     "name": "stdout",
     "output_type": "stream",
     "text": [
      "[83500] W_distance: -0.0063 Loss_G: 0.8245 time:127840.5303\n"
     ]
    },
    {
     "name": "stderr",
     "output_type": "stream",
     "text": [
      "Done. 0.7s\n",
      "\u001b[34m\u001b[1mwandb\u001b[0m: Adding directory to artifact (./WGAN_output/run-0/models)... "
     ]
    },
    {
     "name": "stdout",
     "output_type": "stream",
     "text": [
      "[84000] W_distance: -0.0052 Loss_G: 0.8238 time:128604.6883\n"
     ]
    },
    {
     "name": "stderr",
     "output_type": "stream",
     "text": [
      "Done. 0.4s\n",
      "\u001b[34m\u001b[1mwandb\u001b[0m: Adding directory to artifact (./WGAN_output/run-0/models)... "
     ]
    },
    {
     "name": "stdout",
     "output_type": "stream",
     "text": [
      "[84500] W_distance: -0.0029 Loss_G: 0.8226 time:129368.8084\n"
     ]
    },
    {
     "name": "stderr",
     "output_type": "stream",
     "text": [
      "Done. 0.5s\n",
      "\u001b[34m\u001b[1mwandb\u001b[0m: Adding directory to artifact (./WGAN_output/run-0/models)... "
     ]
    },
    {
     "name": "stdout",
     "output_type": "stream",
     "text": [
      "[85000] W_distance: -0.0026 Loss_G: 0.8224 time:130134.1522\n"
     ]
    },
    {
     "name": "stderr",
     "output_type": "stream",
     "text": [
      "Done. 0.6s\n",
      "\u001b[34m\u001b[1mwandb\u001b[0m: Adding directory to artifact (./WGAN_output/run-0/models)... "
     ]
    },
    {
     "name": "stdout",
     "output_type": "stream",
     "text": [
      "[85500] W_distance: -0.0021 Loss_G: 0.8222 time:130898.3016\n"
     ]
    },
    {
     "name": "stderr",
     "output_type": "stream",
     "text": [
      "Done. 0.5s\n",
      "\u001b[34m\u001b[1mwandb\u001b[0m: Adding directory to artifact (./WGAN_output/run-0/models)... "
     ]
    },
    {
     "name": "stdout",
     "output_type": "stream",
     "text": [
      "[86000] W_distance: -0.0045 Loss_G: 0.8244 time:131661.0943\n"
     ]
    },
    {
     "name": "stderr",
     "output_type": "stream",
     "text": [
      "Done. 0.6s\n",
      "\u001b[34m\u001b[1mwandb\u001b[0m: Adding directory to artifact (./WGAN_output/run-0/models)... "
     ]
    },
    {
     "name": "stdout",
     "output_type": "stream",
     "text": [
      "[86500] W_distance: -0.0015 Loss_G: 0.8210 time:132426.0800\n"
     ]
    },
    {
     "name": "stderr",
     "output_type": "stream",
     "text": [
      "Done. 0.5s\n",
      "\u001b[34m\u001b[1mwandb\u001b[0m: Adding directory to artifact (./WGAN_output/run-0/models)... "
     ]
    },
    {
     "name": "stdout",
     "output_type": "stream",
     "text": [
      "[87000] W_distance: -0.0032 Loss_G: 0.8224 time:133190.3420\n"
     ]
    },
    {
     "name": "stderr",
     "output_type": "stream",
     "text": [
      "Done. 0.6s\n",
      "\u001b[34m\u001b[1mwandb\u001b[0m: Adding directory to artifact (./WGAN_output/run-0/models)... "
     ]
    },
    {
     "name": "stdout",
     "output_type": "stream",
     "text": [
      "[87500] W_distance: -0.0041 Loss_G: 0.8223 time:133954.0759\n"
     ]
    },
    {
     "name": "stderr",
     "output_type": "stream",
     "text": [
      "Done. 0.5s\n",
      "\u001b[34m\u001b[1mwandb\u001b[0m: Adding directory to artifact (./WGAN_output/run-0/models)... "
     ]
    },
    {
     "name": "stdout",
     "output_type": "stream",
     "text": [
      "[88000] W_distance: -0.0025 Loss_G: 0.8223 time:134717.6178\n"
     ]
    },
    {
     "name": "stderr",
     "output_type": "stream",
     "text": [
      "Done. 0.5s\n",
      "\u001b[34m\u001b[1mwandb\u001b[0m: Adding directory to artifact (./WGAN_output/run-0/models)... "
     ]
    },
    {
     "name": "stdout",
     "output_type": "stream",
     "text": [
      "[88500] W_distance: -0.0051 Loss_G: 0.8231 time:135482.2274\n"
     ]
    },
    {
     "name": "stderr",
     "output_type": "stream",
     "text": [
      "Done. 0.6s\n",
      "\u001b[34m\u001b[1mwandb\u001b[0m: Adding directory to artifact (./WGAN_output/run-0/models)... "
     ]
    },
    {
     "name": "stdout",
     "output_type": "stream",
     "text": [
      "[89000] W_distance: -0.0056 Loss_G: 0.8225 time:136248.3149\n"
     ]
    },
    {
     "name": "stderr",
     "output_type": "stream",
     "text": [
      "Done. 0.6s\n",
      "\u001b[34m\u001b[1mwandb\u001b[0m: Adding directory to artifact (./WGAN_output/run-0/models)... "
     ]
    },
    {
     "name": "stdout",
     "output_type": "stream",
     "text": [
      "[89500] W_distance: -0.0042 Loss_G: 0.8228 time:137014.9369\n"
     ]
    },
    {
     "name": "stderr",
     "output_type": "stream",
     "text": [
      "Done. 0.7s\n",
      "\u001b[34m\u001b[1mwandb\u001b[0m: Adding directory to artifact (./WGAN_output/run-0/models)... "
     ]
    },
    {
     "name": "stdout",
     "output_type": "stream",
     "text": [
      "[90000] W_distance: -0.0036 Loss_G: 0.8227 time:137777.8772\n"
     ]
    },
    {
     "name": "stderr",
     "output_type": "stream",
     "text": [
      "Done. 0.7s\n",
      "\u001b[34m\u001b[1mwandb\u001b[0m: Adding directory to artifact (./WGAN_output/run-0/models)... "
     ]
    },
    {
     "name": "stdout",
     "output_type": "stream",
     "text": [
      "[90500] W_distance: -0.0018 Loss_G: 0.8210 time:138544.1830\n"
     ]
    },
    {
     "name": "stderr",
     "output_type": "stream",
     "text": [
      "Done. 0.7s\n",
      "\u001b[34m\u001b[1mwandb\u001b[0m: Adding directory to artifact (./WGAN_output/run-0/models)... "
     ]
    },
    {
     "name": "stdout",
     "output_type": "stream",
     "text": [
      "[91000] W_distance: -0.0030 Loss_G: 0.8224 time:139308.4855\n"
     ]
    },
    {
     "name": "stderr",
     "output_type": "stream",
     "text": [
      "Done. 0.7s\n",
      "\u001b[34m\u001b[1mwandb\u001b[0m: Adding directory to artifact (./WGAN_output/run-0/models)... "
     ]
    },
    {
     "name": "stdout",
     "output_type": "stream",
     "text": [
      "[91500] W_distance: -0.0039 Loss_G: 0.8223 time:140072.6569\n"
     ]
    },
    {
     "name": "stderr",
     "output_type": "stream",
     "text": [
      "Done. 0.7s\n",
      "\u001b[34m\u001b[1mwandb\u001b[0m: Adding directory to artifact (./WGAN_output/run-0/models)... "
     ]
    },
    {
     "name": "stdout",
     "output_type": "stream",
     "text": [
      "[92000] W_distance: -0.0027 Loss_G: 0.8221 time:140838.5847\n"
     ]
    },
    {
     "name": "stderr",
     "output_type": "stream",
     "text": [
      "Done. 0.7s\n",
      "\u001b[34m\u001b[1mwandb\u001b[0m: Adding directory to artifact (./WGAN_output/run-0/models)... "
     ]
    },
    {
     "name": "stdout",
     "output_type": "stream",
     "text": [
      "[92500] W_distance: -0.0026 Loss_G: 0.8224 time:141601.5056\n"
     ]
    },
    {
     "name": "stderr",
     "output_type": "stream",
     "text": [
      "Done. 0.7s\n",
      "\u001b[34m\u001b[1mwandb\u001b[0m: Adding directory to artifact (./WGAN_output/run-0/models)... "
     ]
    },
    {
     "name": "stdout",
     "output_type": "stream",
     "text": [
      "[93000] W_distance: -0.0043 Loss_G: 0.8218 time:142365.4333\n"
     ]
    },
    {
     "name": "stderr",
     "output_type": "stream",
     "text": [
      "Done. 0.7s\n",
      "\u001b[34m\u001b[1mwandb\u001b[0m: Adding directory to artifact (./WGAN_output/run-0/models)... "
     ]
    },
    {
     "name": "stdout",
     "output_type": "stream",
     "text": [
      "[93500] W_distance: -0.0072 Loss_G: 0.8243 time:143132.3467\n"
     ]
    },
    {
     "name": "stderr",
     "output_type": "stream",
     "text": [
      "Done. 1.0s\n",
      "\u001b[34m\u001b[1mwandb\u001b[0m: Adding directory to artifact (./WGAN_output/run-0/models)... "
     ]
    },
    {
     "name": "stdout",
     "output_type": "stream",
     "text": [
      "[94000] W_distance: -0.0027 Loss_G: 0.8231 time:143900.3249\n"
     ]
    },
    {
     "name": "stderr",
     "output_type": "stream",
     "text": [
      "Done. 0.8s\n",
      "\u001b[34m\u001b[1mwandb\u001b[0m: Adding directory to artifact (./WGAN_output/run-0/models)... "
     ]
    },
    {
     "name": "stdout",
     "output_type": "stream",
     "text": [
      "[94500] W_distance: -0.0055 Loss_G: 0.8239 time:144663.2479\n"
     ]
    },
    {
     "name": "stderr",
     "output_type": "stream",
     "text": [
      "Done. 0.8s\n",
      "\u001b[34m\u001b[1mwandb\u001b[0m: Adding directory to artifact (./WGAN_output/run-0/models)... "
     ]
    },
    {
     "name": "stdout",
     "output_type": "stream",
     "text": [
      "[95000] W_distance: -0.0010 Loss_G: 0.8212 time:145429.5378\n"
     ]
    },
    {
     "name": "stderr",
     "output_type": "stream",
     "text": [
      "Done. 0.8s\n",
      "\u001b[34m\u001b[1mwandb\u001b[0m: Adding directory to artifact (./WGAN_output/run-0/models)... "
     ]
    },
    {
     "name": "stdout",
     "output_type": "stream",
     "text": [
      "[95500] W_distance: -0.0014 Loss_G: 0.8212 time:146194.3088\n"
     ]
    },
    {
     "name": "stderr",
     "output_type": "stream",
     "text": [
      "Done. 0.8s\n",
      "\u001b[34m\u001b[1mwandb\u001b[0m: Adding directory to artifact (./WGAN_output/run-0/models)... "
     ]
    },
    {
     "name": "stdout",
     "output_type": "stream",
     "text": [
      "[96000] W_distance: -0.0031 Loss_G: 0.8229 time:146958.8344\n"
     ]
    },
    {
     "name": "stderr",
     "output_type": "stream",
     "text": [
      "Done. 0.9s\n"
     ]
    },
    {
     "name": "stdout",
     "output_type": "stream",
     "text": [
      "[96500] W_distance: -0.0041 Loss_G: 0.8233 time:147721.1459\n"
     ]
    },
    {
     "name": "stderr",
     "output_type": "stream",
     "text": [
      "\u001b[34m\u001b[1mwandb\u001b[0m: Adding directory to artifact (./WGAN_output/run-0/models)... Done. 0.8s\n",
      "\u001b[34m\u001b[1mwandb\u001b[0m: Adding directory to artifact (./WGAN_output/run-0/models)... "
     ]
    },
    {
     "name": "stdout",
     "output_type": "stream",
     "text": [
      "[97000] W_distance: -0.0084 Loss_G: 0.8243 time:148488.3814\n"
     ]
    },
    {
     "name": "stderr",
     "output_type": "stream",
     "text": [
      "Done. 0.9s\n",
      "\u001b[34m\u001b[1mwandb\u001b[0m: Adding directory to artifact (./WGAN_output/run-0/models)... "
     ]
    },
    {
     "name": "stdout",
     "output_type": "stream",
     "text": [
      "[97500] W_distance: -0.0006 Loss_G: 0.8211 time:149254.4221\n"
     ]
    },
    {
     "name": "stderr",
     "output_type": "stream",
     "text": [
      "Done. 0.9s\n",
      "\u001b[34m\u001b[1mwandb\u001b[0m: Adding directory to artifact (./WGAN_output/run-0/models)... "
     ]
    },
    {
     "name": "stdout",
     "output_type": "stream",
     "text": [
      "[98000] W_distance: -0.0042 Loss_G: 0.8230 time:150020.1242\n"
     ]
    },
    {
     "name": "stderr",
     "output_type": "stream",
     "text": [
      "Done. 1.2s\n",
      "\u001b[34m\u001b[1mwandb\u001b[0m: Adding directory to artifact (./WGAN_output/run-0/models)... "
     ]
    },
    {
     "name": "stdout",
     "output_type": "stream",
     "text": [
      "[98500] W_distance: -0.0022 Loss_G: 0.8216 time:150782.2707\n"
     ]
    },
    {
     "name": "stderr",
     "output_type": "stream",
     "text": [
      "Done. 1.0s\n",
      "\u001b[34m\u001b[1mwandb\u001b[0m: Adding directory to artifact (./WGAN_output/run-0/models)... "
     ]
    },
    {
     "name": "stdout",
     "output_type": "stream",
     "text": [
      "[99000] W_distance: -0.0050 Loss_G: 0.8234 time:151547.5244\n"
     ]
    },
    {
     "name": "stderr",
     "output_type": "stream",
     "text": [
      "Done. 1.0s\n",
      "\u001b[34m\u001b[1mwandb\u001b[0m: Adding directory to artifact (./WGAN_output/run-0/models)... "
     ]
    },
    {
     "name": "stdout",
     "output_type": "stream",
     "text": [
      "[99500] W_distance: -0.0055 Loss_G: 0.8246 time:152312.9497\n"
     ]
    },
    {
     "name": "stderr",
     "output_type": "stream",
     "text": [
      "Done. 1.3s\n",
      "\u001b[34m\u001b[1mwandb\u001b[0m: Adding directory to artifact (./WGAN_output/run-0/models)... "
     ]
    },
    {
     "name": "stdout",
     "output_type": "stream",
     "text": [
      "[100000] W_distance: -0.0042 Loss_G: 0.8244 time:153078.1249\n"
     ]
    },
    {
     "name": "stderr",
     "output_type": "stream",
     "text": [
      "Done. 1.1s\n",
      "\u001b[34m\u001b[1mwandb\u001b[0m: Adding directory to artifact (./WGAN_output/run-0/models)... "
     ]
    },
    {
     "name": "stdout",
     "output_type": "stream",
     "text": [
      "[100500] W_distance: -0.0048 Loss_G: 0.8224 time:153844.1115\n"
     ]
    },
    {
     "name": "stderr",
     "output_type": "stream",
     "text": [
      "Done. 1.0s\n",
      "\u001b[34m\u001b[1mwandb\u001b[0m: Adding directory to artifact (./WGAN_output/run-0/models)... "
     ]
    },
    {
     "name": "stdout",
     "output_type": "stream",
     "text": [
      "[101000] W_distance: -0.0018 Loss_G: 0.8216 time:154606.9308\n"
     ]
    },
    {
     "name": "stderr",
     "output_type": "stream",
     "text": [
      "Done. 1.2s\n",
      "\u001b[34m\u001b[1mwandb\u001b[0m: Adding directory to artifact (./WGAN_output/run-0/models)... "
     ]
    },
    {
     "name": "stdout",
     "output_type": "stream",
     "text": [
      "[101500] W_distance: -0.0078 Loss_G: 0.8238 time:155371.5300\n"
     ]
    },
    {
     "name": "stderr",
     "output_type": "stream",
     "text": [
      "Done. 1.0s\n",
      "\u001b[34m\u001b[1mwandb\u001b[0m: Adding directory to artifact (./WGAN_output/run-0/models)... "
     ]
    },
    {
     "name": "stdout",
     "output_type": "stream",
     "text": [
      "[102000] W_distance: -0.0049 Loss_G: 0.8229 time:156137.9392\n"
     ]
    },
    {
     "name": "stderr",
     "output_type": "stream",
     "text": [
      "Done. 1.2s\n",
      "\u001b[34m\u001b[1mwandb\u001b[0m: Adding directory to artifact (./WGAN_output/run-0/models)... "
     ]
    },
    {
     "name": "stdout",
     "output_type": "stream",
     "text": [
      "[102500] W_distance: -0.0055 Loss_G: 0.8236 time:156899.7591\n"
     ]
    },
    {
     "name": "stderr",
     "output_type": "stream",
     "text": [
      "Done. 1.3s\n",
      "\u001b[34m\u001b[1mwandb\u001b[0m: Adding directory to artifact (./WGAN_output/run-0/models)... "
     ]
    },
    {
     "name": "stdout",
     "output_type": "stream",
     "text": [
      "[103000] W_distance: -0.0027 Loss_G: 0.8230 time:157659.8492\n"
     ]
    },
    {
     "name": "stderr",
     "output_type": "stream",
     "text": [
      "Done. 1.3s\n",
      "\u001b[34m\u001b[1mwandb\u001b[0m: Adding directory to artifact (./WGAN_output/run-0/models)... "
     ]
    },
    {
     "name": "stdout",
     "output_type": "stream",
     "text": [
      "[103500] W_distance: -0.0037 Loss_G: 0.8233 time:158422.9585\n"
     ]
    },
    {
     "name": "stderr",
     "output_type": "stream",
     "text": [
      "Done. 1.2s\n",
      "\u001b[34m\u001b[1mwandb\u001b[0m: Adding directory to artifact (./WGAN_output/run-0/models)... "
     ]
    },
    {
     "name": "stdout",
     "output_type": "stream",
     "text": [
      "[104000] W_distance: -0.0021 Loss_G: 0.8224 time:159183.9144\n"
     ]
    },
    {
     "name": "stderr",
     "output_type": "stream",
     "text": [
      "Done. 1.2s\n",
      "\u001b[34m\u001b[1mwandb\u001b[0m: Adding directory to artifact (./WGAN_output/run-0/models)... "
     ]
    },
    {
     "name": "stdout",
     "output_type": "stream",
     "text": [
      "[104500] W_distance: -0.0085 Loss_G: 0.8246 time:159945.4628\n"
     ]
    },
    {
     "name": "stderr",
     "output_type": "stream",
     "text": [
      "Done. 1.3s\n",
      "\u001b[34m\u001b[1mwandb\u001b[0m: Adding directory to artifact (./WGAN_output/run-0/models)... "
     ]
    },
    {
     "name": "stdout",
     "output_type": "stream",
     "text": [
      "[105000] W_distance: -0.0041 Loss_G: 0.8220 time:160705.1395\n"
     ]
    },
    {
     "name": "stderr",
     "output_type": "stream",
     "text": [
      "Done. 1.4s\n",
      "\u001b[34m\u001b[1mwandb\u001b[0m: Adding directory to artifact (./WGAN_output/run-0/models)... "
     ]
    },
    {
     "name": "stdout",
     "output_type": "stream",
     "text": [
      "[105500] W_distance: -0.0035 Loss_G: 0.8220 time:161466.8443\n"
     ]
    },
    {
     "name": "stderr",
     "output_type": "stream",
     "text": [
      "Done. 1.5s\n",
      "\u001b[34m\u001b[1mwandb\u001b[0m: Adding directory to artifact (./WGAN_output/run-0/models)... "
     ]
    },
    {
     "name": "stdout",
     "output_type": "stream",
     "text": [
      "[106000] W_distance: -0.0035 Loss_G: 0.8231 time:162227.9718\n"
     ]
    },
    {
     "name": "stderr",
     "output_type": "stream",
     "text": [
      "Done. 1.3s\n",
      "\u001b[34m\u001b[1mwandb\u001b[0m: Adding directory to artifact (./WGAN_output/run-0/models)... "
     ]
    },
    {
     "name": "stdout",
     "output_type": "stream",
     "text": [
      "[106500] W_distance: -0.0079 Loss_G: 0.8260 time:162990.7160\n"
     ]
    },
    {
     "name": "stderr",
     "output_type": "stream",
     "text": [
      "Done. 1.2s\n",
      "\u001b[34m\u001b[1mwandb\u001b[0m: Adding directory to artifact (./WGAN_output/run-0/models)... "
     ]
    },
    {
     "name": "stdout",
     "output_type": "stream",
     "text": [
      "[107000] W_distance: -0.0014 Loss_G: 0.8222 time:163744.9455\n"
     ]
    },
    {
     "name": "stderr",
     "output_type": "stream",
     "text": [
      "Done. 1.8s\n",
      "\u001b[34m\u001b[1mwandb\u001b[0m: Adding directory to artifact (./WGAN_output/run-0/models)... "
     ]
    },
    {
     "name": "stdout",
     "output_type": "stream",
     "text": [
      "[107500] W_distance: -0.0038 Loss_G: 0.8221 time:164507.1302\n"
     ]
    },
    {
     "name": "stderr",
     "output_type": "stream",
     "text": [
      "Done. 1.3s\n",
      "\u001b[34m\u001b[1mwandb\u001b[0m: Adding directory to artifact (./WGAN_output/run-0/models)... "
     ]
    },
    {
     "name": "stdout",
     "output_type": "stream",
     "text": [
      "[108000] W_distance: -0.0036 Loss_G: 0.8225 time:165268.9919\n"
     ]
    },
    {
     "name": "stderr",
     "output_type": "stream",
     "text": [
      "Done. 1.2s\n",
      "\u001b[34m\u001b[1mwandb\u001b[0m: Adding directory to artifact (./WGAN_output/run-0/models)... "
     ]
    },
    {
     "name": "stdout",
     "output_type": "stream",
     "text": [
      "[108500] W_distance: -0.0049 Loss_G: 0.8235 time:166029.0530\n"
     ]
    },
    {
     "name": "stderr",
     "output_type": "stream",
     "text": [
      "Done. 0.3s\n",
      "\u001b[34m\u001b[1mwandb\u001b[0m: Adding directory to artifact (./WGAN_output/run-0/models)... "
     ]
    },
    {
     "name": "stdout",
     "output_type": "stream",
     "text": [
      "[109000] W_distance: -0.0051 Loss_G: 0.8233 time:166789.5554\n"
     ]
    },
    {
     "name": "stderr",
     "output_type": "stream",
     "text": [
      "Done. 0.3s\n",
      "\u001b[34m\u001b[1mwandb\u001b[0m: Adding directory to artifact (./WGAN_output/run-0/models)... "
     ]
    },
    {
     "name": "stdout",
     "output_type": "stream",
     "text": [
      "[109500] W_distance: -0.0028 Loss_G: 0.8225 time:167549.0126\n"
     ]
    },
    {
     "name": "stderr",
     "output_type": "stream",
     "text": [
      "Done. 0.3s\n",
      "\u001b[34m\u001b[1mwandb\u001b[0m: Adding directory to artifact (./WGAN_output/run-0/models)... "
     ]
    },
    {
     "name": "stdout",
     "output_type": "stream",
     "text": [
      "[110000] W_distance: -0.0044 Loss_G: 0.8229 time:168308.1007\n"
     ]
    },
    {
     "name": "stderr",
     "output_type": "stream",
     "text": [
      "Done. 0.3s\n",
      "\u001b[34m\u001b[1mwandb\u001b[0m: Adding directory to artifact (./WGAN_output/run-0/models)... "
     ]
    },
    {
     "name": "stdout",
     "output_type": "stream",
     "text": [
      "[110500] W_distance: -0.0056 Loss_G: 0.8237 time:169068.0293\n"
     ]
    },
    {
     "name": "stderr",
     "output_type": "stream",
     "text": [
      "Done. 0.7s\n",
      "\u001b[34m\u001b[1mwandb\u001b[0m: Adding directory to artifact (./WGAN_output/run-0/models)... "
     ]
    },
    {
     "name": "stdout",
     "output_type": "stream",
     "text": [
      "[111000] W_distance: -0.0025 Loss_G: 0.8229 time:169828.1886\n"
     ]
    },
    {
     "name": "stderr",
     "output_type": "stream",
     "text": [
      "Done. 0.3s\n",
      "\u001b[34m\u001b[1mwandb\u001b[0m: Adding directory to artifact (./WGAN_output/run-0/models)... "
     ]
    },
    {
     "name": "stdout",
     "output_type": "stream",
     "text": [
      "[111500] W_distance: -0.0012 Loss_G: 0.8211 time:170587.8909\n"
     ]
    },
    {
     "name": "stderr",
     "output_type": "stream",
     "text": [
      "Done. 0.3s\n",
      "\u001b[34m\u001b[1mwandb\u001b[0m: Adding directory to artifact (./WGAN_output/run-0/models)... "
     ]
    },
    {
     "name": "stdout",
     "output_type": "stream",
     "text": [
      "[112000] W_distance: -0.0044 Loss_G: 0.8232 time:171348.9992\n"
     ]
    },
    {
     "name": "stderr",
     "output_type": "stream",
     "text": [
      "Done. 0.3s\n",
      "\u001b[34m\u001b[1mwandb\u001b[0m: Adding directory to artifact (./WGAN_output/run-0/models)... "
     ]
    },
    {
     "name": "stdout",
     "output_type": "stream",
     "text": [
      "[112500] W_distance: -0.0040 Loss_G: 0.8233 time:172108.4333\n"
     ]
    },
    {
     "name": "stderr",
     "output_type": "stream",
     "text": [
      "Done. 0.4s\n",
      "\u001b[34m\u001b[1mwandb\u001b[0m: Adding directory to artifact (./WGAN_output/run-0/models)... "
     ]
    },
    {
     "name": "stdout",
     "output_type": "stream",
     "text": [
      "[113000] W_distance: -0.0009 Loss_G: 0.8209 time:172869.2168\n"
     ]
    },
    {
     "name": "stderr",
     "output_type": "stream",
     "text": [
      "Done. 0.4s\n",
      "\u001b[34m\u001b[1mwandb\u001b[0m: Adding directory to artifact (./WGAN_output/run-0/models)... "
     ]
    },
    {
     "name": "stdout",
     "output_type": "stream",
     "text": [
      "[113500] W_distance: -0.0032 Loss_G: 0.8225 time:173627.1995\n"
     ]
    },
    {
     "name": "stderr",
     "output_type": "stream",
     "text": [
      "Done. 0.5s\n",
      "\u001b[34m\u001b[1mwandb\u001b[0m: Adding directory to artifact (./WGAN_output/run-0/models)... "
     ]
    },
    {
     "name": "stdout",
     "output_type": "stream",
     "text": [
      "[114000] W_distance: -0.0046 Loss_G: 0.8226 time:174387.0288\n"
     ]
    },
    {
     "name": "stderr",
     "output_type": "stream",
     "text": [
      "Done. 0.4s\n",
      "\u001b[34m\u001b[1mwandb\u001b[0m: Adding directory to artifact (./WGAN_output/run-0/models)... "
     ]
    },
    {
     "name": "stdout",
     "output_type": "stream",
     "text": [
      "[114500] W_distance: -0.0039 Loss_G: 0.8230 time:175146.2315\n"
     ]
    },
    {
     "name": "stderr",
     "output_type": "stream",
     "text": [
      "Done. 0.5s\n",
      "\u001b[34m\u001b[1mwandb\u001b[0m: Adding directory to artifact (./WGAN_output/run-0/models)... "
     ]
    },
    {
     "name": "stdout",
     "output_type": "stream",
     "text": [
      "[115000] W_distance: -0.0059 Loss_G: 0.8233 time:175906.1340\n"
     ]
    },
    {
     "name": "stderr",
     "output_type": "stream",
     "text": [
      "Done. 0.5s\n",
      "\u001b[34m\u001b[1mwandb\u001b[0m: Adding directory to artifact (./WGAN_output/run-0/models)... "
     ]
    },
    {
     "name": "stdout",
     "output_type": "stream",
     "text": [
      "[115500] W_distance: -0.0027 Loss_G: 0.8234 time:176664.8185\n"
     ]
    },
    {
     "name": "stderr",
     "output_type": "stream",
     "text": [
      "Done. 0.5s\n",
      "\u001b[34m\u001b[1mwandb\u001b[0m: Adding directory to artifact (./WGAN_output/run-0/models)... "
     ]
    },
    {
     "name": "stdout",
     "output_type": "stream",
     "text": [
      "[116000] W_distance: -0.0067 Loss_G: 0.8237 time:177425.8476\n"
     ]
    },
    {
     "name": "stderr",
     "output_type": "stream",
     "text": [
      "Done. 0.5s\n",
      "\u001b[34m\u001b[1mwandb\u001b[0m: Adding directory to artifact (./WGAN_output/run-0/models)... "
     ]
    },
    {
     "name": "stdout",
     "output_type": "stream",
     "text": [
      "[116500] W_distance: -0.0044 Loss_G: 0.8231 time:178186.8248\n"
     ]
    },
    {
     "name": "stderr",
     "output_type": "stream",
     "text": [
      "Done. 0.6s\n",
      "\u001b[34m\u001b[1mwandb\u001b[0m: Adding directory to artifact (./WGAN_output/run-0/models)... "
     ]
    },
    {
     "name": "stdout",
     "output_type": "stream",
     "text": [
      "[117000] W_distance: -0.0029 Loss_G: 0.8222 time:178946.4001\n"
     ]
    },
    {
     "name": "stderr",
     "output_type": "stream",
     "text": [
      "Done. 0.5s\n",
      "\u001b[34m\u001b[1mwandb\u001b[0m: Adding directory to artifact (./WGAN_output/run-0/models)... "
     ]
    },
    {
     "name": "stdout",
     "output_type": "stream",
     "text": [
      "[117500] W_distance: -0.0035 Loss_G: 0.8227 time:179705.5362\n"
     ]
    },
    {
     "name": "stderr",
     "output_type": "stream",
     "text": [
      "Done. 0.6s\n",
      "\u001b[34m\u001b[1mwandb\u001b[0m: Adding directory to artifact (./WGAN_output/run-0/models)... "
     ]
    },
    {
     "name": "stdout",
     "output_type": "stream",
     "text": [
      "[118000] W_distance: -0.0080 Loss_G: 0.8241 time:180464.5444\n"
     ]
    },
    {
     "name": "stderr",
     "output_type": "stream",
     "text": [
      "Done. 0.5s\n",
      "\u001b[34m\u001b[1mwandb\u001b[0m: Adding directory to artifact (./WGAN_output/run-0/models)... "
     ]
    },
    {
     "name": "stdout",
     "output_type": "stream",
     "text": [
      "[118500] W_distance: -0.0082 Loss_G: 0.8246 time:181225.5805\n"
     ]
    },
    {
     "name": "stderr",
     "output_type": "stream",
     "text": [
      "Done. 0.6s\n",
      "\u001b[34m\u001b[1mwandb\u001b[0m: Adding directory to artifact (./WGAN_output/run-0/models)... "
     ]
    },
    {
     "name": "stdout",
     "output_type": "stream",
     "text": [
      "[119000] W_distance: -0.0022 Loss_G: 0.8219 time:181986.7497\n"
     ]
    },
    {
     "name": "stderr",
     "output_type": "stream",
     "text": [
      "Done. 0.6s\n",
      "\u001b[34m\u001b[1mwandb\u001b[0m: Adding directory to artifact (./WGAN_output/run-0/models)... "
     ]
    },
    {
     "name": "stdout",
     "output_type": "stream",
     "text": [
      "[119500] W_distance: -0.0093 Loss_G: 0.8246 time:182746.3834\n"
     ]
    },
    {
     "name": "stderr",
     "output_type": "stream",
     "text": [
      "Done. 0.6s\n",
      "\u001b[34m\u001b[1mwandb\u001b[0m: Adding directory to artifact (./WGAN_output/run-0/models)... "
     ]
    },
    {
     "name": "stdout",
     "output_type": "stream",
     "text": [
      "[120000] W_distance: -0.0035 Loss_G: 0.8223 time:183506.4211\n"
     ]
    },
    {
     "name": "stderr",
     "output_type": "stream",
     "text": [
      "Done. 1.0s\n",
      "\u001b[34m\u001b[1mwandb\u001b[0m: Adding directory to artifact (./WGAN_output/run-0/models)... "
     ]
    },
    {
     "name": "stdout",
     "output_type": "stream",
     "text": [
      "[120500] W_distance: -0.0021 Loss_G: 0.8224 time:184267.3950\n"
     ]
    },
    {
     "name": "stderr",
     "output_type": "stream",
     "text": [
      "Done. 0.7s\n",
      "\u001b[34m\u001b[1mwandb\u001b[0m: Adding directory to artifact (./WGAN_output/run-0/models)... "
     ]
    },
    {
     "name": "stdout",
     "output_type": "stream",
     "text": [
      "[121000] W_distance: -0.0063 Loss_G: 0.8237 time:185028.9111\n"
     ]
    },
    {
     "name": "stderr",
     "output_type": "stream",
     "text": [
      "Done. 0.9s\n",
      "\u001b[34m\u001b[1mwandb\u001b[0m: Adding directory to artifact (./WGAN_output/run-0/models)... "
     ]
    },
    {
     "name": "stdout",
     "output_type": "stream",
     "text": [
      "[121500] W_distance: -0.0094 Loss_G: 0.8240 time:185789.9524\n"
     ]
    },
    {
     "name": "stderr",
     "output_type": "stream",
     "text": [
      "Done. 1.0s\n",
      "\u001b[34m\u001b[1mwandb\u001b[0m: Adding directory to artifact (./WGAN_output/run-0/models)... "
     ]
    },
    {
     "name": "stdout",
     "output_type": "stream",
     "text": [
      "[122000] W_distance: -0.0036 Loss_G: 0.8228 time:186549.3651\n"
     ]
    },
    {
     "name": "stderr",
     "output_type": "stream",
     "text": [
      "Done. 0.7s\n",
      "\u001b[34m\u001b[1mwandb\u001b[0m: Adding directory to artifact (./WGAN_output/run-0/models)... "
     ]
    },
    {
     "name": "stdout",
     "output_type": "stream",
     "text": [
      "[122500] W_distance: -0.0029 Loss_G: 0.8230 time:187309.0382\n"
     ]
    },
    {
     "name": "stderr",
     "output_type": "stream",
     "text": [
      "Done. 0.8s\n",
      "\u001b[34m\u001b[1mwandb\u001b[0m: Adding directory to artifact (./WGAN_output/run-0/models)... "
     ]
    },
    {
     "name": "stdout",
     "output_type": "stream",
     "text": [
      "[123000] W_distance: -0.0053 Loss_G: 0.8232 time:188068.8582\n"
     ]
    },
    {
     "name": "stderr",
     "output_type": "stream",
     "text": [
      "Done. 0.7s\n",
      "\u001b[34m\u001b[1mwandb\u001b[0m: Adding directory to artifact (./WGAN_output/run-0/models)... "
     ]
    },
    {
     "name": "stdout",
     "output_type": "stream",
     "text": [
      "[123500] W_distance: -0.0029 Loss_G: 0.8221 time:188829.9075\n"
     ]
    },
    {
     "name": "stderr",
     "output_type": "stream",
     "text": [
      "Done. 0.8s\n",
      "\u001b[34m\u001b[1mwandb\u001b[0m: Adding directory to artifact (./WGAN_output/run-0/models)... "
     ]
    },
    {
     "name": "stdout",
     "output_type": "stream",
     "text": [
      "[124000] W_distance: -0.0072 Loss_G: 0.8242 time:189589.1682\n"
     ]
    },
    {
     "name": "stderr",
     "output_type": "stream",
     "text": [
      "Done. 0.8s\n",
      "\u001b[34m\u001b[1mwandb\u001b[0m: Adding directory to artifact (./WGAN_output/run-0/models)... "
     ]
    },
    {
     "name": "stdout",
     "output_type": "stream",
     "text": [
      "[124500] W_distance: -0.0055 Loss_G: 0.8230 time:190349.0258\n"
     ]
    },
    {
     "name": "stderr",
     "output_type": "stream",
     "text": [
      "Done. 0.8s\n",
      "\u001b[34m\u001b[1mwandb\u001b[0m: Adding directory to artifact (./WGAN_output/run-0/models)... "
     ]
    },
    {
     "name": "stdout",
     "output_type": "stream",
     "text": [
      "[125000] W_distance: -0.0019 Loss_G: 0.8221 time:191110.5511\n"
     ]
    },
    {
     "name": "stderr",
     "output_type": "stream",
     "text": [
      "Done. 0.8s\n",
      "\u001b[34m\u001b[1mwandb\u001b[0m: Adding directory to artifact (./WGAN_output/run-0/models)... "
     ]
    },
    {
     "name": "stdout",
     "output_type": "stream",
     "text": [
      "[125500] W_distance: -0.0044 Loss_G: 0.8222 time:191871.2710\n"
     ]
    },
    {
     "name": "stderr",
     "output_type": "stream",
     "text": [
      "Done. 0.9s\n",
      "\u001b[34m\u001b[1mwandb\u001b[0m: Adding directory to artifact (./WGAN_output/run-0/models)... "
     ]
    },
    {
     "name": "stdout",
     "output_type": "stream",
     "text": [
      "[126000] W_distance: -0.0058 Loss_G: 0.8230 time:192631.6071\n"
     ]
    },
    {
     "name": "stderr",
     "output_type": "stream",
     "text": [
      "Done. 0.9s\n",
      "\u001b[34m\u001b[1mwandb\u001b[0m: Adding directory to artifact (./WGAN_output/run-0/models)... "
     ]
    },
    {
     "name": "stdout",
     "output_type": "stream",
     "text": [
      "[126500] W_distance: -0.0052 Loss_G: 0.8244 time:193391.5126\n"
     ]
    },
    {
     "name": "stderr",
     "output_type": "stream",
     "text": [
      "Done. 1.0s\n",
      "\u001b[34m\u001b[1mwandb\u001b[0m: Adding directory to artifact (./WGAN_output/run-0/models)... "
     ]
    },
    {
     "name": "stdout",
     "output_type": "stream",
     "text": [
      "[127000] W_distance: -0.0080 Loss_G: 0.8239 time:194151.2101\n"
     ]
    },
    {
     "name": "stderr",
     "output_type": "stream",
     "text": [
      "Done. 1.1s\n",
      "\u001b[34m\u001b[1mwandb\u001b[0m: Adding directory to artifact (./WGAN_output/run-0/models)... "
     ]
    },
    {
     "name": "stdout",
     "output_type": "stream",
     "text": [
      "[127500] W_distance: -0.0028 Loss_G: 0.8217 time:194911.6835\n"
     ]
    },
    {
     "name": "stderr",
     "output_type": "stream",
     "text": [
      "Done. 0.9s\n",
      "\u001b[34m\u001b[1mwandb\u001b[0m: Adding directory to artifact (./WGAN_output/run-0/models)... "
     ]
    },
    {
     "name": "stdout",
     "output_type": "stream",
     "text": [
      "[128000] W_distance: -0.0052 Loss_G: 0.8234 time:195672.3300\n"
     ]
    },
    {
     "name": "stderr",
     "output_type": "stream",
     "text": [
      "Done. 1.0s\n",
      "\u001b[34m\u001b[1mwandb\u001b[0m: Adding directory to artifact (./WGAN_output/run-0/models)... "
     ]
    },
    {
     "name": "stdout",
     "output_type": "stream",
     "text": [
      "[128500] W_distance: -0.0011 Loss_G: 0.8210 time:196432.2249\n"
     ]
    },
    {
     "name": "stderr",
     "output_type": "stream",
     "text": [
      "Done. 1.1s\n",
      "\u001b[34m\u001b[1mwandb\u001b[0m: Adding directory to artifact (./WGAN_output/run-0/models)... "
     ]
    },
    {
     "name": "stdout",
     "output_type": "stream",
     "text": [
      "[129000] W_distance: -0.0012 Loss_G: 0.8217 time:197192.0405\n"
     ]
    },
    {
     "name": "stderr",
     "output_type": "stream",
     "text": [
      "Done. 0.9s\n",
      "\u001b[34m\u001b[1mwandb\u001b[0m: Adding directory to artifact (./WGAN_output/run-0/models)... "
     ]
    },
    {
     "name": "stdout",
     "output_type": "stream",
     "text": [
      "[129500] W_distance: -0.0043 Loss_G: 0.8228 time:197951.6063\n"
     ]
    },
    {
     "name": "stderr",
     "output_type": "stream",
     "text": [
      "Done. 1.1s\n",
      "\u001b[34m\u001b[1mwandb\u001b[0m: Adding directory to artifact (./WGAN_output/run-0/models)... "
     ]
    },
    {
     "name": "stdout",
     "output_type": "stream",
     "text": [
      "[130000] W_distance: -0.0067 Loss_G: 0.8236 time:198711.6469\n"
     ]
    },
    {
     "name": "stderr",
     "output_type": "stream",
     "text": [
      "Done. 1.1s\n",
      "\u001b[34m\u001b[1mwandb\u001b[0m: Adding directory to artifact (./WGAN_output/run-0/models)... "
     ]
    },
    {
     "name": "stdout",
     "output_type": "stream",
     "text": [
      "[130500] W_distance: -0.0020 Loss_G: 0.8220 time:199472.0014\n"
     ]
    },
    {
     "name": "stderr",
     "output_type": "stream",
     "text": [
      "Done. 1.3s\n",
      "\u001b[34m\u001b[1mwandb\u001b[0m: Adding directory to artifact (./WGAN_output/run-0/models)... "
     ]
    },
    {
     "name": "stdout",
     "output_type": "stream",
     "text": [
      "[131000] W_distance: -0.0041 Loss_G: 0.8231 time:200233.7538\n"
     ]
    },
    {
     "name": "stderr",
     "output_type": "stream",
     "text": [
      "Done. 1.1s\n",
      "\u001b[34m\u001b[1mwandb\u001b[0m: Adding directory to artifact (./WGAN_output/run-0/models)... "
     ]
    },
    {
     "name": "stdout",
     "output_type": "stream",
     "text": [
      "[131500] W_distance: -0.0044 Loss_G: 0.8224 time:200995.3074\n"
     ]
    },
    {
     "name": "stderr",
     "output_type": "stream",
     "text": [
      "Done. 1.1s\n",
      "\u001b[34m\u001b[1mwandb\u001b[0m: Adding directory to artifact (./WGAN_output/run-0/models)... "
     ]
    },
    {
     "name": "stdout",
     "output_type": "stream",
     "text": [
      "[132000] W_distance: -0.0029 Loss_G: 0.8230 time:201755.3345\n"
     ]
    },
    {
     "name": "stderr",
     "output_type": "stream",
     "text": [
      "Done. 1.2s\n",
      "\u001b[34m\u001b[1mwandb\u001b[0m: Adding directory to artifact (./WGAN_output/run-0/models)... "
     ]
    },
    {
     "name": "stdout",
     "output_type": "stream",
     "text": [
      "[132500] W_distance: -0.0039 Loss_G: 0.8224 time:202518.0466\n"
     ]
    },
    {
     "name": "stderr",
     "output_type": "stream",
     "text": [
      "Done. 1.3s\n",
      "\u001b[34m\u001b[1mwandb\u001b[0m: Adding directory to artifact (./WGAN_output/run-0/models)... "
     ]
    },
    {
     "name": "stdout",
     "output_type": "stream",
     "text": [
      "[133000] W_distance: -0.0024 Loss_G: 0.8228 time:203277.4220\n"
     ]
    },
    {
     "name": "stderr",
     "output_type": "stream",
     "text": [
      "Done. 1.3s\n",
      "\u001b[34m\u001b[1mwandb\u001b[0m: Adding directory to artifact (./WGAN_output/run-0/models)... "
     ]
    },
    {
     "name": "stdout",
     "output_type": "stream",
     "text": [
      "[133500] W_distance: -0.0040 Loss_G: 0.8230 time:204038.4987\n"
     ]
    },
    {
     "name": "stderr",
     "output_type": "stream",
     "text": [
      "Done. 1.1s\n",
      "\u001b[34m\u001b[1mwandb\u001b[0m: Adding directory to artifact (./WGAN_output/run-0/models)... "
     ]
    },
    {
     "name": "stdout",
     "output_type": "stream",
     "text": [
      "[134000] W_distance: -0.0043 Loss_G: 0.8245 time:204798.6676\n"
     ]
    },
    {
     "name": "stderr",
     "output_type": "stream",
     "text": [
      "Done. 1.3s\n",
      "\u001b[34m\u001b[1mwandb\u001b[0m: Adding directory to artifact (./WGAN_output/run-0/models)... "
     ]
    },
    {
     "name": "stdout",
     "output_type": "stream",
     "text": [
      "[134500] W_distance: -0.0032 Loss_G: 0.8221 time:205560.4542\n"
     ]
    },
    {
     "name": "stderr",
     "output_type": "stream",
     "text": [
      "Done. 1.5s\n",
      "\u001b[34m\u001b[1mwandb\u001b[0m: Adding directory to artifact (./WGAN_output/run-0/models)... "
     ]
    },
    {
     "name": "stdout",
     "output_type": "stream",
     "text": [
      "[135000] W_distance: -0.0036 Loss_G: 0.8220 time:206318.9467\n"
     ]
    },
    {
     "name": "stderr",
     "output_type": "stream",
     "text": [
      "Done. 1.5s\n",
      "\u001b[34m\u001b[1mwandb\u001b[0m: Adding directory to artifact (./WGAN_output/run-0/models)... "
     ]
    },
    {
     "name": "stdout",
     "output_type": "stream",
     "text": [
      "[135500] W_distance: -0.0021 Loss_G: 0.8220 time:207080.3702\n"
     ]
    },
    {
     "name": "stderr",
     "output_type": "stream",
     "text": [
      "Done. 1.3s\n",
      "\u001b[34m\u001b[1mwandb\u001b[0m: Adding directory to artifact (./WGAN_output/run-0/models)... "
     ]
    },
    {
     "name": "stdout",
     "output_type": "stream",
     "text": [
      "[136000] W_distance: -0.0032 Loss_G: 0.8246 time:207842.2080\n"
     ]
    },
    {
     "name": "stderr",
     "output_type": "stream",
     "text": [
      "Done. 0.2s\n",
      "\u001b[34m\u001b[1mwandb\u001b[0m: Adding directory to artifact (./WGAN_output/run-0/models)... "
     ]
    },
    {
     "name": "stdout",
     "output_type": "stream",
     "text": [
      "[136500] W_distance: -0.0055 Loss_G: 0.8241 time:208601.9982\n"
     ]
    },
    {
     "name": "stderr",
     "output_type": "stream",
     "text": [
      "Done. 0.2s\n",
      "\u001b[34m\u001b[1mwandb\u001b[0m: Adding directory to artifact (./WGAN_output/run-0/models)... "
     ]
    },
    {
     "name": "stdout",
     "output_type": "stream",
     "text": [
      "[137000] W_distance: -0.0055 Loss_G: 0.8248 time:209361.6657\n"
     ]
    },
    {
     "name": "stderr",
     "output_type": "stream",
     "text": [
      "Done. 0.2s\n",
      "\u001b[34m\u001b[1mwandb\u001b[0m: Adding directory to artifact (./WGAN_output/run-0/models)... "
     ]
    },
    {
     "name": "stdout",
     "output_type": "stream",
     "text": [
      "[137500] W_distance: -0.0030 Loss_G: 0.8233 time:210122.1372\n"
     ]
    },
    {
     "name": "stderr",
     "output_type": "stream",
     "text": [
      "Done. 0.2s\n",
      "\u001b[34m\u001b[1mwandb\u001b[0m: Adding directory to artifact (./WGAN_output/run-0/models)... "
     ]
    },
    {
     "name": "stdout",
     "output_type": "stream",
     "text": [
      "[138000] W_distance: -0.0046 Loss_G: 0.8225 time:210881.8962\n"
     ]
    },
    {
     "name": "stderr",
     "output_type": "stream",
     "text": [
      "Done. 0.3s\n",
      "\u001b[34m\u001b[1mwandb\u001b[0m: Adding directory to artifact (./WGAN_output/run-0/models)... "
     ]
    },
    {
     "name": "stdout",
     "output_type": "stream",
     "text": [
      "[138500] W_distance: -0.0046 Loss_G: 0.8235 time:211641.7376\n"
     ]
    },
    {
     "name": "stderr",
     "output_type": "stream",
     "text": [
      "Done. 0.3s\n",
      "\u001b[34m\u001b[1mwandb\u001b[0m: Adding directory to artifact (./WGAN_output/run-0/models)... "
     ]
    },
    {
     "name": "stdout",
     "output_type": "stream",
     "text": [
      "[139000] W_distance: -0.0038 Loss_G: 0.8237 time:212400.3929\n"
     ]
    },
    {
     "name": "stderr",
     "output_type": "stream",
     "text": [
      "Done. 0.3s\n",
      "\u001b[34m\u001b[1mwandb\u001b[0m: Adding directory to artifact (./WGAN_output/run-0/models)... "
     ]
    },
    {
     "name": "stdout",
     "output_type": "stream",
     "text": [
      "[139500] W_distance: -0.0027 Loss_G: 0.8227 time:213162.3224\n"
     ]
    },
    {
     "name": "stderr",
     "output_type": "stream",
     "text": [
      "Done. 0.3s\n",
      "\u001b[34m\u001b[1mwandb\u001b[0m: Adding directory to artifact (./WGAN_output/run-0/models)... "
     ]
    },
    {
     "name": "stdout",
     "output_type": "stream",
     "text": [
      "[140000] W_distance: -0.0101 Loss_G: 0.8255 time:213923.9087\n"
     ]
    },
    {
     "name": "stderr",
     "output_type": "stream",
     "text": [
      "Done. 0.3s\n",
      "\u001b[34m\u001b[1mwandb\u001b[0m: Adding directory to artifact (./WGAN_output/run-0/models)... "
     ]
    },
    {
     "name": "stdout",
     "output_type": "stream",
     "text": [
      "[140500] W_distance: -0.0055 Loss_G: 0.8238 time:214684.9024\n"
     ]
    },
    {
     "name": "stderr",
     "output_type": "stream",
     "text": [
      "Done. 0.3s\n",
      "\u001b[34m\u001b[1mwandb\u001b[0m: Adding directory to artifact (./WGAN_output/run-0/models)... "
     ]
    },
    {
     "name": "stdout",
     "output_type": "stream",
     "text": [
      "[141000] W_distance: -0.0059 Loss_G: 0.8232 time:215443.3867\n"
     ]
    },
    {
     "name": "stderr",
     "output_type": "stream",
     "text": [
      "Done. 0.4s\n",
      "\u001b[34m\u001b[1mwandb\u001b[0m: Adding directory to artifact (./WGAN_output/run-0/models)... "
     ]
    },
    {
     "name": "stdout",
     "output_type": "stream",
     "text": [
      "[141500] W_distance: -0.0077 Loss_G: 0.8232 time:216203.0953\n"
     ]
    },
    {
     "name": "stderr",
     "output_type": "stream",
     "text": [
      "Done. 0.5s\n",
      "\u001b[34m\u001b[1mwandb\u001b[0m: Adding directory to artifact (./WGAN_output/run-0/models)... "
     ]
    },
    {
     "name": "stdout",
     "output_type": "stream",
     "text": [
      "[142000] W_distance: -0.0073 Loss_G: 0.8234 time:216965.9994\n"
     ]
    },
    {
     "name": "stderr",
     "output_type": "stream",
     "text": [
      "Done. 0.4s\n",
      "\u001b[34m\u001b[1mwandb\u001b[0m: Adding directory to artifact (./WGAN_output/run-0/models)... "
     ]
    },
    {
     "name": "stdout",
     "output_type": "stream",
     "text": [
      "[142500] W_distance: -0.0042 Loss_G: 0.8238 time:217726.6956\n"
     ]
    },
    {
     "name": "stderr",
     "output_type": "stream",
     "text": [
      "Done. 0.4s\n",
      "\u001b[34m\u001b[1mwandb\u001b[0m: Adding directory to artifact (./WGAN_output/run-0/models)... "
     ]
    },
    {
     "name": "stdout",
     "output_type": "stream",
     "text": [
      "[143000] W_distance: -0.0047 Loss_G: 0.8229 time:218484.8533\n"
     ]
    },
    {
     "name": "stderr",
     "output_type": "stream",
     "text": [
      "Done. 0.4s\n",
      "\u001b[34m\u001b[1mwandb\u001b[0m: Adding directory to artifact (./WGAN_output/run-0/models)... "
     ]
    },
    {
     "name": "stdout",
     "output_type": "stream",
     "text": [
      "[143500] W_distance: -0.0060 Loss_G: 0.8237 time:219245.2427\n"
     ]
    },
    {
     "name": "stderr",
     "output_type": "stream",
     "text": [
      "Done. 0.5s\n",
      "\u001b[34m\u001b[1mwandb\u001b[0m: Adding directory to artifact (./WGAN_output/run-0/models)... "
     ]
    },
    {
     "name": "stdout",
     "output_type": "stream",
     "text": [
      "[144000] W_distance: -0.0054 Loss_G: 0.8236 time:220005.1569\n"
     ]
    },
    {
     "name": "stderr",
     "output_type": "stream",
     "text": [
      "Done. 0.6s\n",
      "\u001b[34m\u001b[1mwandb\u001b[0m: Adding directory to artifact (./WGAN_output/run-0/models)... "
     ]
    },
    {
     "name": "stdout",
     "output_type": "stream",
     "text": [
      "[144500] W_distance: -0.0081 Loss_G: 0.8238 time:220764.8638\n"
     ]
    },
    {
     "name": "stderr",
     "output_type": "stream",
     "text": [
      "Done. 1.1s\n",
      "\u001b[34m\u001b[1mwandb\u001b[0m: Adding directory to artifact (./WGAN_output/run-0/models)... "
     ]
    },
    {
     "name": "stdout",
     "output_type": "stream",
     "text": [
      "[145000] W_distance: -0.0052 Loss_G: 0.8244 time:221526.1269\n"
     ]
    },
    {
     "name": "stderr",
     "output_type": "stream",
     "text": [
      "Done. 0.5s\n",
      "\u001b[34m\u001b[1mwandb\u001b[0m: Adding directory to artifact (./WGAN_output/run-0/models)... "
     ]
    },
    {
     "name": "stdout",
     "output_type": "stream",
     "text": [
      "[145500] W_distance: -0.0012 Loss_G: 0.8214 time:222286.0164\n"
     ]
    },
    {
     "name": "stderr",
     "output_type": "stream",
     "text": [
      "Done. 0.5s\n",
      "\u001b[34m\u001b[1mwandb\u001b[0m: Adding directory to artifact (./WGAN_output/run-0/models)... "
     ]
    },
    {
     "name": "stdout",
     "output_type": "stream",
     "text": [
      "[146000] W_distance: -0.0052 Loss_G: 0.8230 time:223045.9085\n"
     ]
    },
    {
     "name": "stderr",
     "output_type": "stream",
     "text": [
      "Done. 0.6s\n",
      "\u001b[34m\u001b[1mwandb\u001b[0m: Adding directory to artifact (./WGAN_output/run-0/models)... "
     ]
    },
    {
     "name": "stdout",
     "output_type": "stream",
     "text": [
      "[146500] W_distance: -0.0055 Loss_G: 0.8242 time:223804.5606\n"
     ]
    },
    {
     "name": "stderr",
     "output_type": "stream",
     "text": [
      "Done. 0.6s\n",
      "\u001b[34m\u001b[1mwandb\u001b[0m: Adding directory to artifact (./WGAN_output/run-0/models)... "
     ]
    },
    {
     "name": "stdout",
     "output_type": "stream",
     "text": [
      "[147000] W_distance: -0.0103 Loss_G: 0.8246 time:224565.1205\n"
     ]
    },
    {
     "name": "stderr",
     "output_type": "stream",
     "text": [
      "Done. 0.7s\n",
      "\u001b[34m\u001b[1mwandb\u001b[0m: Adding directory to artifact (./WGAN_output/run-0/models)... "
     ]
    },
    {
     "name": "stdout",
     "output_type": "stream",
     "text": [
      "[147500] W_distance: -0.0055 Loss_G: 0.8234 time:225330.3866\n"
     ]
    },
    {
     "name": "stderr",
     "output_type": "stream",
     "text": [
      "Done. 0.5s\n",
      "\u001b[34m\u001b[1mwandb\u001b[0m: Adding directory to artifact (./WGAN_output/run-0/models)... "
     ]
    },
    {
     "name": "stdout",
     "output_type": "stream",
     "text": [
      "[148000] W_distance: -0.0060 Loss_G: 0.8232 time:226093.5723\n"
     ]
    },
    {
     "name": "stderr",
     "output_type": "stream",
     "text": [
      "Done. 0.6s\n",
      "\u001b[34m\u001b[1mwandb\u001b[0m: Adding directory to artifact (./WGAN_output/run-0/models)... "
     ]
    },
    {
     "name": "stdout",
     "output_type": "stream",
     "text": [
      "[148500] W_distance: -0.0063 Loss_G: 0.8244 time:226857.7395\n"
     ]
    },
    {
     "name": "stderr",
     "output_type": "stream",
     "text": [
      "Done. 0.7s\n",
      "\u001b[34m\u001b[1mwandb\u001b[0m: Adding directory to artifact (./WGAN_output/run-0/models)... "
     ]
    },
    {
     "name": "stdout",
     "output_type": "stream",
     "text": [
      "[149000] W_distance: -0.0037 Loss_G: 0.8233 time:227623.2601\n"
     ]
    },
    {
     "name": "stderr",
     "output_type": "stream",
     "text": [
      "Done. 0.7s\n",
      "\u001b[34m\u001b[1mwandb\u001b[0m: Adding directory to artifact (./WGAN_output/run-0/models)... "
     ]
    },
    {
     "name": "stdout",
     "output_type": "stream",
     "text": [
      "[149500] W_distance: -0.0074 Loss_G: 0.8238 time:228387.8018\n"
     ]
    },
    {
     "name": "stderr",
     "output_type": "stream",
     "text": [
      "Done. 0.6s\n",
      "\u001b[34m\u001b[1mwandb\u001b[0m: Adding directory to artifact (./WGAN_output/run-0/models)... "
     ]
    },
    {
     "name": "stdout",
     "output_type": "stream",
     "text": [
      "[150000] W_distance: -0.0092 Loss_G: 0.8258 time:229148.3140\n"
     ]
    },
    {
     "name": "stderr",
     "output_type": "stream",
     "text": [
      "Done. 0.6s\n",
      "\u001b[34m\u001b[1mwandb\u001b[0m: Adding directory to artifact (./WGAN_output/run-0/models)... "
     ]
    },
    {
     "name": "stdout",
     "output_type": "stream",
     "text": [
      "[150500] W_distance: -0.0077 Loss_G: 0.8231 time:229911.8606\n"
     ]
    },
    {
     "name": "stderr",
     "output_type": "stream",
     "text": [
      "Done. 0.2s\n",
      "\u001b[34m\u001b[1mwandb\u001b[0m: Adding directory to artifact (./WGAN_output/run-0/models)... "
     ]
    },
    {
     "name": "stdout",
     "output_type": "stream",
     "text": [
      "[151000] W_distance: -0.0051 Loss_G: 0.8244 time:230676.1123\n"
     ]
    },
    {
     "name": "stderr",
     "output_type": "stream",
     "text": [
      "Done. 0.2s\n",
      "\u001b[34m\u001b[1mwandb\u001b[0m: Adding directory to artifact (./WGAN_output/run-0/models)... "
     ]
    },
    {
     "name": "stdout",
     "output_type": "stream",
     "text": [
      "[151500] W_distance: -0.0057 Loss_G: 0.8236 time:231439.9498\n"
     ]
    },
    {
     "name": "stderr",
     "output_type": "stream",
     "text": [
      "Done. 0.2s\n",
      "\u001b[34m\u001b[1mwandb\u001b[0m: Adding directory to artifact (./WGAN_output/run-0/models)... "
     ]
    },
    {
     "name": "stdout",
     "output_type": "stream",
     "text": [
      "[152000] W_distance: -0.0028 Loss_G: 0.8218 time:232203.9797\n"
     ]
    },
    {
     "name": "stderr",
     "output_type": "stream",
     "text": [
      "Done. 0.2s\n",
      "\u001b[34m\u001b[1mwandb\u001b[0m: Adding directory to artifact (./WGAN_output/run-0/models)... "
     ]
    },
    {
     "name": "stdout",
     "output_type": "stream",
     "text": [
      "[152500] W_distance: -0.0048 Loss_G: 0.8237 time:232967.4151\n"
     ]
    },
    {
     "name": "stderr",
     "output_type": "stream",
     "text": [
      "Done. 0.2s\n",
      "\u001b[34m\u001b[1mwandb\u001b[0m: Adding directory to artifact (./WGAN_output/run-0/models)... "
     ]
    },
    {
     "name": "stdout",
     "output_type": "stream",
     "text": [
      "[153000] W_distance: -0.0037 Loss_G: 0.8224 time:233732.2996\n"
     ]
    },
    {
     "name": "stderr",
     "output_type": "stream",
     "text": [
      "Done. 0.3s\n",
      "\u001b[34m\u001b[1mwandb\u001b[0m: Adding directory to artifact (./WGAN_output/run-0/models)... "
     ]
    },
    {
     "name": "stdout",
     "output_type": "stream",
     "text": [
      "[153500] W_distance: -0.0086 Loss_G: 0.8253 time:234496.4574\n"
     ]
    },
    {
     "name": "stderr",
     "output_type": "stream",
     "text": [
      "Done. 0.2s\n",
      "\u001b[34m\u001b[1mwandb\u001b[0m: Adding directory to artifact (./WGAN_output/run-0/models)... "
     ]
    },
    {
     "name": "stdout",
     "output_type": "stream",
     "text": [
      "[154000] W_distance: -0.0064 Loss_G: 0.8237 time:235259.0967\n"
     ]
    },
    {
     "name": "stderr",
     "output_type": "stream",
     "text": [
      "Done. 0.3s\n",
      "\u001b[34m\u001b[1mwandb\u001b[0m: Adding directory to artifact (./WGAN_output/run-0/models)... "
     ]
    },
    {
     "name": "stdout",
     "output_type": "stream",
     "text": [
      "[154500] W_distance: -0.0071 Loss_G: 0.8250 time:236022.6109\n"
     ]
    },
    {
     "name": "stderr",
     "output_type": "stream",
     "text": [
      "Done. 0.3s\n",
      "\u001b[34m\u001b[1mwandb\u001b[0m: Adding directory to artifact (./WGAN_output/run-0/models)... "
     ]
    },
    {
     "name": "stdout",
     "output_type": "stream",
     "text": [
      "[155000] W_distance: -0.0026 Loss_G: 0.8215 time:236787.4718\n"
     ]
    },
    {
     "name": "stderr",
     "output_type": "stream",
     "text": [
      "Done. 0.3s\n",
      "\u001b[34m\u001b[1mwandb\u001b[0m: Adding directory to artifact (./WGAN_output/run-0/models)... "
     ]
    },
    {
     "name": "stdout",
     "output_type": "stream",
     "text": [
      "[155500] W_distance: -0.0030 Loss_G: 0.8224 time:237554.2864\n"
     ]
    },
    {
     "name": "stderr",
     "output_type": "stream",
     "text": [
      "Done. 0.3s\n",
      "\u001b[34m\u001b[1mwandb\u001b[0m: Adding directory to artifact (./WGAN_output/run-0/models)... "
     ]
    },
    {
     "name": "stdout",
     "output_type": "stream",
     "text": [
      "[156000] W_distance: -0.0004 Loss_G: 0.8204 time:238319.8455\n"
     ]
    },
    {
     "name": "stderr",
     "output_type": "stream",
     "text": [
      "Done. 0.5s\n",
      "\u001b[34m\u001b[1mwandb\u001b[0m: Adding directory to artifact (./WGAN_output/run-0/models)... "
     ]
    },
    {
     "name": "stdout",
     "output_type": "stream",
     "text": [
      "[156500] W_distance: -0.0029 Loss_G: 0.8219 time:239082.0532\n"
     ]
    },
    {
     "name": "stderr",
     "output_type": "stream",
     "text": [
      "Done. 1.0s\n",
      "\u001b[34m\u001b[1mwandb\u001b[0m: Adding directory to artifact (./WGAN_output/run-0/models)... "
     ]
    },
    {
     "name": "stdout",
     "output_type": "stream",
     "text": [
      "[157000] W_distance: -0.0074 Loss_G: 0.8235 time:239847.7079\n"
     ]
    },
    {
     "name": "stderr",
     "output_type": "stream",
     "text": [
      "Done. 0.8s\n",
      "\u001b[34m\u001b[1mwandb\u001b[0m: Adding directory to artifact (./WGAN_output/run-0/models)... "
     ]
    },
    {
     "name": "stdout",
     "output_type": "stream",
     "text": [
      "[157500] W_distance: -0.0046 Loss_G: 0.8226 time:240613.5979\n"
     ]
    },
    {
     "name": "stderr",
     "output_type": "stream",
     "text": [
      "Done. 0.5s\n",
      "\u001b[34m\u001b[1mwandb\u001b[0m: Adding directory to artifact (./WGAN_output/run-0/models)... "
     ]
    },
    {
     "name": "stdout",
     "output_type": "stream",
     "text": [
      "[158000] W_distance: -0.0031 Loss_G: 0.8227 time:241377.8139\n"
     ]
    },
    {
     "name": "stderr",
     "output_type": "stream",
     "text": [
      "Done. 0.5s\n",
      "\u001b[34m\u001b[1mwandb\u001b[0m: Adding directory to artifact (./WGAN_output/run-0/models)... "
     ]
    },
    {
     "name": "stdout",
     "output_type": "stream",
     "text": [
      "[158500] W_distance: -0.0024 Loss_G: 0.8224 time:242139.7123\n"
     ]
    },
    {
     "name": "stderr",
     "output_type": "stream",
     "text": [
      "Done. 0.5s\n",
      "\u001b[34m\u001b[1mwandb\u001b[0m: Adding directory to artifact (./WGAN_output/run-0/models)... "
     ]
    },
    {
     "name": "stdout",
     "output_type": "stream",
     "text": [
      "[159000] W_distance: -0.0084 Loss_G: 0.8245 time:242903.4037\n"
     ]
    },
    {
     "name": "stderr",
     "output_type": "stream",
     "text": [
      "Done. 0.5s\n",
      "\u001b[34m\u001b[1mwandb\u001b[0m: Adding directory to artifact (./WGAN_output/run-0/models)... "
     ]
    },
    {
     "name": "stdout",
     "output_type": "stream",
     "text": [
      "[159500] W_distance: -0.0095 Loss_G: 0.8250 time:243667.3233\n"
     ]
    },
    {
     "name": "stderr",
     "output_type": "stream",
     "text": [
      "Done. 0.5s\n",
      "\u001b[34m\u001b[1mwandb\u001b[0m: Adding directory to artifact (./WGAN_output/run-0/models)... "
     ]
    },
    {
     "name": "stdout",
     "output_type": "stream",
     "text": [
      "[160000] W_distance: -0.0026 Loss_G: 0.8218 time:244434.2004\n"
     ]
    },
    {
     "name": "stderr",
     "output_type": "stream",
     "text": [
      "Done. 0.2s\n",
      "\u001b[34m\u001b[1mwandb\u001b[0m: Adding directory to artifact (./WGAN_output/run-0/models)... "
     ]
    },
    {
     "name": "stdout",
     "output_type": "stream",
     "text": [
      "[160500] W_distance: -0.0058 Loss_G: 0.8233 time:245195.7226\n"
     ]
    },
    {
     "name": "stderr",
     "output_type": "stream",
     "text": [
      "Done. 0.2s\n",
      "\u001b[34m\u001b[1mwandb\u001b[0m: Adding directory to artifact (./WGAN_output/run-0/models)... "
     ]
    },
    {
     "name": "stdout",
     "output_type": "stream",
     "text": [
      "[161000] W_distance: -0.0065 Loss_G: 0.8244 time:245960.2308\n"
     ]
    },
    {
     "name": "stderr",
     "output_type": "stream",
     "text": [
      "Done. 0.3s\n",
      "\u001b[34m\u001b[1mwandb\u001b[0m: Adding directory to artifact (./WGAN_output/run-0/models)... "
     ]
    },
    {
     "name": "stdout",
     "output_type": "stream",
     "text": [
      "[161500] W_distance: -0.0052 Loss_G: 0.8237 time:246723.3702\n"
     ]
    },
    {
     "name": "stderr",
     "output_type": "stream",
     "text": [
      "Done. 0.3s\n",
      "\u001b[34m\u001b[1mwandb\u001b[0m: Adding directory to artifact (./WGAN_output/run-0/models)... "
     ]
    },
    {
     "name": "stdout",
     "output_type": "stream",
     "text": [
      "[162000] W_distance: -0.0030 Loss_G: 0.8227 time:247485.6011\n"
     ]
    },
    {
     "name": "stderr",
     "output_type": "stream",
     "text": [
      "Done. 0.3s\n",
      "\u001b[34m\u001b[1mwandb\u001b[0m: Adding directory to artifact (./WGAN_output/run-0/models)... "
     ]
    },
    {
     "name": "stdout",
     "output_type": "stream",
     "text": [
      "[162500] W_distance: -0.0052 Loss_G: 0.8232 time:248242.2226\n"
     ]
    },
    {
     "name": "stderr",
     "output_type": "stream",
     "text": [
      "Done. 0.2s\n",
      "\u001b[34m\u001b[1mwandb\u001b[0m: Adding directory to artifact (./WGAN_output/run-0/models)... "
     ]
    },
    {
     "name": "stdout",
     "output_type": "stream",
     "text": [
      "[163000] W_distance: -0.0071 Loss_G: 0.8234 time:249006.7656\n"
     ]
    },
    {
     "name": "stderr",
     "output_type": "stream",
     "text": [
      "Done. 0.2s\n",
      "\u001b[34m\u001b[1mwandb\u001b[0m: Adding directory to artifact (./WGAN_output/run-0/models)... "
     ]
    },
    {
     "name": "stdout",
     "output_type": "stream",
     "text": [
      "[163500] W_distance: -0.0021 Loss_G: 0.8220 time:249770.7711\n"
     ]
    },
    {
     "name": "stderr",
     "output_type": "stream",
     "text": [
      "Done. 0.2s\n",
      "\u001b[34m\u001b[1mwandb\u001b[0m: Adding directory to artifact (./WGAN_output/run-0/models)... "
     ]
    },
    {
     "name": "stdout",
     "output_type": "stream",
     "text": [
      "[164000] W_distance: -0.0037 Loss_G: 0.8224 time:250534.7929\n"
     ]
    },
    {
     "name": "stderr",
     "output_type": "stream",
     "text": [
      "Done. 0.4s\n",
      "\u001b[34m\u001b[1mwandb\u001b[0m: Adding directory to artifact (./WGAN_output/run-0/models)... "
     ]
    },
    {
     "name": "stdout",
     "output_type": "stream",
     "text": [
      "[164500] W_distance: -0.0020 Loss_G: 0.8221 time:251297.7313\n"
     ]
    },
    {
     "name": "stderr",
     "output_type": "stream",
     "text": [
      "Done. 0.5s\n",
      "\u001b[34m\u001b[1mwandb\u001b[0m: Adding directory to artifact (./WGAN_output/run-0/models)... "
     ]
    },
    {
     "name": "stdout",
     "output_type": "stream",
     "text": [
      "[165000] W_distance: -0.0010 Loss_G: 0.8208 time:252059.8021\n"
     ]
    },
    {
     "name": "stderr",
     "output_type": "stream",
     "text": [
      "Done. 1.0s\n",
      "\u001b[34m\u001b[1mwandb\u001b[0m: Adding directory to artifact (./WGAN_output/run-0/models)... "
     ]
    },
    {
     "name": "stdout",
     "output_type": "stream",
     "text": [
      "[165500] W_distance: -0.0002 Loss_G: 0.8199 time:252823.9524\n"
     ]
    },
    {
     "name": "stderr",
     "output_type": "stream",
     "text": [
      "Done. 0.5s\n",
      "\u001b[34m\u001b[1mwandb\u001b[0m: Adding directory to artifact (./WGAN_output/run-0/models)... "
     ]
    },
    {
     "name": "stdout",
     "output_type": "stream",
     "text": [
      "[166000] W_distance: -0.0062 Loss_G: 0.8245 time:253587.1842\n"
     ]
    },
    {
     "name": "stderr",
     "output_type": "stream",
     "text": [
      "Done. 0.9s\n",
      "\u001b[34m\u001b[1mwandb\u001b[0m: Adding directory to artifact (./WGAN_output/run-0/models)... "
     ]
    },
    {
     "name": "stdout",
     "output_type": "stream",
     "text": [
      "[166500] W_distance: -0.0044 Loss_G: 0.8233 time:254351.5940\n"
     ]
    },
    {
     "name": "stderr",
     "output_type": "stream",
     "text": [
      "Done. 1.3s\n"
     ]
    }
   ],
   "source": [
    "def log_images(images):\n",
    "    img_grid = torchvision.utils.make_grid(images)\n",
    "    img = wandb.Image(img_grid)\n",
    "    wandb.log({\"examples\": img})\n",
    "\n",
    "## fitting model\n",
    "gen_iterations = 0\n",
    "for epoch in range(param.n_epoch):          \n",
    "    # Setting up iterable\n",
    "    i=0\n",
    "    data_iter = iter(dataset)\n",
    "\n",
    "    while i<len(dataset):\n",
    "        # Train discriminator\n",
    "        # WGAN - Training discriminator more iterations than generator\n",
    "        # Trick used in Wassertein GAN paper for more stable convergence\n",
    "        if gen_iterations <25 or gen_iterations %500 ==0:\n",
    "            N_critic = 100\n",
    "        else:\n",
    "            N_critic = param.n_critic\n",
    "            \n",
    "        t=0\n",
    "        while t<N_critic and i < len(dataset):\n",
    "            # Update D\n",
    "            D.zero_grad()\n",
    "\n",
    "            # Clip weights\n",
    "            for p in D.parameters():\n",
    "                p.data.clamp_(param.clip,param.clip)\n",
    "                \n",
    "            # Sample real data\n",
    "            real_images = data_iter.__next__()\n",
    "            # Mostly necessaary for last one becaus if N might not be a multiple of batch size\n",
    "            current_batch_size = real_images.size(0)\n",
    "            # Check for batch to have full batch_size\n",
    "            if (current_batch_size != param.batch_size):\n",
    "                # Iterate up\n",
    "                t = t+1\n",
    "                i = i+1\n",
    "                continue\n",
    "            \n",
    "            real_images = real_images.to(device)\n",
    "            \n",
    "            # Discriminator Loss real\n",
    "            errD_real = D(real_images)\n",
    "            errD_real.backward(one)\n",
    "            \n",
    "            # Sample fake data\n",
    "            # Note that z might be bigger than x here, this is done like this in Wassertein paper, but it could probably be changed\n",
    "            z = torch.randn(current_batch_size,param.z_size,1,1).to(device)\n",
    "            # Volatile requires less memory and make things sightly faster than detach(), so why not use it with DCGAN?\n",
    "            #Simply because we reuse the same fake images, but in WGAN we generate new fake images after training for a while the Discriminator\n",
    "            # z_volatile = Variable(z.data,volatile=True)\n",
    "            x_fake = G(z)\n",
    "            # Discriminator Loss fake\n",
    "            errD_fake = D(x_fake.detach())\n",
    "            errD_fake.backward(one_neg)\n",
    "            \n",
    "            # Optimize\n",
    "            errD = (errD_real-errD_fake)\n",
    "            optimizerD.step()\n",
    "\n",
    "            # Iterate up\n",
    "            t = t+1\n",
    "            i = i+1\n",
    "            \n",
    "        # Update G network\n",
    "        G.zero_grad()\n",
    "\n",
    "        # Sample fake data\n",
    "        z = torch.randn(current_batch_size,param.z_size,1,1).to(device)\n",
    "        x_fake = G(z)\n",
    "        \n",
    "        # Generator Loss\n",
    "        errG = D(x_fake)\n",
    "        errG.backward(one)\n",
    "        optimizerG.step()\n",
    "\n",
    "        # Log results so we can see them in TensorBoard after\n",
    "        # log_value('errD',-errD.item(),gen_iterations)\n",
    "        # log_value('errG',errG.item(),gen_iterations)\n",
    "        # Log results so we can see them in TensorBoard after\n",
    "        metrics = {\"train/errD\": -errD.item(), \n",
    "                   \"train/errG\": errG.item()}\n",
    "        wandb.log(metrics)\n",
    "        \n",
    "        gen_iterations = gen_iterations + 1\n",
    "        if gen_iterations % 500 == 0:\n",
    "            end = time.time()\n",
    "            fake_test = G(z_test)\n",
    "            log_images(fake_test) \n",
    "            print('[%d] W_distance: %.4f Loss_G: %.4f time:%.4f' % (gen_iterations, -errD.item(), errG.item(), end - start))\n",
    "        # Save models\n",
    "        if gen_iterations % 500 == 0:\n",
    "            torch.save(G.state_dict(), '%s/run-%d/models/G_%d.pth' % (param.output_folder, run, gen_iterations/50))\n",
    "            torch.save(D.state_dict(), '%s/run-%d/models/D_%d.pth' % (param.output_folder, run, gen_iterations/50))\n",
    "            fmt = '%s/run-%d/models/'\n",
    "            trained_model = wandb.Artifact(\"WGAN_model_epoch_{}\".format(epoch),type=\"model\")\n",
    "            trained_model.add_dir(fmt%(param.output_folder, run))\n",
    "            wb_run.log_artifact(trained_model)\n",
    "\n",
    "wandb.finish()\n",
    "                "
   ]
  },
  {
   "cell_type": "code",
   "execution_count": 10,
   "id": "465dc691-dc6f-454b-9ae9-ffe485661537",
   "metadata": {},
   "outputs": [
    {
     "data": {
      "text/plain": [
       "1"
      ]
     },
     "execution_count": 10,
     "metadata": {},
     "output_type": "execute_result"
    }
   ],
   "source": [
    "len(dataset)"
   ]
  },
  {
   "cell_type": "code",
   "execution_count": 32,
   "id": "48465c7e-b166-44be-ae1b-d83d16e973e1",
   "metadata": {},
   "outputs": [],
   "source": [
    "!cp -r cats_bigger_than_64x64/.ipynb_checkpoints ."
   ]
  },
  {
   "cell_type": "code",
   "execution_count": 37,
   "id": "933b81a1-48e8-487f-9383-6e70bc2b9a6a",
   "metadata": {},
   "outputs": [
    {
     "name": "stdout",
     "output_type": "stream",
     "text": [
      "ls: invalid option -- 'e'\n",
      "Try 'ls --help' for more information.\n"
     ]
    }
   ],
   "source": []
  },
  {
   "cell_type": "code",
   "execution_count": 39,
   "id": "e7695bbf-df44-4f40-8c85-a7caf6522862",
   "metadata": {},
   "outputs": [],
   "source": [
    "# !ls --help"
   ]
  },
  {
   "cell_type": "code",
   "execution_count": 45,
   "id": "a9c4f26d-b413-463a-9102-dcc9af7d3a41",
   "metadata": {},
   "outputs": [],
   "source": [
    "import os\n",
    "for file in os.listdir(\"cats_bigger_than_64x64\"):\n",
    "    if file.endswith(\".jpg\"):\n",
    "        continue\n",
    "    else:\n",
    "        print(file)"
   ]
  },
  {
   "cell_type": "code",
   "execution_count": 46,
   "id": "d98c8297-c408-4b77-b5fb-9bcdfceabfb1",
   "metadata": {},
   "outputs": [],
   "source": [
    "# !rm -r cats_bigger_than_64x64/.ipynb_checkpoints"
   ]
  },
  {
   "cell_type": "code",
   "execution_count": null,
   "id": "6d259de9-87cd-465e-b563-5d562cc30561",
   "metadata": {},
   "outputs": [],
   "source": []
  }
 ],
 "metadata": {
  "kernelspec": {
   "display_name": "Python 3 (ipykernel)",
   "language": "python",
   "name": "python3"
  },
  "language_info": {
   "codemirror_mode": {
    "name": "ipython",
    "version": 3
   },
   "file_extension": ".py",
   "mimetype": "text/x-python",
   "name": "python",
   "nbconvert_exporter": "python",
   "pygments_lexer": "ipython3",
   "version": "3.7.12"
  }
 },
 "nbformat": 4,
 "nbformat_minor": 5
}
