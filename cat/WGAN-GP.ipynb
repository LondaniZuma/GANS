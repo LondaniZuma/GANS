{
 "cells": [
  {
   "cell_type": "code",
   "execution_count": 2,
   "id": "493883d9-dcde-410e-aeba-f1b47a5a83f4",
   "metadata": {},
   "outputs": [],
   "source": [
    "import argparse\n",
    "parser = argparse.ArgumentParser()\n",
    "parser.add_argument('--image_size', type=int, default=64)\n",
    "parser.add_argument('--batch_size', type=int, default=64) # DCGAN paper original value used 128\n",
    "parser.add_argument('--n_colors', type=int, default=3)\n",
    "parser.add_argument('--z_size', type=int, default=100) # DCGAN paper original value\n",
    "parser.add_argument('--G_h_size', type=int, default=128, help='Number of hidden nodes in the Generator. Too small leads to bad results, too big blows up the GPU RAM.') # DCGAN paper original value\n",
    "parser.add_argument('--D_h_size', type=int, default=128, help='Number of hidden nodes in the Discriminator. Too small leads to bad results, too big blows up the GPU RAM.') # DCGAN paper original value\n",
    "parser.add_argument('--lr_D', type=float, default=.00005, help='Discriminator learning rate') # 1/4 of DCGAN paper original value\n",
    "parser.add_argument('--lr_G', type=float, default=.0002, help='Generator learning rate') # DCGAN paper original value\n",
    "parser.add_argument('--n_epoch', type=int, default=1000)\n",
    "parser.add_argument('--SELU', type=bool, default=False, help='Using scaled exponential linear units (SELU) which are self-normalizing instead of ReLU with BatchNorm. This improves stability.')\n",
    "parser.add_argument('--seed', type=int)\n",
    "parser.add_argument('--input_folder', default='./cats_bigger_than_64x64/', help='input folder')\n",
    "parser.add_argument('--output_folder', default='WGAN_GP_output', help='output folder')\n",
    "parser.add_argument('--G_load', default='', help='Full path to Generator model to load (ex: /home/output_folder/run-5/models/G_epoch_11.pth)')\n",
    "parser.add_argument('--D_load', default='', help='Full path to Discriminator model to load (ex: /home/output_folder/run-5/models/D_epoch_11.pth)')\n",
    "parser.add_argument('--cuda', type=bool, default=True, help='enables cuda')\n",
    "parser.add_argument('--n_gpu', type=int, default=1, help='number of GPUs to use')\n",
    "parser.add_argument('--n_workers', type=int, default=2, help='Number of subprocess to use to load the data. Use at least 2 or the number of cpu cores - 1.')\n",
    "parser.add_argument('--weight_decay', type=float, default=0, help='L2 regularization weight. Greatly helps convergence but leads to artifacts in images, not recommended.')\n",
    "parser.add_argument('--gen_extra_images', type=int, default=0, help='Every epoch, generate additional images with \"batch_size\" random fake cats.')\n",
    "parser.add_argument('--n_iter', type=int, default=100000, help='Number of iterations')\n",
    "parser.add_argument('--n_critic', type=int, default=5, help='Number of training with D before training G') # WGAN original value\n",
    "parser.add_argument('--beta1', type=float, default=0, help='Adam betas[0], WGAN-GP paper recommends 0') # WGAN original value\n",
    "parser.add_argument('--beta2', type=float, default=.9, help='Adam betas[1], WGAN-GP paper recommends .90') # WGAN original value\n",
    "parser.add_argument('--penalty', type=float, default=10, help='Gradient penalty parameter for WGAN-GP')\n",
    "# param, unknown = parser.parse_known_args()\n",
    "args, unknown = parser.parse_known_args()"
   ]
  },
  {
   "cell_type": "code",
   "execution_count": 8,
   "id": "2da527a5-13ef-4c1a-8ab4-a1dbf6742c63",
   "metadata": {},
   "outputs": [
    {
     "data": {
      "text/html": [
       "Tracking run with wandb version 0.12.18"
      ],
      "text/plain": [
       "<IPython.core.display.HTML object>"
      ]
     },
     "metadata": {},
     "output_type": "display_data"
    },
    {
     "data": {
      "text/html": [
       "Run data is saved locally in <code>/home/jovyan/GANS/cat/wandb/run-20220619_101013-3w458x3f</code>"
      ],
      "text/plain": [
       "<IPython.core.display.HTML object>"
      ]
     },
     "metadata": {},
     "output_type": "display_data"
    },
    {
     "data": {
      "text/html": [
       "Syncing run <strong><a href=\"https://wandb.ai/londaniteam/cat-generation-WGAN-GP/runs/3w458x3f\" target=\"_blank\">snowy-armadillo-1</a></strong> to <a href=\"https://wandb.ai/londaniteam/cat-generation-WGAN-GP\" target=\"_blank\">Weights & Biases</a> (<a href=\"https://wandb.me/run\" target=\"_blank\">docs</a>)<br/>"
      ],
      "text/plain": [
       "<IPython.core.display.HTML object>"
      ]
     },
     "metadata": {},
     "output_type": "display_data"
    },
    {
     "name": "stdout",
     "output_type": "stream",
     "text": [
      "{'architecture': 'WGAN-GP', 'image_size': 64, 'batch_size': 64, 'n_colors': 3, 'z_size': 100, 'G_h_size': 128, 'D_h_size': 128, 'lr_D': 5e-05, 'lr_G': 0.0002, 'n_epoch': 1000, 'SELU': False, 'seed': None, 'input_folder': './cats_bigger_than_64x64/', 'output_folder': 'WGAN_GP_output', 'G_load': '', 'D_load': '', 'cuda': True, 'n_gpu': 1, 'n_workers': 2, 'weight_decay': 0, 'gen_extra_images': 0, 'n_iter': 100000, 'n_critic': 5, 'beta1': 0, 'beta2': 0.9, 'penalty': 10}\n"
     ]
    }
   ],
   "source": [
    "wb_run = wandb.init(project=\"cat-generation-WGAN-GP\",config={\"architecture\": \"WGAN-GP\"})\n",
    "wandb.config.update(args) # adds all of the arguments as config variables\n",
    "param = wandb.config\n",
    "\n",
    "print(param)"
   ]
  },
  {
   "cell_type": "code",
   "execution_count": 6,
   "id": "fe96fb15-40ac-4bb7-8bcf-8fdf9d4e1ed6",
   "metadata": {},
   "outputs": [],
   "source": [
    "# !pip install wandb -qqq\n",
    "# import wandb"
   ]
  },
  {
   "cell_type": "code",
   "execution_count": 7,
   "id": "19d5c1dc-a091-47f3-9966-e23ab80edb19",
   "metadata": {},
   "outputs": [],
   "source": [
    "# wandb.login()"
   ]
  },
  {
   "cell_type": "code",
   "execution_count": null,
   "id": "6c81f844-ceed-48ba-abf2-aea6b0dabd8b",
   "metadata": {},
   "outputs": [],
   "source": [
    "# device = torch.device(\"cuda\" if torch.cuda.is_available() else \"cpu\")\n"
   ]
  },
  {
   "cell_type": "code",
   "execution_count": 30,
   "id": "bf7d423f-2d28-453b-80d7-f1f6f468c66f",
   "metadata": {},
   "outputs": [
    {
     "name": "stdout",
     "output_type": "stream",
     "text": [
      "Random Seed: 9089\n"
     ]
    }
   ],
   "source": [
    "## Imports\n",
    "import numpy\n",
    "\n",
    "import time\n",
    "start = time.time()\n",
    "import os\n",
    "run=0\n",
    "base_dir = f\"{param.output_folder}/run-{run}/\"\n",
    "while os.path.exists(base_dir):\n",
    "    run+=1\n",
    "    base_dir = f\"{param.output_folder}/run-{run}\"\n",
    "os.makedirs(base_dir)\n",
    "# logs_dir = f\"{base_dir}/logs\"\n",
    "# os.makedirs(logs_dir)\n",
    "# os.makedirs(f\"{base_dir}/images\")\n",
    "os.makedirs(f\"{base_dir}/models\")\n",
    "# if param.gen_extra_images>0:\n",
    "#     os.makedirs(f\"{base_dir}/images/extra/\")\n",
    "    \n",
    "# log_output = open(f\"{logs_dir}/log.txt\",'w')\n",
    "# print(param)\n",
    "# print(param,file=log_output)\n",
    "\n",
    "import torch\n",
    "import torch.autograd as autograd\n",
    "from torch.autograd import Variable\n",
    "\n",
    "# from tensorboard_logger import configure,log_value\n",
    "# configure(logs_dir,flush_secs=5)\n",
    "\n",
    "import torchvision\n",
    "import torchvision.datasets as dset\n",
    "import torchvision.transforms as transf\n",
    "import torchvision.models as models\n",
    "import torchvision.utils as vutils\n",
    "from torch.utils.data import Dataset\n",
    "from natsort import natsorted\n",
    "# from PIL import Image\n",
    "import PIL\n",
    "import imageio as iio\n",
    "\n",
    "device = torch.device(\"cuda\" if torch.cuda.is_available() else \"cpu\")\n",
    "\n",
    "if param.cuda:\n",
    "    import torch.backends.cudnn as cudnn\n",
    "    cudnn.benchmark = True\n",
    "    \n",
    "from IPython.display import Image\n",
    "to_img = transf.ToPILImage()\n",
    "\n",
    "import math\n",
    "\n",
    "import random\n",
    "param.seed = param.seed or random.randint(1,10000)\n",
    "print(f\"Random Seed: {param.seed}\")\n",
    "# print(f\"Random Seed: {param.seed}\",file=log_output)\n",
    "wandb.log({\"Random\": param.seed})\n",
    "random.seed(param.seed)\n",
    "torch.manual_seed(param.seed)\n",
    "\n",
    "if param.cuda:\n",
    "    torch.cuda.manual_seed_all(param.seed)\n",
    "    \n",
    "## Transforming images\n",
    "trans = transf.Compose([\n",
    "    transf.Resize((param.image_size,param.image_size)),\n",
    "    # This makes it into [0,1]\n",
    "    transf.ToTensor(),\n",
    "    # This makes it into [-1,1] so tanh will work properply\n",
    "    transf.Normalize(mean = [0.5, 0.5, 0.5], std = [0.5, 0.5, 0.5])\n",
    "])\n",
    "\n",
    "class CustomDataSet(Dataset):\n",
    "    def __init__(self, main_dir, transform):\n",
    "        self.main_dir = main_dir\n",
    "        self.transform = transform\n",
    "        all_imgs = os.listdir(main_dir)\n",
    "        self.total_imgs = natsorted(all_imgs)\n",
    "\n",
    "    def __len__(self):\n",
    "        return len(self.total_imgs)\n",
    "\n",
    "    def __getitem__(self, idx):\n",
    "        img_loc = os.path.join(self.main_dir, self.total_imgs[idx])\n",
    "        image = PIL.Image.open(img_loc).convert(\"RGB\")\n",
    "        # image = iio.imread(img_loc)\n",
    "        tensor_image = self.transform(image)\n",
    "        return tensor_image\n",
    "    \n",
    "my_dataset = CustomDataSet(param.input_folder, transform=trans)\n",
    "# dataset = torch.utils.data.DataLoader(my_dataset , batch_size=param.batch_size, shuffle=True, \n",
    "#                                num_workers=param.n_workers)\n",
    "\n",
    "def generate_random_sample():\n",
    "\twhile True:\n",
    "\t\trandom_indexes = numpy.random.choice(my_dataset.__len__(), size=param.batch_size, replace=False)\n",
    "\t\tbatch = [my_dataset[i] for i in random_indexes]\n",
    "\t\tyield torch.stack(batch, 0)\n",
    "random_sample = generate_random_sample()"
   ]
  },
  {
   "cell_type": "code",
   "execution_count": 43,
   "id": "f8edda23-37c3-4d1b-b49a-9c525dab3748",
   "metadata": {},
   "outputs": [],
   "source": [
    "# my_dataset = CustomDataSet(param.input_folder, transform=trans)\n",
    "dataset = torch.utils.data.DataLoader(my_dataset , batch_size=param.batch_size, shuffle=True, \n",
    "                               num_workers=param.n_workers)"
   ]
  },
  {
   "cell_type": "code",
   "execution_count": 44,
   "id": "a8a98a6f-8af4-4832-9aab-30c04e618bf4",
   "metadata": {},
   "outputs": [
    {
     "name": "stdout",
     "output_type": "stream",
     "text": [
      "torch.Size([64, 3, 64, 64])\n",
      "torch.Size([64, 3, 64, 64])\n"
     ]
    }
   ],
   "source": [
    "real_images = random_sample.__next__()\n",
    "data_iter = iter(dataset)\n",
    "r = data_iter.__next__()\n",
    "print(real_images.shape)\n",
    "print(r.shape)"
   ]
  },
  {
   "cell_type": "code",
   "execution_count": 33,
   "id": "8d790844-3917-4481-8e8a-09ed7b103890",
   "metadata": {},
   "outputs": [],
   "source": [
    "# !pip install tensorboard_logger\n",
    "# !pip install natsort"
   ]
  },
  {
   "cell_type": "code",
   "execution_count": 34,
   "id": "5f1f3556-7a06-4182-b2e9-95a7b660ac30",
   "metadata": {},
   "outputs": [
    {
     "name": "stdout",
     "output_type": "stream",
     "text": [
      "DCGAN_G(\n",
      "  (main): Sequential(\n",
      "    (Start-ConvTranspose2d): ConvTranspose2d(100, 1024, kernel_size=(4, 4), stride=(1, 1), bias=False)\n",
      "    (Start-BatchNorm2d): BatchNorm2d(1024, eps=1e-05, momentum=0.1, affine=True, track_running_stats=True)\n",
      "    (Start-ReLU): ReLU()\n",
      "    (Middle-ConvTranspose2d [1]): ConvTranspose2d(1024, 512, kernel_size=(4, 4), stride=(2, 2), padding=(1, 1), bias=False)\n",
      "    (Middle-BatchNorm2d [1]): BatchNorm2d(512, eps=1e-05, momentum=0.1, affine=True, track_running_stats=True)\n",
      "    (Middle-ReLU [1]): ReLU(inplace=True)\n",
      "    (Middle-ConvTranspose2d [2]): ConvTranspose2d(512, 256, kernel_size=(4, 4), stride=(2, 2), padding=(1, 1), bias=False)\n",
      "    (Middle-BatchNorm2d [2]): BatchNorm2d(256, eps=1e-05, momentum=0.1, affine=True, track_running_stats=True)\n",
      "    (Middle-ReLU [2]): ReLU(inplace=True)\n",
      "    (Middle-ConvTranspose2d [3]): ConvTranspose2d(256, 128, kernel_size=(4, 4), stride=(2, 2), padding=(1, 1), bias=False)\n",
      "    (Middle-BatchNorm2d [3]): BatchNorm2d(128, eps=1e-05, momentum=0.1, affine=True, track_running_stats=True)\n",
      "    (Middle-ReLU [3]): ReLU(inplace=True)\n",
      "    (End-ConvTransposed2d): ConvTranspose2d(128, 3, kernel_size=(4, 4), stride=(2, 2), padding=(1, 1), bias=False)\n",
      "    (End-Tanh): Tanh()\n",
      "  )\n",
      ")\n",
      "DCGAN_D(\n",
      "  (main): Sequential(\n",
      "    (Start-conv2d): Conv2d(3, 128, kernel_size=(4, 4), stride=(2, 2), padding=(1, 1), bias=False)\n",
      "    (Start-LeakyReLU): LeakyReLU(negative_slope=0.2, inplace=True)\n",
      "    (Middle-Conv2d [0]): Conv2d(128, 256, kernel_size=(4, 4), stride=(2, 2), padding=(1, 1), bias=False)\n",
      "    (Middle-LeakyReLU [0]): LeakyReLU(negative_slope=0.2, inplace=True)\n",
      "    (Middle-Conv2d [1]): Conv2d(256, 512, kernel_size=(4, 4), stride=(2, 2), padding=(1, 1), bias=False)\n",
      "    (Middle-LeakyReLU [1]): LeakyReLU(negative_slope=0.2, inplace=True)\n",
      "    (Middle-Conv2d [2]): Conv2d(512, 1024, kernel_size=(4, 4), stride=(2, 2), padding=(1, 1), bias=False)\n",
      "    (Middle-LeakyReLU [2]): LeakyReLU(negative_slope=0.2, inplace=True)\n",
      "    (End-Conv2d): Conv2d(1024, 1, kernel_size=(4, 4), stride=(1, 1), bias=False)\n",
      "  )\n",
      ")\n"
     ]
    }
   ],
   "source": [
    "## Models\n",
    "# The number of layers is implicitly determined by the image size\n",
    "# image_size = (4,8,16,32,64,128,256, 512, 1024) leads to n_layers = (1,2,3,4,5,6,7,8,9)\n",
    "\n",
    "# The more layers the bigger the neural get so it's best to decrease D_h_size and D_h_size when the image input is bigger\n",
    "\n",
    "# DCGAN generator\n",
    "class DCGAN_G(torch.nn.Module):\n",
    "    def __init__(self):\n",
    "        super(DCGAN_G,self).__init__()\n",
    "        main = torch.nn.Sequential()\n",
    "        \n",
    "        # We need to know how many layers we will use at the beginning\n",
    "        mult = param.image_size // 8\n",
    "        \n",
    "        \n",
    "        ### Start block\n",
    "        # Z_size random numbers\n",
    "        main.add_module('Start-ConvTranspose2d',torch.nn.ConvTranspose2d(param.z_size,param.G_h_size*mult,kernel_size=4,stride=1,padding=0,bias=False))\n",
    "        if param.SELU:\n",
    "            main.add_module('Start-SELU',torch.nn.SELU(inplace=True))\n",
    "        else:\n",
    "            main.add_module('Start-BatchNorm2d',torch.nn.BatchNorm2d(param.G_h_size*mult))\n",
    "            main.add_module('Start-ReLU',torch.nn.ReLU())\n",
    "        # Size = (G_h_size * mult)x 4 x4\n",
    "        \n",
    "        ### Middle block (Done until we reach  ? x image_size/2 x image_size/2)\n",
    "        i=1\n",
    "        while mult>1:\n",
    "            main.add_module('Middle-ConvTranspose2d [%d]'%i, torch.nn.ConvTranspose2d(param.G_h_size*mult,param.G_h_size*(mult//2),kernel_size=4,stride=2,padding=1,bias=False))\n",
    "            if param.SELU:\n",
    "                main.add_module('Middle-SELU [%d]'%i,torch.nn.SELU(inplace=True))\n",
    "            else:\n",
    "                main.add_module('Middle-BatchNorm2d [%d]'%i,torch.nn.BatchNorm2d(param.G_h_size*(mult//2)))\n",
    "                # main.add_module('Middle_ReLU [$d]'%i,torch.nn.SELU(inplace=True))\n",
    "                main.add_module('Middle-ReLU [%d]' % i, torch.nn.ReLU(inplace=True))\n",
    "            # Size = (G_h_size * (mult/(2*i)))x8x8\n",
    "            mult = mult // 2\n",
    "            i+=1\n",
    "        \n",
    "        ### End block\n",
    "        # Size = G_h_size/2 x image_size/2\n",
    "        main.add_module('End-ConvTransposed2d', torch.nn.ConvTranspose2d(param.G_h_size,param.n_colors,kernel_size=4,stride=2,padding=1,bias=False))\n",
    "        main.add_module('End-Tanh',torch.nn.Tanh())\n",
    "        # Size = n_colors x image_size x image_size\n",
    "        self.main = main\n",
    "    \n",
    "    def forward(self,input):\n",
    "        if isinstance(input.data,torch.cuda.FloatTensor) and param.n_gpu>1:\n",
    "            output = torch.nn.parallel.data_parallel(self.main,input,range(param.n_gpu))\n",
    "        else:\n",
    "            output = self.main(input)\n",
    "        return output\n",
    "# DCGAN discriminator ( using somewhat the reverse of the generator)\n",
    "# Removed Batch Norm we can't backward on the gradients with BatchNorm2d\n",
    "class DCGAN_D(torch.nn.Module):\n",
    "    def __init__(self):\n",
    "        super(DCGAN_D,self).__init__()\n",
    "        main = torch.nn.Sequential()\n",
    "        \n",
    "        ### start block\n",
    "        # size = n_colors x image_size x image_size\n",
    "        main.add_module('Start-conv2d',torch.nn.Conv2d(param.n_colors,param.D_h_size,kernel_size=4,stride=2,padding=1,bias=False))\n",
    "        if param.SELU:\n",
    "            main.add_module('Start-SELU',torch.nn.SELU(inplace=True))\n",
    "        else:\n",
    "            main.add_module('Start-LeakyReLU',torch.nn.LeakyReLU(0.2,inplace=True))\n",
    "        image_size_new = param.image_size // 2\n",
    "        # Size = D_h_size x image_size/2 x image_size/2\n",
    "        \n",
    "        ### Middle block (Done until we reach ? x 4 x4)\n",
    "        mult = 1\n",
    "        i=0\n",
    "        while image_size_new>4:\n",
    "            main.add_module('Middle-Conv2d [%d]'%i,torch.nn.Conv2d(param.D_h_size*mult,param.D_h_size*(2*mult),kernel_size=4,stride=2,padding=1,bias=False))\n",
    "            if param.SELU:\n",
    "                main.add_module('Middle-SELU [%d]'%i,torch.nn.SELU(inplace=True))\n",
    "            else:\n",
    "                # main.add_module('Middle-BatchNorm2d [%d]'%i,torch.nn.BatchNorm2d(param.D_h_size*(2*mult)))\n",
    "                main.add_module('Middle-LeakyReLU [%d]'%i,torch.nn.LeakyReLU(0.2,inplace=True))\n",
    "            # Size = (D_h_size*(2*i)) x image_size/(2*i) x image_size/(2*i)\n",
    "            image_size_new = image_size_new // 2\n",
    "            mult *=2\n",
    "            i +=1\n",
    "            \n",
    "\t\t### End block\n",
    "\t\t# Size = (D_h_size * mult) x 4 x 4\n",
    "        main.add_module('End-Conv2d', torch.nn.Conv2d(param.D_h_size * mult, 1, kernel_size=4, stride=1, padding=0,bias=False))\n",
    "        # Note: No more sigmoid in WGAN, we take the mean now\n",
    "        # Size = 1 x 1 x 1 (Is a real cat or not?)\n",
    "        self.main = main\n",
    "        \n",
    "    def forward(self,input):\n",
    "        if isinstance(input.data,torch.cuda.FloatTensor) and param.n_gpu>1:\n",
    "            output = torch.nn.parallel.data_parallel(self.main,input,range(param.n_gpu))\n",
    "        else:\n",
    "            output = self.main(input)\n",
    "            \n",
    "            # Convert from 1 x 1 x 1 to 1 so that we can compare to given label (cat or not?)\n",
    "        return output.view(-1)\n",
    "        \n",
    "## weights init function, DCGAN use 0.02 std\n",
    "def weights_init(m):\n",
    "    classname = m.__class__.__name__\n",
    "    if classname.find('Conv') != -1:\n",
    "        m.weight.data.normal_(0.0,0.02)\n",
    "    elif classname.find('BatchNorm') != -1:\n",
    "        # estimate variance, must be around 1\n",
    "        m.weight.data.normal_(1.0,0.02)\n",
    "        # estimate mean, must be around 0\n",
    "        m.bias.data.fill_(0)\n",
    "        \n",
    "# Init\n",
    "G = DCGAN_G()\n",
    "D = DCGAN_D()\n",
    "\n",
    "G.apply(weights_init)\n",
    "D.apply(weights_init)\n",
    "\n",
    "# Load existing models\n",
    "if param.G_load !='':\n",
    "    G.load_state_dict(torch.load(param.G_load))\n",
    "if param.D_load !='':\n",
    "    D.load_state_dict(torch.load(param.D_load))\n",
    "    \n",
    "print(G)\n",
    "# print(G,file=log_output)\n",
    "print(D)\n",
    "# print(D,file=log_output)\n",
    "\n",
    "# criterion\n",
    "# criterion = torch.nn.BCELoss()\n",
    "\n",
    "z_test = torch.FloatTensor(param.batch_size,param.z_size,1,1).normal_(0,1)\n",
    "# For the gradients, we need to specify which one we want and want them all\n",
    "grad_outputs = torch.ones(param.batch_size)\n",
    "one = torch.FloatTensor([1])\n",
    "one_neg = one * -1\n",
    "\n",
    "# Everthing cuda\n",
    "\n",
    "G = G.to(device)\n",
    "D = D.to(device)\n",
    "# criterion = criterion.to(device)\n",
    "z_test = z_test.to(device)\n",
    "one = one.to(device)\n",
    "one_neg = one_neg.to(device)\n",
    "grad_outputs = grad_outputs.to(device)\n",
    "\n",
    "# Based on DCGAN paper, they found using betas[0]=0.50 better.\n",
    "# betas[0] represent is the weight given to the previous mean of the gradient\n",
    "# betas[1] is the weight given to the previous variance of the gradient\n",
    "# Optimizer\n",
    "# Optimizer\n",
    "optimizerD = torch.optim.Adam(D.parameters(), lr=param.lr_D, betas=(param.beta1, param.beta2))\n",
    "optimizerG = torch.optim.Adam(G.parameters(), lr=param.lr_G, betas=(param.beta1, param.beta2))"
   ]
  },
  {
   "cell_type": "code",
   "execution_count": null,
   "id": "27b86ea7-2b38-428c-ba9b-1e9144d5f598",
   "metadata": {
    "tags": []
   },
   "outputs": [
    {
     "name": "stdout",
     "output_type": "stream",
     "text": [
      "[i=0] W_distance: -29.6270 W_distance_penalty: -29.2397 Loss_G: -6.7931\n"
     ]
    },
    {
     "name": "stderr",
     "output_type": "stream",
     "text": [
      "\u001b[34m\u001b[1mwandb\u001b[0m: Adding directory to artifact (./WGAN_GP_output/run-2/models)... Done. 0.6s\n"
     ]
    },
    {
     "name": "stdout",
     "output_type": "stream",
     "text": [
      "[i=500] W_distance: -8.8274 W_distance_penalty: -8.0076 Loss_G: 1.5617\n"
     ]
    },
    {
     "name": "stderr",
     "output_type": "stream",
     "text": [
      "\u001b[34m\u001b[1mwandb\u001b[0m: Adding directory to artifact (./WGAN_GP_output/run-2/models)... Done. 2.2s\n"
     ]
    },
    {
     "name": "stdout",
     "output_type": "stream",
     "text": [
      "[i=1000] W_distance: -4.6913 W_distance_penalty: -4.4638 Loss_G: 8.0385\n"
     ]
    },
    {
     "name": "stderr",
     "output_type": "stream",
     "text": [
      "\u001b[34m\u001b[1mwandb\u001b[0m: Adding directory to artifact (./WGAN_GP_output/run-2/models)... Done. 0.9s\n"
     ]
    },
    {
     "name": "stdout",
     "output_type": "stream",
     "text": [
      "[i=1500] W_distance: -5.3450 W_distance_penalty: -5.0231 Loss_G: -3.8431\n"
     ]
    },
    {
     "name": "stderr",
     "output_type": "stream",
     "text": [
      "\u001b[34m\u001b[1mwandb\u001b[0m: Adding directory to artifact (./WGAN_GP_output/run-2/models)... Done. 0.6s\n"
     ]
    },
    {
     "name": "stdout",
     "output_type": "stream",
     "text": [
      "[i=2000] W_distance: -5.0039 W_distance_penalty: -4.7318 Loss_G: 6.2458\n"
     ]
    },
    {
     "name": "stderr",
     "output_type": "stream",
     "text": [
      "\u001b[34m\u001b[1mwandb\u001b[0m: Adding directory to artifact (./WGAN_GP_output/run-2/models)... Done. 0.6s\n"
     ]
    },
    {
     "name": "stdout",
     "output_type": "stream",
     "text": [
      "[i=2500] W_distance: -3.2838 W_distance_penalty: -3.0831 Loss_G: 0.2524\n"
     ]
    },
    {
     "name": "stderr",
     "output_type": "stream",
     "text": [
      "\u001b[34m\u001b[1mwandb\u001b[0m: Adding directory to artifact (./WGAN_GP_output/run-2/models)... Done. 0.9s\n"
     ]
    },
    {
     "name": "stdout",
     "output_type": "stream",
     "text": [
      "[i=3000] W_distance: -3.7654 W_distance_penalty: -3.5394 Loss_G: -2.2552\n"
     ]
    },
    {
     "name": "stderr",
     "output_type": "stream",
     "text": [
      "\u001b[34m\u001b[1mwandb\u001b[0m: Adding directory to artifact (./WGAN_GP_output/run-2/models)... Done. 1.0s\n"
     ]
    },
    {
     "name": "stdout",
     "output_type": "stream",
     "text": [
      "[i=3500] W_distance: -3.3543 W_distance_penalty: -3.1149 Loss_G: 0.0748\n"
     ]
    },
    {
     "name": "stderr",
     "output_type": "stream",
     "text": [
      "\u001b[34m\u001b[1mwandb\u001b[0m: Adding directory to artifact (./WGAN_GP_output/run-2/models)... Done. 1.2s\n"
     ]
    },
    {
     "name": "stdout",
     "output_type": "stream",
     "text": [
      "[i=4000] W_distance: -4.7840 W_distance_penalty: -4.3649 Loss_G: 9.4290\n"
     ]
    },
    {
     "name": "stderr",
     "output_type": "stream",
     "text": [
      "\u001b[34m\u001b[1mwandb\u001b[0m: Adding directory to artifact (./WGAN_GP_output/run-2/models)... Done. 1.0s\n"
     ]
    },
    {
     "name": "stdout",
     "output_type": "stream",
     "text": [
      "[i=4500] W_distance: -5.1305 W_distance_penalty: -4.8437 Loss_G: -1.0097\n"
     ]
    },
    {
     "name": "stderr",
     "output_type": "stream",
     "text": [
      "\u001b[34m\u001b[1mwandb\u001b[0m: Adding directory to artifact (./WGAN_GP_output/run-2/models)... Done. 1.1s\n"
     ]
    },
    {
     "name": "stdout",
     "output_type": "stream",
     "text": [
      "[i=5000] W_distance: -3.7358 W_distance_penalty: -3.4560 Loss_G: -3.5640\n"
     ]
    },
    {
     "name": "stderr",
     "output_type": "stream",
     "text": [
      "\u001b[34m\u001b[1mwandb\u001b[0m: Adding directory to artifact (./WGAN_GP_output/run-2/models)... Done. 1.9s\n"
     ]
    },
    {
     "name": "stdout",
     "output_type": "stream",
     "text": [
      "[i=5500] W_distance: -5.7673 W_distance_penalty: -5.4575 Loss_G: 1.2575\n"
     ]
    },
    {
     "name": "stderr",
     "output_type": "stream",
     "text": [
      "\u001b[34m\u001b[1mwandb\u001b[0m: Adding directory to artifact (./WGAN_GP_output/run-2/models)... Done. 1.2s\n"
     ]
    },
    {
     "name": "stdout",
     "output_type": "stream",
     "text": [
      "[i=6000] W_distance: -4.2496 W_distance_penalty: -3.9306 Loss_G: 1.8373\n"
     ]
    },
    {
     "name": "stderr",
     "output_type": "stream",
     "text": [
      "\u001b[34m\u001b[1mwandb\u001b[0m: Adding directory to artifact (./WGAN_GP_output/run-2/models)... Done. 1.2s\n"
     ]
    },
    {
     "name": "stdout",
     "output_type": "stream",
     "text": [
      "[i=6500] W_distance: -4.5587 W_distance_penalty: -4.2385 Loss_G: -2.8471\n"
     ]
    },
    {
     "name": "stderr",
     "output_type": "stream",
     "text": [
      "\u001b[34m\u001b[1mwandb\u001b[0m: Adding directory to artifact (./WGAN_GP_output/run-2/models)... Done. 1.3s\n"
     ]
    },
    {
     "name": "stdout",
     "output_type": "stream",
     "text": [
      "[i=7000] W_distance: -5.0273 W_distance_penalty: -4.6249 Loss_G: -4.3248\n"
     ]
    },
    {
     "name": "stderr",
     "output_type": "stream",
     "text": [
      "\u001b[34m\u001b[1mwandb\u001b[0m: Adding directory to artifact (./WGAN_GP_output/run-2/models)... Done. 1.3s\n"
     ]
    },
    {
     "name": "stdout",
     "output_type": "stream",
     "text": [
      "[i=7500] W_distance: -5.8121 W_distance_penalty: -5.2946 Loss_G: 4.4782\n"
     ]
    },
    {
     "name": "stderr",
     "output_type": "stream",
     "text": [
      "\u001b[34m\u001b[1mwandb\u001b[0m: Adding directory to artifact (./WGAN_GP_output/run-2/models)... Done. 1.8s\n"
     ]
    },
    {
     "name": "stdout",
     "output_type": "stream",
     "text": [
      "[i=8000] W_distance: -5.3256 W_distance_penalty: -4.6865 Loss_G: -1.2152\n"
     ]
    },
    {
     "name": "stderr",
     "output_type": "stream",
     "text": [
      "\u001b[34m\u001b[1mwandb\u001b[0m: Adding directory to artifact (./WGAN_GP_output/run-2/models)... Done. 2.3s\n"
     ]
    },
    {
     "name": "stdout",
     "output_type": "stream",
     "text": [
      "[i=8500] W_distance: -6.3585 W_distance_penalty: -5.9012 Loss_G: 0.1547\n"
     ]
    },
    {
     "name": "stderr",
     "output_type": "stream",
     "text": [
      "\u001b[34m\u001b[1mwandb\u001b[0m: Adding directory to artifact (./WGAN_GP_output/run-2/models)... Done. 1.6s\n"
     ]
    },
    {
     "name": "stdout",
     "output_type": "stream",
     "text": [
      "[i=9000] W_distance: -6.9283 W_distance_penalty: -6.3123 Loss_G: 1.9608\n"
     ]
    },
    {
     "name": "stderr",
     "output_type": "stream",
     "text": [
      "\u001b[34m\u001b[1mwandb\u001b[0m: Adding directory to artifact (./WGAN_GP_output/run-2/models)... Done. 1.6s\n"
     ]
    },
    {
     "name": "stdout",
     "output_type": "stream",
     "text": [
      "[i=9500] W_distance: -5.5413 W_distance_penalty: -4.8048 Loss_G: -0.5316\n"
     ]
    },
    {
     "name": "stderr",
     "output_type": "stream",
     "text": [
      "\u001b[34m\u001b[1mwandb\u001b[0m: Adding directory to artifact (./WGAN_GP_output/run-2/models)... Done. 1.8s\n"
     ]
    },
    {
     "name": "stdout",
     "output_type": "stream",
     "text": [
      "[i=10000] W_distance: -5.7257 W_distance_penalty: -5.0111 Loss_G: -0.0747\n"
     ]
    },
    {
     "name": "stderr",
     "output_type": "stream",
     "text": [
      "\u001b[34m\u001b[1mwandb\u001b[0m: Adding directory to artifact (./WGAN_GP_output/run-2/models)... Done. 1.8s\n"
     ]
    },
    {
     "name": "stdout",
     "output_type": "stream",
     "text": [
      "[i=10500] W_distance: -6.6697 W_distance_penalty: -5.7266 Loss_G: -3.8347\n"
     ]
    },
    {
     "name": "stderr",
     "output_type": "stream",
     "text": [
      "\u001b[34m\u001b[1mwandb\u001b[0m: Adding directory to artifact (./WGAN_GP_output/run-2/models)... Done. 1.9s\n"
     ]
    },
    {
     "name": "stdout",
     "output_type": "stream",
     "text": [
      "[i=11000] W_distance: -6.4197 W_distance_penalty: -5.5941 Loss_G: 1.5384\n"
     ]
    },
    {
     "name": "stderr",
     "output_type": "stream",
     "text": [
      "\u001b[34m\u001b[1mwandb\u001b[0m: Adding directory to artifact (./WGAN_GP_output/run-2/models)... Done. 2.2s\n"
     ]
    },
    {
     "name": "stdout",
     "output_type": "stream",
     "text": [
      "[i=11500] W_distance: -7.5916 W_distance_penalty: -6.6309 Loss_G: 4.9209\n"
     ]
    },
    {
     "name": "stderr",
     "output_type": "stream",
     "text": [
      "\u001b[34m\u001b[1mwandb\u001b[0m: Adding directory to artifact (./WGAN_GP_output/run-2/models)... Done. 3.1s\n"
     ]
    },
    {
     "name": "stdout",
     "output_type": "stream",
     "text": [
      "[i=12000] W_distance: -7.0983 W_distance_penalty: -6.3734 Loss_G: -3.5645\n"
     ]
    },
    {
     "name": "stderr",
     "output_type": "stream",
     "text": [
      "\u001b[34m\u001b[1mwandb\u001b[0m: Adding directory to artifact (./WGAN_GP_output/run-2/models)... Done. 2.1s\n"
     ]
    },
    {
     "name": "stdout",
     "output_type": "stream",
     "text": [
      "[i=12500] W_distance: -7.0163 W_distance_penalty: -6.0645 Loss_G: 2.2478\n"
     ]
    },
    {
     "name": "stderr",
     "output_type": "stream",
     "text": [
      "\u001b[34m\u001b[1mwandb\u001b[0m: Adding directory to artifact (./WGAN_GP_output/run-2/models)... Done. 2.1s\n"
     ]
    },
    {
     "name": "stdout",
     "output_type": "stream",
     "text": [
      "[i=13000] W_distance: -7.7303 W_distance_penalty: -6.6191 Loss_G: 4.3720\n"
     ]
    },
    {
     "name": "stderr",
     "output_type": "stream",
     "text": [
      "\u001b[34m\u001b[1mwandb\u001b[0m: Adding directory to artifact (./WGAN_GP_output/run-2/models)... Done. 2.5s\n"
     ]
    },
    {
     "name": "stdout",
     "output_type": "stream",
     "text": [
      "[i=13500] W_distance: -8.6508 W_distance_penalty: -7.6679 Loss_G: -5.9908\n"
     ]
    },
    {
     "name": "stderr",
     "output_type": "stream",
     "text": [
      "\u001b[34m\u001b[1mwandb\u001b[0m: Adding directory to artifact (./WGAN_GP_output/run-2/models)... Done. 3.3s\n"
     ]
    },
    {
     "name": "stdout",
     "output_type": "stream",
     "text": [
      "[i=14000] W_distance: -8.5202 W_distance_penalty: -7.3229 Loss_G: -2.8374\n"
     ]
    },
    {
     "name": "stderr",
     "output_type": "stream",
     "text": [
      "\u001b[34m\u001b[1mwandb\u001b[0m: Adding directory to artifact (./WGAN_GP_output/run-2/models)... Done. 2.6s\n"
     ]
    },
    {
     "name": "stdout",
     "output_type": "stream",
     "text": [
      "[i=14500] W_distance: -7.3450 W_distance_penalty: -6.4584 Loss_G: -1.1011\n"
     ]
    },
    {
     "name": "stderr",
     "output_type": "stream",
     "text": [
      "\u001b[34m\u001b[1mwandb\u001b[0m: Adding directory to artifact (./WGAN_GP_output/run-2/models)... Done. 2.5s\n"
     ]
    },
    {
     "name": "stdout",
     "output_type": "stream",
     "text": [
      "[i=15000] W_distance: -8.4840 W_distance_penalty: -7.1922 Loss_G: -3.1650\n"
     ]
    },
    {
     "name": "stderr",
     "output_type": "stream",
     "text": [
      "\u001b[34m\u001b[1mwandb\u001b[0m: Adding directory to artifact (./WGAN_GP_output/run-2/models)... Done. 2.6s\n"
     ]
    },
    {
     "name": "stdout",
     "output_type": "stream",
     "text": [
      "[i=15500] W_distance: -9.3157 W_distance_penalty: -8.3395 Loss_G: -4.2022\n"
     ]
    },
    {
     "name": "stderr",
     "output_type": "stream",
     "text": [
      "\u001b[34m\u001b[1mwandb\u001b[0m: Adding directory to artifact (./WGAN_GP_output/run-2/models)... Done. 2.7s\n"
     ]
    },
    {
     "name": "stdout",
     "output_type": "stream",
     "text": [
      "[i=16000] W_distance: -9.2882 W_distance_penalty: -8.0866 Loss_G: 5.4045\n"
     ]
    },
    {
     "name": "stderr",
     "output_type": "stream",
     "text": [
      "\u001b[34m\u001b[1mwandb\u001b[0m: Adding directory to artifact (./WGAN_GP_output/run-2/models)... Done. 2.8s\n"
     ]
    },
    {
     "name": "stdout",
     "output_type": "stream",
     "text": [
      "[i=16500] W_distance: -9.3561 W_distance_penalty: -8.1863 Loss_G: 2.7857\n"
     ]
    },
    {
     "name": "stderr",
     "output_type": "stream",
     "text": [
      "\u001b[34m\u001b[1mwandb\u001b[0m: Adding directory to artifact (./WGAN_GP_output/run-2/models)... Done. 3.2s\n"
     ]
    },
    {
     "name": "stdout",
     "output_type": "stream",
     "text": [
      "[i=17000] W_distance: -9.3769 W_distance_penalty: -8.0763 Loss_G: 0.8517\n"
     ]
    },
    {
     "name": "stderr",
     "output_type": "stream",
     "text": [
      "\u001b[34m\u001b[1mwandb\u001b[0m: Adding directory to artifact (./WGAN_GP_output/run-2/models)... Done. 4.5s\n"
     ]
    },
    {
     "name": "stdout",
     "output_type": "stream",
     "text": [
      "[i=17500] W_distance: -10.4046 W_distance_penalty: -9.1140 Loss_G: -1.3125\n"
     ]
    },
    {
     "name": "stderr",
     "output_type": "stream",
     "text": [
      "\u001b[34m\u001b[1mwandb\u001b[0m: Adding directory to artifact (./WGAN_GP_output/run-2/models)... Done. 4.3s\n"
     ]
    },
    {
     "name": "stdout",
     "output_type": "stream",
     "text": [
      "[i=18000] W_distance: -10.1768 W_distance_penalty: -8.9841 Loss_G: -1.0976\n"
     ]
    },
    {
     "name": "stderr",
     "output_type": "stream",
     "text": [
      "\u001b[34m\u001b[1mwandb\u001b[0m: Adding directory to artifact (./WGAN_GP_output/run-2/models)... Done. 7.1s\n"
     ]
    },
    {
     "name": "stdout",
     "output_type": "stream",
     "text": [
      "[i=18500] W_distance: -10.4682 W_distance_penalty: -9.1331 Loss_G: 3.2241\n"
     ]
    },
    {
     "name": "stderr",
     "output_type": "stream",
     "text": [
      "\u001b[34m\u001b[1mwandb\u001b[0m: Adding directory to artifact (./WGAN_GP_output/run-2/models)... Done. 8.9s\n"
     ]
    },
    {
     "name": "stdout",
     "output_type": "stream",
     "text": [
      "[i=19000] W_distance: -9.3341 W_distance_penalty: -8.0669 Loss_G: 5.3088\n"
     ]
    },
    {
     "name": "stderr",
     "output_type": "stream",
     "text": [
      "\u001b[34m\u001b[1mwandb\u001b[0m: Adding directory to artifact (./WGAN_GP_output/run-2/models)... Done. 11.0s\n"
     ]
    },
    {
     "name": "stdout",
     "output_type": "stream",
     "text": [
      "[i=19500] W_distance: -11.4622 W_distance_penalty: -9.6794 Loss_G: 2.7479\n"
     ]
    },
    {
     "name": "stderr",
     "output_type": "stream",
     "text": [
      "\u001b[34m\u001b[1mwandb\u001b[0m: Adding directory to artifact (./WGAN_GP_output/run-2/models)... Done. 13.9s\n"
     ]
    },
    {
     "name": "stdout",
     "output_type": "stream",
     "text": [
      "[i=20000] W_distance: -10.6760 W_distance_penalty: -9.0787 Loss_G: -1.7327\n"
     ]
    },
    {
     "name": "stderr",
     "output_type": "stream",
     "text": [
      "\u001b[34m\u001b[1mwandb\u001b[0m: Adding directory to artifact (./WGAN_GP_output/run-2/models)... Done. 10.1s\n"
     ]
    },
    {
     "name": "stdout",
     "output_type": "stream",
     "text": [
      "[i=20500] W_distance: -11.9600 W_distance_penalty: -10.4171 Loss_G: 11.8476\n"
     ]
    },
    {
     "name": "stderr",
     "output_type": "stream",
     "text": [
      "\u001b[34m\u001b[1mwandb\u001b[0m: Adding directory to artifact (./WGAN_GP_output/run-2/models)... Done. 12.0s\n"
     ]
    },
    {
     "name": "stdout",
     "output_type": "stream",
     "text": [
      "[i=21000] W_distance: -10.0841 W_distance_penalty: -8.3678 Loss_G: -2.8258\n"
     ]
    },
    {
     "name": "stderr",
     "output_type": "stream",
     "text": [
      "\u001b[34m\u001b[1mwandb\u001b[0m: Adding directory to artifact (./WGAN_GP_output/run-2/models)... Done. 15.4s\n"
     ]
    },
    {
     "name": "stdout",
     "output_type": "stream",
     "text": [
      "[i=21500] W_distance: -10.0479 W_distance_penalty: -8.0613 Loss_G: -5.4002\n"
     ]
    },
    {
     "name": "stderr",
     "output_type": "stream",
     "text": [
      "\u001b[34m\u001b[1mwandb\u001b[0m: Adding directory to artifact (./WGAN_GP_output/run-2/models)... Done. 18.5s\n"
     ]
    },
    {
     "name": "stdout",
     "output_type": "stream",
     "text": [
      "[i=22000] W_distance: -12.1224 W_distance_penalty: -10.2992 Loss_G: -1.4961\n"
     ]
    },
    {
     "name": "stderr",
     "output_type": "stream",
     "text": [
      "\u001b[34m\u001b[1mwandb\u001b[0m: Adding directory to artifact (./WGAN_GP_output/run-2/models)... Done. 14.4s\n"
     ]
    },
    {
     "name": "stdout",
     "output_type": "stream",
     "text": [
      "[i=22500] W_distance: -9.9661 W_distance_penalty: -8.2059 Loss_G: -1.3433\n"
     ]
    },
    {
     "name": "stderr",
     "output_type": "stream",
     "text": [
      "\u001b[34m\u001b[1mwandb\u001b[0m: Adding directory to artifact (./WGAN_GP_output/run-2/models)... Done. 28.6s\n"
     ]
    },
    {
     "name": "stdout",
     "output_type": "stream",
     "text": [
      "[i=23000] W_distance: -10.1122 W_distance_penalty: -8.2604 Loss_G: -6.3649\n"
     ]
    },
    {
     "name": "stderr",
     "output_type": "stream",
     "text": [
      "\u001b[34m\u001b[1mwandb\u001b[0m: Adding directory to artifact (./WGAN_GP_output/run-2/models)... Done. 31.2s\n"
     ]
    },
    {
     "name": "stdout",
     "output_type": "stream",
     "text": [
      "[i=23500] W_distance: -13.6357 W_distance_penalty: -11.7141 Loss_G: 1.4832\n"
     ]
    },
    {
     "name": "stderr",
     "output_type": "stream",
     "text": [
      "\u001b[34m\u001b[1mwandb\u001b[0m: Adding directory to artifact (./WGAN_GP_output/run-2/models)... Done. 38.9s\n"
     ]
    },
    {
     "name": "stdout",
     "output_type": "stream",
     "text": [
      "[i=24000] W_distance: -12.0274 W_distance_penalty: -10.2822 Loss_G: -0.5205\n"
     ]
    },
    {
     "name": "stderr",
     "output_type": "stream",
     "text": [
      "\u001b[34m\u001b[1mwandb\u001b[0m: Adding directory to artifact (./WGAN_GP_output/run-2/models)... Done. 39.7s\n"
     ]
    },
    {
     "name": "stdout",
     "output_type": "stream",
     "text": [
      "[i=24500] W_distance: -12.3489 W_distance_penalty: -10.0322 Loss_G: -0.4108\n"
     ]
    },
    {
     "name": "stderr",
     "output_type": "stream",
     "text": [
      "\u001b[34m\u001b[1mwandb\u001b[0m: Adding directory to artifact (./WGAN_GP_output/run-2/models)... Done. 43.4s\n"
     ]
    },
    {
     "name": "stdout",
     "output_type": "stream",
     "text": [
      "[i=25000] W_distance: -13.4231 W_distance_penalty: -11.7696 Loss_G: -0.7007\n"
     ]
    },
    {
     "name": "stderr",
     "output_type": "stream",
     "text": [
      "\u001b[34m\u001b[1mwandb\u001b[0m: Adding directory to artifact (./WGAN_GP_output/run-2/models)... Done. 4.6s\n"
     ]
    },
    {
     "name": "stdout",
     "output_type": "stream",
     "text": [
      "[i=25500] W_distance: -12.8400 W_distance_penalty: -10.8573 Loss_G: 0.6241\n"
     ]
    },
    {
     "name": "stderr",
     "output_type": "stream",
     "text": [
      "\u001b[34m\u001b[1mwandb\u001b[0m: Adding directory to artifact (./WGAN_GP_output/run-2/models)... Done. 1.1s\n"
     ]
    },
    {
     "name": "stdout",
     "output_type": "stream",
     "text": [
      "[i=26000] W_distance: -14.9430 W_distance_penalty: -12.5381 Loss_G: 2.0376\n"
     ]
    },
    {
     "name": "stderr",
     "output_type": "stream",
     "text": [
      "\u001b[34m\u001b[1mwandb\u001b[0m: Adding directory to artifact (./WGAN_GP_output/run-2/models)... Done. 1.2s\n"
     ]
    },
    {
     "name": "stdout",
     "output_type": "stream",
     "text": [
      "[i=26500] W_distance: -13.3492 W_distance_penalty: -11.3195 Loss_G: 2.0427\n"
     ]
    },
    {
     "name": "stderr",
     "output_type": "stream",
     "text": [
      "\u001b[34m\u001b[1mwandb\u001b[0m: Adding directory to artifact (./WGAN_GP_output/run-2/models)... Done. 1.2s\n"
     ]
    },
    {
     "name": "stdout",
     "output_type": "stream",
     "text": [
      "[i=27000] W_distance: -13.7779 W_distance_penalty: -11.6462 Loss_G: -4.5172\n"
     ]
    },
    {
     "name": "stderr",
     "output_type": "stream",
     "text": [
      "\u001b[34m\u001b[1mwandb\u001b[0m: Adding directory to artifact (./WGAN_GP_output/run-2/models)... Done. 1.3s\n"
     ]
    },
    {
     "name": "stdout",
     "output_type": "stream",
     "text": [
      "[i=27500] W_distance: -14.0394 W_distance_penalty: -11.6549 Loss_G: 0.8101\n"
     ]
    },
    {
     "name": "stderr",
     "output_type": "stream",
     "text": [
      "\u001b[34m\u001b[1mwandb\u001b[0m: Adding directory to artifact (./WGAN_GP_output/run-2/models)... Done. 1.5s\n"
     ]
    },
    {
     "name": "stdout",
     "output_type": "stream",
     "text": [
      "[i=28000] W_distance: -13.7801 W_distance_penalty: -11.5362 Loss_G: -5.8530\n"
     ]
    },
    {
     "name": "stderr",
     "output_type": "stream",
     "text": [
      "\u001b[34m\u001b[1mwandb\u001b[0m: Adding directory to artifact (./WGAN_GP_output/run-2/models)... Done. 1.7s\n"
     ]
    },
    {
     "name": "stdout",
     "output_type": "stream",
     "text": [
      "[i=28500] W_distance: -13.1889 W_distance_penalty: -10.7547 Loss_G: -0.8931\n"
     ]
    },
    {
     "name": "stderr",
     "output_type": "stream",
     "text": [
      "\u001b[34m\u001b[1mwandb\u001b[0m: Adding directory to artifact (./WGAN_GP_output/run-2/models)... Done. 1.9s\n"
     ]
    },
    {
     "name": "stdout",
     "output_type": "stream",
     "text": [
      "[i=29000] W_distance: -11.0979 W_distance_penalty: -8.9459 Loss_G: -7.9799\n"
     ]
    },
    {
     "name": "stderr",
     "output_type": "stream",
     "text": [
      "\u001b[34m\u001b[1mwandb\u001b[0m: Adding directory to artifact (./WGAN_GP_output/run-2/models)... Done. 1.8s\n"
     ]
    },
    {
     "name": "stdout",
     "output_type": "stream",
     "text": [
      "[i=29500] W_distance: -13.0997 W_distance_penalty: -10.7859 Loss_G: -1.1543\n"
     ]
    },
    {
     "name": "stderr",
     "output_type": "stream",
     "text": [
      "\u001b[34m\u001b[1mwandb\u001b[0m: Adding directory to artifact (./WGAN_GP_output/run-2/models)... Done. 1.7s\n"
     ]
    },
    {
     "name": "stdout",
     "output_type": "stream",
     "text": [
      "[i=30000] W_distance: -14.2489 W_distance_penalty: -12.3216 Loss_G: 1.3676\n"
     ]
    },
    {
     "name": "stderr",
     "output_type": "stream",
     "text": [
      "\u001b[34m\u001b[1mwandb\u001b[0m: Adding directory to artifact (./WGAN_GP_output/run-2/models)... Done. 2.5s\n"
     ]
    },
    {
     "name": "stdout",
     "output_type": "stream",
     "text": [
      "[i=30500] W_distance: -16.5681 W_distance_penalty: -13.7511 Loss_G: 0.6693\n"
     ]
    },
    {
     "name": "stderr",
     "output_type": "stream",
     "text": [
      "\u001b[34m\u001b[1mwandb\u001b[0m: Adding directory to artifact (./WGAN_GP_output/run-2/models)... Done. 2.2s\n"
     ]
    },
    {
     "name": "stdout",
     "output_type": "stream",
     "text": [
      "[i=31000] W_distance: -16.6323 W_distance_penalty: -13.8888 Loss_G: 2.1004\n"
     ]
    },
    {
     "name": "stderr",
     "output_type": "stream",
     "text": [
      "\u001b[34m\u001b[1mwandb\u001b[0m: Adding directory to artifact (./WGAN_GP_output/run-2/models)... Done. 4.9s\n"
     ]
    },
    {
     "name": "stdout",
     "output_type": "stream",
     "text": [
      "[i=31500] W_distance: -13.5713 W_distance_penalty: -11.2521 Loss_G: -3.4909\n"
     ]
    },
    {
     "name": "stderr",
     "output_type": "stream",
     "text": [
      "\u001b[34m\u001b[1mwandb\u001b[0m: Adding directory to artifact (./WGAN_GP_output/run-2/models)... Done. 0.6s\n"
     ]
    },
    {
     "name": "stdout",
     "output_type": "stream",
     "text": [
      "[i=32000] W_distance: -14.2842 W_distance_penalty: -11.8999 Loss_G: -2.7615\n"
     ]
    },
    {
     "name": "stderr",
     "output_type": "stream",
     "text": [
      "\u001b[34m\u001b[1mwandb\u001b[0m: Adding directory to artifact (./WGAN_GP_output/run-2/models)... Done. 0.6s\n"
     ]
    },
    {
     "name": "stdout",
     "output_type": "stream",
     "text": [
      "[i=32500] W_distance: -17.9580 W_distance_penalty: -14.9421 Loss_G: -0.9489\n"
     ]
    },
    {
     "name": "stderr",
     "output_type": "stream",
     "text": [
      "\u001b[34m\u001b[1mwandb\u001b[0m: Adding directory to artifact (./WGAN_GP_output/run-2/models)... Done. 1.2s\n"
     ]
    },
    {
     "name": "stdout",
     "output_type": "stream",
     "text": [
      "[i=33000] W_distance: -14.5384 W_distance_penalty: -12.1847 Loss_G: -2.3003\n"
     ]
    },
    {
     "name": "stderr",
     "output_type": "stream",
     "text": [
      "\u001b[34m\u001b[1mwandb\u001b[0m: Adding directory to artifact (./WGAN_GP_output/run-2/models)... Done. 0.8s\n"
     ]
    },
    {
     "name": "stdout",
     "output_type": "stream",
     "text": [
      "[i=33500] W_distance: -13.5327 W_distance_penalty: -11.0454 Loss_G: 0.5197\n"
     ]
    },
    {
     "name": "stderr",
     "output_type": "stream",
     "text": [
      "\u001b[34m\u001b[1mwandb\u001b[0m: Adding directory to artifact (./WGAN_GP_output/run-2/models)... Done. 1.0s\n"
     ]
    },
    {
     "name": "stdout",
     "output_type": "stream",
     "text": [
      "[i=34000] W_distance: -13.7722 W_distance_penalty: -10.6590 Loss_G: 1.4241\n"
     ]
    },
    {
     "name": "stderr",
     "output_type": "stream",
     "text": [
      "\u001b[34m\u001b[1mwandb\u001b[0m: Adding directory to artifact (./WGAN_GP_output/run-2/models)... Done. 1.1s\n"
     ]
    },
    {
     "name": "stdout",
     "output_type": "stream",
     "text": [
      "[i=34500] W_distance: -15.3227 W_distance_penalty: -12.4521 Loss_G: -2.8666\n"
     ]
    },
    {
     "name": "stderr",
     "output_type": "stream",
     "text": [
      "\u001b[34m\u001b[1mwandb\u001b[0m: Adding directory to artifact (./WGAN_GP_output/run-2/models)... Done. 1.2s\n"
     ]
    },
    {
     "name": "stdout",
     "output_type": "stream",
     "text": [
      "[i=35000] W_distance: -16.4211 W_distance_penalty: -13.9310 Loss_G: -1.4188\n"
     ]
    },
    {
     "name": "stderr",
     "output_type": "stream",
     "text": [
      "\u001b[34m\u001b[1mwandb\u001b[0m: Adding directory to artifact (./WGAN_GP_output/run-2/models)... Done. 1.2s\n"
     ]
    },
    {
     "name": "stdout",
     "output_type": "stream",
     "text": [
      "[i=35500] W_distance: -14.2829 W_distance_penalty: -11.7866 Loss_G: -4.4255\n"
     ]
    },
    {
     "name": "stderr",
     "output_type": "stream",
     "text": [
      "\u001b[34m\u001b[1mwandb\u001b[0m: Adding directory to artifact (./WGAN_GP_output/run-2/models)... Done. 1.3s\n"
     ]
    },
    {
     "name": "stdout",
     "output_type": "stream",
     "text": [
      "[i=36000] W_distance: -14.5791 W_distance_penalty: -11.9780 Loss_G: -2.5108\n"
     ]
    },
    {
     "name": "stderr",
     "output_type": "stream",
     "text": [
      "\u001b[34m\u001b[1mwandb\u001b[0m: Adding directory to artifact (./WGAN_GP_output/run-2/models)... Done. 1.6s\n"
     ]
    },
    {
     "name": "stdout",
     "output_type": "stream",
     "text": [
      "[i=36500] W_distance: -16.5008 W_distance_penalty: -13.5973 Loss_G: 3.4845\n"
     ]
    },
    {
     "name": "stderr",
     "output_type": "stream",
     "text": [
      "\u001b[34m\u001b[1mwandb\u001b[0m: Adding directory to artifact (./WGAN_GP_output/run-2/models)... Done. 1.6s\n"
     ]
    },
    {
     "name": "stdout",
     "output_type": "stream",
     "text": [
      "[i=37000] W_distance: -16.4092 W_distance_penalty: -13.6529 Loss_G: 1.3100\n"
     ]
    },
    {
     "name": "stderr",
     "output_type": "stream",
     "text": [
      "\u001b[34m\u001b[1mwandb\u001b[0m: Adding directory to artifact (./WGAN_GP_output/run-2/models)... Done. 1.6s\n"
     ]
    },
    {
     "name": "stdout",
     "output_type": "stream",
     "text": [
      "[i=37500] W_distance: -16.7388 W_distance_penalty: -13.7380 Loss_G: 0.2991\n"
     ]
    },
    {
     "name": "stderr",
     "output_type": "stream",
     "text": [
      "\u001b[34m\u001b[1mwandb\u001b[0m: Adding directory to artifact (./WGAN_GP_output/run-2/models)... Done. 1.9s\n"
     ]
    },
    {
     "name": "stdout",
     "output_type": "stream",
     "text": [
      "[i=38000] W_distance: -16.2200 W_distance_penalty: -12.8970 Loss_G: 2.9219\n"
     ]
    },
    {
     "name": "stderr",
     "output_type": "stream",
     "text": [
      "\u001b[34m\u001b[1mwandb\u001b[0m: Adding directory to artifact (./WGAN_GP_output/run-2/models)... Done. 0.5s\n"
     ]
    },
    {
     "name": "stdout",
     "output_type": "stream",
     "text": [
      "[i=38500] W_distance: -15.7582 W_distance_penalty: -13.1059 Loss_G: 3.9548\n"
     ]
    },
    {
     "name": "stderr",
     "output_type": "stream",
     "text": [
      "\u001b[34m\u001b[1mwandb\u001b[0m: Adding directory to artifact (./WGAN_GP_output/run-2/models)... Done. 0.5s\n"
     ]
    },
    {
     "name": "stdout",
     "output_type": "stream",
     "text": [
      "[i=39000] W_distance: -16.6971 W_distance_penalty: -13.4711 Loss_G: -7.4450\n"
     ]
    },
    {
     "name": "stderr",
     "output_type": "stream",
     "text": [
      "\u001b[34m\u001b[1mwandb\u001b[0m: Adding directory to artifact (./WGAN_GP_output/run-2/models)... Done. 0.6s\n"
     ]
    },
    {
     "name": "stdout",
     "output_type": "stream",
     "text": [
      "[i=39500] W_distance: -17.0563 W_distance_penalty: -13.5774 Loss_G: 6.2925\n"
     ]
    },
    {
     "name": "stderr",
     "output_type": "stream",
     "text": [
      "\u001b[34m\u001b[1mwandb\u001b[0m: Adding directory to artifact (./WGAN_GP_output/run-2/models)... Done. 0.6s\n"
     ]
    },
    {
     "name": "stdout",
     "output_type": "stream",
     "text": [
      "[i=40000] W_distance: -18.4368 W_distance_penalty: -15.5585 Loss_G: 2.7341\n"
     ]
    },
    {
     "name": "stderr",
     "output_type": "stream",
     "text": [
      "\u001b[34m\u001b[1mwandb\u001b[0m: Adding directory to artifact (./WGAN_GP_output/run-2/models)... Done. 0.9s\n"
     ]
    },
    {
     "name": "stdout",
     "output_type": "stream",
     "text": [
      "[i=40500] W_distance: -17.6476 W_distance_penalty: -15.0471 Loss_G: -1.7239\n"
     ]
    },
    {
     "name": "stderr",
     "output_type": "stream",
     "text": [
      "\u001b[34m\u001b[1mwandb\u001b[0m: Adding directory to artifact (./WGAN_GP_output/run-2/models)... Done. 1.0s\n"
     ]
    },
    {
     "name": "stdout",
     "output_type": "stream",
     "text": [
      "[i=41000] W_distance: -17.5899 W_distance_penalty: -14.9370 Loss_G: 8.4816\n"
     ]
    },
    {
     "name": "stderr",
     "output_type": "stream",
     "text": [
      "\u001b[34m\u001b[1mwandb\u001b[0m: Adding directory to artifact (./WGAN_GP_output/run-2/models)... Done. 1.7s\n"
     ]
    },
    {
     "name": "stdout",
     "output_type": "stream",
     "text": [
      "[i=41500] W_distance: -15.6229 W_distance_penalty: -12.9862 Loss_G: 0.2531\n"
     ]
    },
    {
     "name": "stderr",
     "output_type": "stream",
     "text": [
      "\u001b[34m\u001b[1mwandb\u001b[0m: Adding directory to artifact (./WGAN_GP_output/run-2/models)... Done. 0.4s\n"
     ]
    },
    {
     "name": "stdout",
     "output_type": "stream",
     "text": [
      "[i=42000] W_distance: -14.7312 W_distance_penalty: -11.7438 Loss_G: -1.6671\n"
     ]
    },
    {
     "name": "stderr",
     "output_type": "stream",
     "text": [
      "\u001b[34m\u001b[1mwandb\u001b[0m: Adding directory to artifact (./WGAN_GP_output/run-2/models)... Done. 0.5s\n"
     ]
    },
    {
     "name": "stdout",
     "output_type": "stream",
     "text": [
      "[i=42500] W_distance: -17.2849 W_distance_penalty: -13.6872 Loss_G: -6.3278\n"
     ]
    },
    {
     "name": "stderr",
     "output_type": "stream",
     "text": [
      "\u001b[34m\u001b[1mwandb\u001b[0m: Adding directory to artifact (./WGAN_GP_output/run-2/models)... Done. 0.8s\n"
     ]
    },
    {
     "name": "stdout",
     "output_type": "stream",
     "text": [
      "[i=43000] W_distance: -19.1804 W_distance_penalty: -16.4593 Loss_G: 1.6743\n"
     ]
    },
    {
     "name": "stderr",
     "output_type": "stream",
     "text": [
      "\u001b[34m\u001b[1mwandb\u001b[0m: Adding directory to artifact (./WGAN_GP_output/run-2/models)... Done. 0.9s\n"
     ]
    },
    {
     "name": "stdout",
     "output_type": "stream",
     "text": [
      "[i=43500] W_distance: -19.3572 W_distance_penalty: -16.5279 Loss_G: -5.2480\n"
     ]
    },
    {
     "name": "stderr",
     "output_type": "stream",
     "text": [
      "\u001b[34m\u001b[1mwandb\u001b[0m: Adding directory to artifact (./WGAN_GP_output/run-2/models)... Done. 0.4s\n"
     ]
    },
    {
     "name": "stdout",
     "output_type": "stream",
     "text": [
      "[i=44000] W_distance: -20.7613 W_distance_penalty: -17.6508 Loss_G: 2.4197\n"
     ]
    },
    {
     "name": "stderr",
     "output_type": "stream",
     "text": [
      "\u001b[34m\u001b[1mwandb\u001b[0m: Adding directory to artifact (./WGAN_GP_output/run-2/models)... Done. 1.5s\n"
     ]
    },
    {
     "name": "stdout",
     "output_type": "stream",
     "text": [
      "[i=44500] W_distance: -15.3804 W_distance_penalty: -12.2377 Loss_G: 2.4279\n"
     ]
    },
    {
     "name": "stderr",
     "output_type": "stream",
     "text": [
      "\u001b[34m\u001b[1mwandb\u001b[0m: Adding directory to artifact (./WGAN_GP_output/run-2/models)... Done. 0.7s\n"
     ]
    }
   ],
   "source": [
    "def log_images(images):\n",
    "    img_grid = torchvision.utils.make_grid(images)\n",
    "    img = wandb.Image(img_grid)\n",
    "    wandb.log({\"examples\": img})\n",
    "\n",
    "## fitting model\n",
    "for i in range(param.n_iter):\n",
    "    # Fake images saved\n",
    "    if i % 500 == 0:\n",
    "        fake_test = G(z_test)\n",
    "        log_images(fake_test) \n",
    "        \n",
    "    for t in range(param.n_critic):\n",
    "        # Update D network\n",
    "        D.zero_grad()\n",
    "        \n",
    "        #Sample real data\n",
    "        real_images = random_sample.__next__()\n",
    "        real_images = real_images.to(device)\n",
    "        current_batch_size = real_images.size(0)\n",
    "        # Discriminator Loss real\n",
    "        errD_real = D(real_images)\n",
    "        errD_real = errD_real.mean().unsqueeze(0)\n",
    "        errD_real.backward(one_neg)\n",
    "        \n",
    "        # Sample fake data\n",
    "        z = torch.randn(current_batch_size,param.z_size,1,1).to(device)\n",
    "\t\t# Volatile requires less memory and make things sightly faster than detach(), so wy not use it with DCGAN?\n",
    "\t\t# Simply because we reuse the same fake images, but in WGAN we generate new fake images after training for a while the Discriminator\n",
    "        # z_volatile = Variable(z.data,volatile=True)\n",
    "        x_fake = G(z).detach()\n",
    "        # Discriminator Loss fake\n",
    "        errD_fake = D(x_fake)\n",
    "        errD_fake = errD_fake.mean().unsqueeze(0)\n",
    "        errD_fake.backward(one)\n",
    "\n",
    "        # Gradient penalty\n",
    "        u = torch.randn(param.batch_size,1,1,1).to(device)\n",
    "        x_both = real_images*u + x_fake*(1-u)\n",
    "        x_both = x_both.to(device)\n",
    "        # We only want the gradients with respect to x_both\n",
    "        x_both = Variable(x_both,requires_grad=True)\n",
    "        grad = torch.autograd.grad(outputs=D(x_both),inputs=x_both,grad_outputs=grad_outputs,retain_graph=True,create_graph=True,only_inputs=True)[0]\n",
    "        # We need to norm 3 times(over n_colors x image_size x image_size) to get only a vector of size \"batch_size\"\n",
    "        grad_penalty = param.penalty*((grad.norm(2,1).norm(2,1).norm(2,1)-1)**2).mean()\n",
    "        grad_penalty.backward()\n",
    "        # Optimize\n",
    "        errD_penalty = errD_fake-errD_real+grad_penalty\n",
    "        errD = errD_fake - errD_real\n",
    "        optimizerD.step()\n",
    "\n",
    "    G.zero_grad()\n",
    "    \n",
    "    # Sample fake data\n",
    "    z = torch.randn(current_batch_size,param.z_size,1,1).to(device)\n",
    "    x_fake = G(z)\n",
    "    # Generator Loss\n",
    "    errG = D(x_fake)\n",
    "    errG = errG.mean().unsqueeze(0)\n",
    "    errG.backward(one_neg)\n",
    "    optimizerG.step()\n",
    "\n",
    "    # Log results so we can see them in TensorBoard after\n",
    "    # log_value('errD',errD.item(),i)\n",
    "    # log_value('errG',errG.item(),i)\n",
    "    # log_value('errD_penalty',errD_penalty.item(),i)\n",
    "    metrics = {\"train/errD\": errD.item(), \n",
    "           \"train/errG\": errG.item(),\n",
    "              \"errD_penalty\":errD_penalty.item()}\n",
    "    wandb.log(metrics)\n",
    "\n",
    "    if i % 500 == 0:\n",
    "        print('[i=%d] W_distance: %.4f W_distance_penalty: %.4f Loss_G: %.4f' % (i, errD.item(), errD_penalty.item(), errG.item()))\n",
    "    # Save models\n",
    "    if i % 500 == 0:\n",
    "        torch.save(G.state_dict(), '%s/run-%d/models/G_%d.pth' % (param.output_folder, run, i))\n",
    "        torch.save(D.state_dict(), '%s/run-%d/models/D_%d.pth' % (param.output_folder, run, i))\n",
    "\n",
    "        fmt = '%s/run-%d/models/'\n",
    "        trained_model = wandb.Artifact(\"WGAN_GP_model_iter_{}\".format(i),type=\"model\")\n",
    "        trained_model.add_dir(fmt%(param.output_folder, run))\n",
    "        wb_run.log_artifact(trained_model)\n",
    "        \n",
    "wandb.finish()\n"
   ]
  },
  {
   "cell_type": "code",
   "execution_count": 10,
   "id": "465dc691-dc6f-454b-9ae9-ffe485661537",
   "metadata": {},
   "outputs": [
    {
     "data": {
      "text/plain": [
       "1"
      ]
     },
     "execution_count": 10,
     "metadata": {},
     "output_type": "execute_result"
    }
   ],
   "source": [
    "len(dataset)"
   ]
  },
  {
   "cell_type": "code",
   "execution_count": 32,
   "id": "48465c7e-b166-44be-ae1b-d83d16e973e1",
   "metadata": {},
   "outputs": [],
   "source": [
    "!cp -r cats_bigger_than_64x64/.ipynb_checkpoints ."
   ]
  },
  {
   "cell_type": "code",
   "execution_count": 37,
   "id": "933b81a1-48e8-487f-9383-6e70bc2b9a6a",
   "metadata": {},
   "outputs": [
    {
     "name": "stdout",
     "output_type": "stream",
     "text": [
      "ls: invalid option -- 'e'\n",
      "Try 'ls --help' for more information.\n"
     ]
    }
   ],
   "source": []
  },
  {
   "cell_type": "code",
   "execution_count": 39,
   "id": "e7695bbf-df44-4f40-8c85-a7caf6522862",
   "metadata": {},
   "outputs": [],
   "source": [
    "# !ls --help"
   ]
  },
  {
   "cell_type": "code",
   "execution_count": 45,
   "id": "a9c4f26d-b413-463a-9102-dcc9af7d3a41",
   "metadata": {},
   "outputs": [],
   "source": [
    "import os\n",
    "for file in os.listdir(\"cats_bigger_than_64x64\"):\n",
    "    if file.endswith(\".jpg\"):\n",
    "        continue\n",
    "    else:\n",
    "        print(file)"
   ]
  },
  {
   "cell_type": "code",
   "execution_count": 46,
   "id": "d98c8297-c408-4b77-b5fb-9bcdfceabfb1",
   "metadata": {},
   "outputs": [],
   "source": [
    "# !rm -r cats_bigger_than_64x64/.ipynb_checkpoints"
   ]
  },
  {
   "cell_type": "code",
   "execution_count": null,
   "id": "6d259de9-87cd-465e-b563-5d562cc30561",
   "metadata": {},
   "outputs": [],
   "source": []
  }
 ],
 "metadata": {
  "kernelspec": {
   "display_name": "Python 3 (ipykernel)",
   "language": "python",
   "name": "python3"
  },
  "language_info": {
   "codemirror_mode": {
    "name": "ipython",
    "version": 3
   },
   "file_extension": ".py",
   "mimetype": "text/x-python",
   "name": "python",
   "nbconvert_exporter": "python",
   "pygments_lexer": "ipython3",
   "version": "3.7.12"
  }
 },
 "nbformat": 4,
 "nbformat_minor": 5
}
